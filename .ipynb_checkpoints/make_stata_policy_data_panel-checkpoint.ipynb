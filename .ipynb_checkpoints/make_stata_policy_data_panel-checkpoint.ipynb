{
 "cells": [
  {
   "cell_type": "code",
   "execution_count": 70,
   "metadata": {},
   "outputs": [
    {
     "data": {
      "text/html": [
       "\n",
       "        <script>\n",
       "            function code_toggle_16787384994311268488() {\n",
       "                $('div.cell.code_cell.rendered.selected').find('div.input').toggle();\n",
       "            }\n",
       "\n",
       "            \n",
       "        </script>\n",
       "\n",
       "        <a href=\"javascript:code_toggle_16787384994311268488()\">Toggle IPython Code</a>\n",
       "    "
      ],
      "text/plain": [
       "<IPython.core.display.HTML object>"
      ]
     },
     "execution_count": 70,
     "metadata": {},
     "output_type": "execute_result"
    }
   ],
   "source": [
    "from IPython.display import HTML\n",
    "import random\n",
    "\n",
    "def hide_toggle(text='Toggle Code', for_next=False):\n",
    "    this_cell = \"\"\"$('div.cell.code_cell.rendered.selected')\"\"\"\n",
    "    next_cell = this_cell + '.next()'\n",
    "\n",
    "    toggle_text = text  # text shown on toggle link\n",
    "    target_cell = this_cell  # target cell to control with toggle\n",
    "    js_hide_current = ''  # bit of JS to permanently hide code in current cell (only when toggling next cell)\n",
    "\n",
    "    if for_next:\n",
    "        target_cell = next_cell\n",
    "        toggle_text += ' next cell'\n",
    "        js_hide_current = this_cell + '.find(\"div.input\").hide();'\n",
    "\n",
    "    js_f_name = 'code_toggle_{}'.format(str(random.randint(1,2**64)))\n",
    "\n",
    "    html = \"\"\"\n",
    "        <script>\n",
    "            function {f_name}() {{\n",
    "                {cell_selector}.find('div.input').toggle();\n",
    "            }}\n",
    "\n",
    "            {js_hide_current}\n",
    "        </script>\n",
    "\n",
    "        <a href=\"javascript:{f_name}()\">{toggle_text}</a>\n",
    "    \"\"\".format(\n",
    "        f_name=js_f_name,\n",
    "        cell_selector=target_cell,\n",
    "        js_hide_current=js_hide_current, \n",
    "        toggle_text=toggle_text\n",
    "    )\n",
    "\n",
    "    return HTML(html)\n",
    "\n",
    "hide_toggle(text='Toggle IPython Code')"
   ]
  },
  {
   "cell_type": "markdown",
   "metadata": {},
   "source": [
    "## The dataset will look like this\n",
    "\n",
    "Unit of observation is state-year from 2010-2019.  e.g. as many years as I have\n",
    "\n",
    "Outcomes are compiled using EIA 860 data on individual generating units [here](http://localhost:8888/notebooks/code/cleaning/clean_state_solar_plant_panel.ipynb)\n",
    "\n",
    "- Log capacity additions at grid-scale facilities > 1 MW (MW, DC and AC)\n",
    "- Number of new plants installed\n",
    "\n",
    "Policies are \n",
    "\n",
    "- Whether large-scale state tax credit program was available\n",
    "- State PURPA Rules as of 2020\n",
    "- Solar, DG, Total RPS targets in 2016 and 2025\n",
    "- Retail choice / rules around utility contracting\n",
    "\n",
    "Controls are \n",
    "\n",
    "- Log population\n",
    "- State GDP (in millions of dollars from BEA)\n",
    "- Log sales (MWh) \n",
    "- State capacity factor\n",
    "- State technical potential (MWh / Capacity Factor) = MW available \n",
    "- Year Dummy \n"
   ]
  },
  {
   "cell_type": "code",
   "execution_count": 71,
   "metadata": {
    "scrolled": true
   },
   "outputs": [
    {
     "data": {
      "text/html": [
       "\n",
       "        <script>\n",
       "            function code_toggle_797506400294460114() {\n",
       "                $('div.cell.code_cell.rendered.selected').find('div.input').toggle();\n",
       "            }\n",
       "\n",
       "            \n",
       "        </script>\n",
       "\n",
       "        <a href=\"javascript:code_toggle_797506400294460114()\">Show generic header</a>\n",
       "    "
      ],
      "text/plain": [
       "<IPython.core.display.HTML object>"
      ]
     },
     "execution_count": 71,
     "metadata": {},
     "output_type": "execute_result"
    }
   ],
   "source": [
    "#####################\n",
    "# set up workspace\n",
    "#####################\n",
    "\n",
    "import pandas as pd\n",
    "import numpy as np\n",
    "import os\n",
    "\n",
    "# set the homeDir to where the project directory is located\n",
    "homeDir = '/Users/rachelanderson/Dropbox (Princeton)/Research_V2/descriptive_solar/'\n",
    "\n",
    "# raw and clean data directories are located in the homeDir \n",
    "rawDataDir = homeDir + 'data/raw/'\n",
    "cleanDataDir =  homeDir + 'data/clean/'\n",
    "\n",
    "##########################################\n",
    "# Import helper functions\n",
    "##########################################\n",
    "\n",
    "# helper function to clean column names\n",
    "\n",
    "def clean_cols(cols):\n",
    "    clean_cols = cols.str.lower().str.replace(' ', '_').str.replace('?','')\n",
    "    clean_cols = clean_cols.str.replace('(','').str.replace(')','').str.replace('-','_')\n",
    "    return(clean_cols)\n",
    "\n",
    "hide_toggle('Show generic header')"
   ]
  },
  {
   "cell_type": "markdown",
   "metadata": {},
   "source": [
    "## State-Year Frame and Controls"
   ]
  },
  {
   "cell_type": "code",
   "execution_count": 72,
   "metadata": {},
   "outputs": [],
   "source": [
    "# State-year panel frame for 2005-2019\n",
    "state_panel_frame = pd.read_csv(cleanDataDir+'state_inputs/state_panel_frame.csv')\n",
    "\n",
    "# Merge in population data\n",
    "state_df = state_panel_frame.merge(pd.read_csv(cleanDataDir+'state_inputs/state_population.csv'), how = 'inner')\n",
    "state_df['log_pop'] = np.log(state_df['pop'])\n",
    "\n",
    "# Merge in acreage\n",
    "state_df = state_df.merge(pd.read_csv(cleanDataDir + 'state_inputs/state_acreage.csv'))\n",
    "\n",
    "# Merge in capacity factor \n",
    "state_df = state_df.merge(pd.read_csv(cleanDataDir + 'state_inputs/state_cf_nrel.csv'))\n",
    "\n",
    "# Merge in state sales\n",
    "sales = pd.read_csv(cleanDataDir + 'state_sales/state_sales_panel.csv')\n",
    "state_df = state_df.merge(sales[['year','state','tot_sales']])\n",
    "state_df['log_sales'] = np.log(state_df['tot_sales'])\n",
    "\n",
    "# Merge in state_gdp\n",
    "gdp = pd.read_csv(cleanDataDir + 'state_inputs/state_gdp_panel.csv')\n",
    "state_df = state_df.merge(gdp)"
   ]
  },
  {
   "cell_type": "code",
   "execution_count": 73,
   "metadata": {},
   "outputs": [],
   "source": [
    "# Dummy for retail choice\n",
    "# Dummy for RTO/ISO Region\n",
    "# Technical Potential from NREL "
   ]
  },
  {
   "cell_type": "code",
   "execution_count": 74,
   "metadata": {},
   "outputs": [],
   "source": [
    "# Dummy for RTO/ISO Region\n",
    "region_map = {\"WA\": \"Northwest\", \"OR\": \"Northwest\", \"ID\": \"Northwest\", \"MT\": \"Northwest\", \"WY\": \"Northwest\", \"NV\": \"Northwest\", \"UT\": \"Northwest\", \"CA\": \"CAISO\", \"AZ\": \"Southwest\", \"NM\": \"Southwest\", \"CO\": \"Southwest\", \"TX\": \"ERCOT\", \"OK\": \"SPP\", \"NE\": \"SPP\", \"SD\": \"SPP\", \"KS\": \"SPP\", \"ND\": \"MISO\", \"MN\": \"MISO\", \"IA\": \"MISO\", \"IL\": \"MISO\", \"MS\": \"MISO\", \"WI\": \"MISO\", \"LA\": \"MISO\", \"IN\": \"MISO\", \"MI\": \"MISO\", \"MO\": \"MISO\", \"AR\": \"MISO\", \"FL\": \"Southeast\", \"GA\": \"Southeast\", \"AL\": \"Southeast\", \"SC\": \"Southeast\", \"NC\": \"Southeast\", \"TN\": \"Southeast\", \"OH\": \"PJM\", \"KY\": \"PJM\", \"VA\": \"PJM\", \"WV\": \"PJM\", \"DE\": \"PJM\", \"PA\": \"PJM\", \"MD\": \"PJM\", \"NJ\": \"PJM\", \"NY\": \"NYISO\", \"VT\": \"ISO-NE\", \"NH\": \"ISO-NE\", \"MA\": \"ISO-NE\", \"CT\": \"ISO-NE\", \"RI\": \"ISO-NE\", \"ME\": \"ISO-NE\", \"HI\": \"Hawaii\", \"AK\": \"Alaska\", \"PR\": \"Puerto Rico\", \"DC\": \"District of Columbia\"}\n",
    "\n",
    "iso_rto = ['CAISO', 'SPP', 'MISO', 'ISO-NE', 'PJM', 'ERCOT']\n",
    "\n",
    "state_df['region'] = state_df.state.map(region_map)\n",
    "state_df['iso_rto'] = state_df.region.isin(iso_rto)\n",
    "state_df['iso_rto_dummy'] = [1 if x == True else 0 for x in state_df['iso_rto']]"
   ]
  },
  {
   "cell_type": "markdown",
   "metadata": {},
   "source": [
    "## Outcome variables"
   ]
  },
  {
   "cell_type": "code",
   "execution_count": 75,
   "metadata": {},
   "outputs": [],
   "source": [
    "# TO DO: Check how this one was cleaned; add link to script that cleans it\n",
    "state_solar=pd.read_csv(cleanDataDir + 'state_solar/state_micro_solar_2005-2019.csv')\n",
    "state_df = state_df.merge(state_solar)"
   ]
  },
  {
   "cell_type": "markdown",
   "metadata": {},
   "source": [
    "## Policy variables"
   ]
  },
  {
   "cell_type": "markdown",
   "metadata": {},
   "source": [
    "### A. RPS Targets for 2016 and 2025 Solar + DG + General RPS in % and MWh Terms"
   ]
  },
  {
   "cell_type": "code",
   "execution_count": 76,
   "metadata": {
    "scrolled": false
   },
   "outputs": [
    {
     "name": "stderr",
     "output_type": "stream",
     "text": [
      "/Users/rachelanderson/opt/anaconda3/lib/python3.7/site-packages/ipykernel_launcher.py:12: SettingWithCopyWarning: \n",
      "A value is trying to be set on a copy of a slice from a DataFrame.\n",
      "Try using .loc[row_indexer,col_indexer] = value instead\n",
      "\n",
      "See the caveats in the documentation: https://pandas.pydata.org/pandas-docs/stable/user_guide/indexing.html#returning-a-view-versus-a-copy\n",
      "  if sys.path[0] == '':\n",
      "/Users/rachelanderson/opt/anaconda3/lib/python3.7/site-packages/ipykernel_launcher.py:13: SettingWithCopyWarning: \n",
      "A value is trying to be set on a copy of a slice from a DataFrame.\n",
      "Try using .loc[row_indexer,col_indexer] = value instead\n",
      "\n",
      "See the caveats in the documentation: https://pandas.pydata.org/pandas-docs/stable/user_guide/indexing.html#returning-a-view-versus-a-copy\n",
      "  del sys.path[0]\n",
      "/Users/rachelanderson/opt/anaconda3/lib/python3.7/site-packages/pandas/core/frame.py:4449: SettingWithCopyWarning: \n",
      "A value is trying to be set on a copy of a slice from a DataFrame\n",
      "\n",
      "See the caveats in the documentation: https://pandas.pydata.org/pandas-docs/stable/user_guide/indexing.html#returning-a-view-versus-a-copy\n",
      "  errors=errors,\n",
      "/Users/rachelanderson/opt/anaconda3/lib/python3.7/site-packages/ipykernel_launcher.py:12: SettingWithCopyWarning: \n",
      "A value is trying to be set on a copy of a slice from a DataFrame.\n",
      "Try using .loc[row_indexer,col_indexer] = value instead\n",
      "\n",
      "See the caveats in the documentation: https://pandas.pydata.org/pandas-docs/stable/user_guide/indexing.html#returning-a-view-versus-a-copy\n",
      "  if sys.path[0] == '':\n",
      "/Users/rachelanderson/opt/anaconda3/lib/python3.7/site-packages/ipykernel_launcher.py:13: SettingWithCopyWarning: \n",
      "A value is trying to be set on a copy of a slice from a DataFrame.\n",
      "Try using .loc[row_indexer,col_indexer] = value instead\n",
      "\n",
      "See the caveats in the documentation: https://pandas.pydata.org/pandas-docs/stable/user_guide/indexing.html#returning-a-view-versus-a-copy\n",
      "  del sys.path[0]\n",
      "/Users/rachelanderson/opt/anaconda3/lib/python3.7/site-packages/pandas/core/frame.py:4449: SettingWithCopyWarning: \n",
      "A value is trying to be set on a copy of a slice from a DataFrame\n",
      "\n",
      "See the caveats in the documentation: https://pandas.pydata.org/pandas-docs/stable/user_guide/indexing.html#returning-a-view-versus-a-copy\n",
      "  errors=errors,\n"
     ]
    }
   ],
   "source": [
    "rps = pd.read_csv(cleanDataDir+'state_policies/state_rps_panel_clean.csv')\n",
    "\n",
    "yrs = [2016, 2025]\n",
    "targets = []\n",
    "\n",
    "percent_targets = ['tot_rps_lbl', 'solar_rps_manual', 'dg_rps_manual',\n",
    "       'solar_rps_lbl']\n",
    "\n",
    "for yr in yrs: \n",
    "    temp = rps[rps['year']==yr]\n",
    "    for x in percent_targets:\n",
    "        temp[x + '_mwh_' + str(yr)] = temp[x]*temp['lbl_sales']\n",
    "        temp[x + '_target_' + str(yr)] = temp[x]\n",
    "\n",
    "    temp.rename(columns= {'lbl_sales':'lbl_sales_' + str(yr)},inplace=True)\n",
    "    temp = temp.drop(columns = percent_targets + ['year'])\n",
    "    targets.append(temp)\n",
    "    \n",
    "rps_targets = targets[0].merge(targets[1])\n",
    "state_df = state_df.merge(rps_targets);"
   ]
  },
  {
   "cell_type": "markdown",
   "metadata": {},
   "source": [
    "### B. PURPA Policies\n"
   ]
  },
  {
   "cell_type": "code",
   "execution_count": 77,
   "metadata": {},
   "outputs": [],
   "source": [
    "purpa = pd.read_csv(cleanDataDir+'state_policies/state_purpa_dsire_updated.csv')\n",
    "state_df = state_df.merge(purpa,how='left').fillna(0)"
   ]
  },
  {
   "cell_type": "code",
   "execution_count": 78,
   "metadata": {},
   "outputs": [],
   "source": [
    "# Manually fix some states\n",
    "\n",
    "# NC had different rules pre-2017\n",
    "state_df.loc[(state_df['state']=='NC') & (state_df['year'] <= 2017), 'purpa_competitive_2020'] = 0\n",
    "state_df.loc[(state_df['state']=='NC') & (state_df['year'] <= 2017), 'purpa_max_term_2020'] = 15 \n",
    "state_df.loc[(state_df['state']=='NC') & (state_df['year'] <= 2017), 'purpa_mw_limit_2020'] = 5\n",
    "\n",
    "# AZ lacked formal PURPA policy until 2019-ish (assigned all 0's)\n",
    "\n",
    "# Utility bidding programs in CO, FL, GA, MI, NV, NC, OK, OR established in 2015\n",
    "# see:  https://brattlefiles.blob.core.windows.net/files/20706_fercs_recent_rulings_on_purpa_-_competitive_procurement_option.pdf\n",
    "\n",
    "bid_states = ['CO', 'FL','GA','MI','NV']\n",
    "\n",
    "state_df.loc[(state_df['state'].isin(bid_states)) & (state_df['year'] <= 2015), 'purpa_competitive_2020'] = 0\n",
    "state_df.loc[(state_df['state'].isin(bid_states)) & (state_df['year'] > 2015), 'purpa_competitive_2020'] = 1\n",
    "\n"
   ]
  },
  {
   "cell_type": "markdown",
   "metadata": {},
   "source": [
    "### C.  Financial Incentives "
   ]
  },
  {
   "cell_type": "code",
   "execution_count": 79,
   "metadata": {},
   "outputs": [],
   "source": [
    "### NC and OR had large ITC pre-2016 and pre-July 2014, respectively\n",
    "\n",
    "# NC Pre-2016\n",
    "state_df['itc_dummy'] = 0\n",
    "state_df.loc[(state_df['state'] == 'NC') & (state_df['year']<2016),'itc_dummy'] = 1\n",
    "\n",
    "# OR Pre-2014 \n",
    "state_df.loc[(state_df['state'] == 'OR') & (state_df['year']<=2014),'itc_dummy'] = 1"
   ]
  },
  {
   "cell_type": "code",
   "execution_count": 80,
   "metadata": {},
   "outputs": [],
   "source": [
    "### AZ and NM had large PTC. To best of my knowledge AZ hit capacity starting FY 2015\n",
    "\n",
    "state_df['ptc_dummy'] = 0\n",
    "state_df.loc[(state_df['state'] == 'AZ') & (state_df['year']>=2011) & (state_df['year'] <= 2014),'ptc_dummy'] = 1\n",
    "\n",
    "# NM Info: http://www.emnrd.state.nm.us/ECMD/CleanEnergyTaxIncentives/documents/REPTCFinalReportFeb2015.pdf\n",
    "# Facilities on waiting list after applications submitte din 2011 \n",
    "# Could get more disaggregated -- some facilities came online in 2014\n",
    "# http://www.emnrd.state.nm.us/ECMD/CleanEnergyTaxIncentives/documents/UpdatedQueueREPTC9.18.2020.pdf\n",
    "state_df.loc[(state_df['state'] == 'NM') & (state_df['year']>=2007) & (state_df['year'] <= 2011),'ptc_dummy'] = 1\n",
    "state_df['alt_ptc_dummy'] = state_df['ptc_dummy']\n",
    "state_df.loc[(state_df['state'] == 'NM') & (state_df['year']>=2007) & (state_df['year'] <= 2014),'alt_ptc_dummy'] = 1"
   ]
  },
  {
   "cell_type": "markdown",
   "metadata": {},
   "source": [
    "## C.  Market structure variables \n",
    "\n"
   ]
  },
  {
   "cell_type": "code",
   "execution_count": 81,
   "metadata": {},
   "outputs": [],
   "source": [
    "retail_choice = ['CA','IL','OH','NY','PA','MD','DE','NJ','MA','CT','NH','ME','TX']\n",
    "state_df['retail_choice'] = 0\n",
    "state_df.loc[(state_df['state'].isin(retail_choice)),'retail_choice'] = 1\n",
    "\n",
    "state_df = state_df.merge(pd.read_csv(cleanDataDir + 'state_sales/state_sales_by_owner.csv'))"
   ]
  },
  {
   "cell_type": "markdown",
   "metadata": {},
   "source": [
    "## Save final dataset to current project folder"
   ]
  },
  {
   "cell_type": "code",
   "execution_count": 82,
   "metadata": {},
   "outputs": [],
   "source": [
    "state_df.to_csv(homeDir+'code/analysis/stata-policy-analysis/state_policy_panel.csv',index=False)"
   ]
  },
  {
   "cell_type": "code",
   "execution_count": null,
   "metadata": {},
   "outputs": [],
   "source": []
  },
  {
   "cell_type": "code",
   "execution_count": null,
   "metadata": {},
   "outputs": [],
   "source": []
  },
  {
   "cell_type": "code",
   "execution_count": null,
   "metadata": {},
   "outputs": [],
   "source": []
  },
  {
   "cell_type": "code",
   "execution_count": null,
   "metadata": {},
   "outputs": [],
   "source": []
  }
 ],
 "metadata": {
  "kernelspec": {
   "display_name": "Python 3",
   "language": "python",
   "name": "python3"
  },
  "language_info": {
   "codemirror_mode": {
    "name": "ipython",
    "version": 3
   },
   "file_extension": ".py",
   "mimetype": "text/x-python",
   "name": "python",
   "nbconvert_exporter": "python",
   "pygments_lexer": "ipython3",
   "version": "3.7.4"
  }
 },
 "nbformat": 4,
 "nbformat_minor": 2
}
