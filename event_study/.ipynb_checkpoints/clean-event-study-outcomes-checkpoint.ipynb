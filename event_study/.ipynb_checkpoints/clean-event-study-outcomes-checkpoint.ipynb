{
 "cells": [
  {
   "cell_type": "code",
   "execution_count": 16,
   "metadata": {},
   "outputs": [
    {
     "data": {
      "text/html": [
       "\n",
       "        <script>\n",
       "            function code_toggle_14367224592402128506() {\n",
       "                $('div.cell.code_cell.rendered.selected').find('div.input').toggle();\n",
       "            }\n",
       "\n",
       "            \n",
       "        </script>\n",
       "\n",
       "        <a href=\"javascript:code_toggle_14367224592402128506()\">Toggle IPython Code</a>\n",
       "    "
      ],
      "text/plain": [
       "<IPython.core.display.HTML object>"
      ]
     },
     "execution_count": 16,
     "metadata": {},
     "output_type": "execute_result"
    }
   ],
   "source": [
    "from IPython.display import HTML\n",
    "import random\n",
    "\n",
    "def hide_toggle(text='Toggle Code', for_next=False):\n",
    "    this_cell = \"\"\"$('div.cell.code_cell.rendered.selected')\"\"\"\n",
    "    next_cell = this_cell + '.next()'\n",
    "\n",
    "    toggle_text = text  # text shown on toggle link\n",
    "    target_cell = this_cell  # target cell to control with toggle\n",
    "    js_hide_current = ''  # bit of JS to permanently hide code in current cell (only when toggling next cell)\n",
    "\n",
    "    if for_next:\n",
    "        target_cell = next_cell\n",
    "        toggle_text += ' next cell'\n",
    "        js_hide_current = this_cell + '.find(\"div.input\").hide();'\n",
    "\n",
    "    js_f_name = 'code_toggle_{}'.format(str(random.randint(1,2**64)))\n",
    "\n",
    "    html = \"\"\"\n",
    "        <script>\n",
    "            function {f_name}() {{\n",
    "                {cell_selector}.find('div.input').toggle();\n",
    "            }}\n",
    "\n",
    "            {js_hide_current}\n",
    "        </script>\n",
    "\n",
    "        <a href=\"javascript:{f_name}()\">{toggle_text}</a>\n",
    "    \"\"\".format(\n",
    "        f_name=js_f_name,\n",
    "        cell_selector=target_cell,\n",
    "        js_hide_current=js_hide_current, \n",
    "        toggle_text=toggle_text\n",
    "    )\n",
    "\n",
    "    return HTML(html)\n",
    "\n",
    "hide_toggle(text='Toggle IPython Code')"
   ]
  },
  {
   "cell_type": "markdown",
   "metadata": {},
   "source": [
    "\n",
    "## Code Description\n",
    "Uses EIA Form 860 plant-level data to compute for each state/year:\n",
    "\n",
    "A. Outcome Variables\n",
    "- number of plants, \n",
    "- average plant size, \n",
    "- AC/DC capacity additions\n",
    "- cumulative values of each variable\n",
    "\n",
    "This code **defines** commerical/industrial facilities and facilities with net metering agreements as a separate variable\n",
    "\n",
    "B. Market Preparation Policy Variables\n",
    "- Market preparation\n",
    "    - First year that any solar PV project > 1 MW is installed in a state\n",
    "    - First year that an IPP-owned project installed in a state\n",
    "   "
   ]
  },
  {
   "cell_type": "code",
   "execution_count": 17,
   "metadata": {},
   "outputs": [
    {
     "data": {
      "text/html": [
       "\n",
       "        <script>\n",
       "            function code_toggle_3546973878221411081() {\n",
       "                $('div.cell.code_cell.rendered.selected').find('div.input').toggle();\n",
       "            }\n",
       "\n",
       "            \n",
       "        </script>\n",
       "\n",
       "        <a href=\"javascript:code_toggle_3546973878221411081()\">Show generic header</a>\n",
       "    "
      ],
      "text/plain": [
       "<IPython.core.display.HTML object>"
      ]
     },
     "execution_count": 17,
     "metadata": {},
     "output_type": "execute_result"
    }
   ],
   "source": [
    "#####################\n",
    "# set up workspace\n",
    "#####################\n",
    "\n",
    "import pandas as pd\n",
    "import numpy as np\n",
    "import os\n",
    "\n",
    "# set the homeDir to where the project directory is located\n",
    "homeDir = '/Users/rachelanderson/Dropbox (Princeton)/Research_V2/descriptive_solar/'\n",
    "\n",
    "# raw and clean data directories are located in the homeDir \n",
    "rawDataDir = homeDir + 'data/raw/'\n",
    "cleanDataDir =  homeDir + 'data/clean/'\n",
    "\n",
    "##########################################\n",
    "# Import helper functions\n",
    "##########################################\n",
    "\n",
    "# helper function to clean column names\n",
    "\n",
    "def clean_cols(cols):\n",
    "    clean_cols = cols.str.lower().str.replace(' ', '_').str.replace('?','')\n",
    "    clean_cols = clean_cols.str.replace('(','').str.replace(')','').str.replace('-','_')\n",
    "    return(clean_cols)\n",
    "\n",
    "hide_toggle('Show generic header')"
   ]
  },
  {
   "cell_type": "markdown",
   "metadata": {},
   "source": [
    "## Define sample"
   ]
  },
  {
   "cell_type": "code",
   "execution_count": 18,
   "metadata": {
    "scrolled": false
   },
   "outputs": [
    {
     "name": "stdout",
     "output_type": "stream",
     "text": [
      "Dropping virtual and net metering customers removes 3215.7 MW (DC)\n",
      "Dropping Commerical and Industrial sectors removes 532.4 MW (DC)\n"
     ]
    }
   ],
   "source": [
    "#####################################################\n",
    "# Import solar generator data from EIA Form 860\n",
    "#####################################################\n",
    "\n",
    "eia_solar = pd.read_csv('/Users/rachelanderson/Dropbox (Princeton)/Research_V2/solar_determinants/data/clean/eia860_2019_operating_solar_generators.csv')\n",
    "\n",
    "#####################################################\n",
    "# Drop facilities with net metering agreements\n",
    "#####################################################\n",
    "\n",
    "net_meter_cap = eia_solar[(eia_solar['net_metering_agreement']!='N')|(eia_solar['virtual_net_metering_agreement']!='N')].dc_net_capacity_mw.sum()\n",
    "\n",
    "print('Dropping virtual and net metering customers removes ' + str(np.round(net_meter_cap,1)) + ' MW (DC)')\n",
    "\n",
    "solar_sample = eia_solar[(eia_solar['net_metering_agreement']=='N')&(eia_solar['virtual_net_metering_agreement']=='N')]\n",
    "\n",
    "\n",
    "#####################################################\n",
    "# Drop commercial and industrial facilities\n",
    "#####################################################\n",
    "\n",
    "keep_sectors = ['IPP Non-CHP', 'Electric Utility']\n",
    "c_i_cap =  eia_solar[~(eia_solar['sector_name'].isin(keep_sectors))].dc_net_capacity_mw.sum()\n",
    "\n",
    "print('Dropping Commerical and Industrial sectors removes ' + str(np.round(c_i_cap,1)) + ' MW (DC)')\n",
    "\n",
    "solar_sample = solar_sample[solar_sample['sector_name'].isin(keep_sectors)]"
   ]
  },
  {
   "cell_type": "markdown",
   "metadata": {},
   "source": [
    "## Compute market preparation policy variables"
   ]
  },
  {
   "cell_type": "code",
   "execution_count": 19,
   "metadata": {},
   "outputs": [],
   "source": [
    "eia_solar['plant_cap']=eia_solar.groupby('plant_code').nameplate_capacity_mw.transform(sum)"
   ]
  },
  {
   "cell_type": "code",
   "execution_count": 20,
   "metadata": {},
   "outputs": [],
   "source": [
    "first_ipp_year = eia_solar[eia_solar['sector_name'] == 'IPP Non-CHP'].groupby(['state','operating_year']).plant_code.nunique().reset_index().sort_values(by = ['state','operating_year']).groupby(['state']).apply(lambda x: x.iloc[0])\n",
    "first_ipp_year = first_ipp_year.rename(columns={'operating_year':'first_ipp_plant_yr'}).drop(columns=['plant_code','state']).reset_index()"
   ]
  },
  {
   "cell_type": "code",
   "execution_count": 21,
   "metadata": {},
   "outputs": [],
   "source": [
    "first_plant_sector = eia_solar.groupby(['state','operating_year','sector_name']).plant_code.nunique().reset_index().sort_values(by=['state','operating_year']).groupby(['state']).apply(lambda x: x.iloc[0])\n",
    "first_plant_sector  = first_plant_sector.rename(columns={'operating_year':'first_plant_yr', 'sector_name': 'first_plant_sector'}).drop(columns=['plant_code','state']).reset_index()"
   ]
  },
  {
   "cell_type": "code",
   "execution_count": 22,
   "metadata": {},
   "outputs": [],
   "source": [
    "qf_years = eia_solar[eia_solar['ferc_small_power_producer_status']=='Y'].groupby(['state','operating_year']).plant_code.nunique().reset_index().sort_values(by=['state','operating_year'], ascending=True)\n",
    "first_qf_year = qf_years.groupby('state').operating_year.apply(lambda x: x.iloc[0]).reset_index()\n",
    "first_qf_year = first_qf_year.rename(columns = {'operating_year': 'first_qf_year'})"
   ]
  },
  {
   "cell_type": "code",
   "execution_count": 25,
   "metadata": {},
   "outputs": [],
   "source": [
    "first_years = first_plant_sector.merge(first_ipp_year)\n",
    "first_years= first_years.merge(first_qf_year, how = 'left')"
   ]
  },
  {
   "cell_type": "markdown",
   "metadata": {},
   "source": [
    "## Aggregate data to compute capacity and \\# plant additions\n",
    "### Includes commercial/net metering facilities as a separate variable"
   ]
  },
  {
   "cell_type": "code",
   "execution_count": 26,
   "metadata": {},
   "outputs": [],
   "source": [
    "##################################################################\n",
    "# Compute capacity of C + I and net meter per year)\n",
    "##################################################################\n",
    "\n",
    "net_meter = eia_solar[(eia_solar['net_metering_agreement']!='N')|(eia_solar['virtual_net_metering_agreement']!='N')]\n",
    "\n",
    "keep_sectors = ['IPP Non-CHP', 'Electric Utility']\n",
    "c_i_cap =  eia_solar[~(eia_solar['sector_name'].isin(keep_sectors))]\n",
    "\n",
    "\n",
    "def fix_cols(df, prefix):\n",
    "    df = df.rename(columns={'operating_year':'year', \n",
    "                            'dc_net_capacity_mw': prefix + '_cap_dc',\n",
    "                            'nameplate_capacity_mw': prefix + '_cap_ac'\n",
    "                           })\n",
    "    return(df)\n",
    "\n",
    "dfList = []\n",
    "\n",
    "# Compute DC/AC Cap additions\n",
    "dfList.append(fix_cols(net_meter.groupby(['state','operating_year'])[['dc_net_capacity_mw','nameplate_capacity_mw']].sum().reset_index(), 'net_meter'))\n",
    "\n",
    "dfList.append(fix_cols(c_i_cap .groupby(['state','operating_year']).nameplate_capacity_mw.sum().reset_index(),'comm_'))"
   ]
  },
  {
   "cell_type": "code",
   "execution_count": 27,
   "metadata": {},
   "outputs": [],
   "source": [
    "##################################################################\n",
    "# Compute capacity and # plant additions per year\n",
    "##################################################################\n",
    "\n",
    "def fix_cols(df):\n",
    "    df = df.rename(columns={'operating_year':'year'})\n",
    "    return(df)\n",
    "\n",
    "# Compute DC/AC Cap additions\n",
    "dfList.append(fix_cols(solar_sample.groupby(['state','operating_year']).dc_net_capacity_mw.sum().reset_index()))\n",
    "\n",
    "dfList.append(fix_cols(solar_sample.groupby(['state','operating_year']).nameplate_capacity_mw.sum().reset_index()))\n",
    "\n",
    "# Compute number of plants\n",
    "dfList.append(fix_cols(solar_sample.groupby(['state','operating_year']).plant_code.nunique().reset_index()))\n",
    "\n",
    "# Add QF DC/AC Cap\n",
    "dfList.append(fix_cols(solar_sample[solar_sample['ferc_small_power_producer_status']=='Y'].groupby(['state','operating_year']).dc_net_capacity_mw.sum().reset_index()).rename(columns={'dc_net_capacity_mw': 'dc_cap_added_qf'}))\n",
    "\n",
    "dfList.append(fix_cols(solar_sample[solar_sample['ferc_small_power_producer_status']=='Y'].groupby(['state','operating_year']).nameplate_capacity_mw.sum().reset_index()).rename(columns={'nameplate_capacity_mw': 'ac_cap_added_qf'}))\n",
    "\n",
    "# Add QF # plants \n",
    "dfList.append(fix_cols(solar_sample[solar_sample['ferc_small_power_producer_status']=='Y'].groupby(['state','operating_year']).plant_code.nunique().reset_index()).rename(columns={'plant_code': 'n_plants_qf'}))"
   ]
  },
  {
   "cell_type": "code",
   "execution_count": 28,
   "metadata": {},
   "outputs": [],
   "source": [
    "#####################################################\n",
    "# Code to make state frame with months and quarters\n",
    "#####################################################\n",
    "\n",
    "# helper function to assign quarter\n",
    "def assign_quarter(x):\n",
    "    if x in [1,2,3]:\n",
    "        return(1)\n",
    "    elif x in [4,5,6]:\n",
    "        return(2)\n",
    "    elif x in [7,8,9]:\n",
    "        return(3)\n",
    "    else:\n",
    "        return(4)\n",
    "\n",
    "state_frame = pd.read_csv(cleanDataDir+'state_inputs/state_panel_frame.csv')\n",
    "\n",
    "nYear = state_frame.year.nunique()\n",
    "nStates = state_frame.state.nunique()\n",
    "# months = np.tile(range(1,13), nYear * nStates)\n",
    "\n",
    "# newdf = pd.DataFrame(np.repeat(state_frame.values, (nYear), axis=0), columns=state_frame.columns)\n",
    "# newdf['month'] = months\n",
    "# newdf['quarter'] = newdf.month.apply(lambda x: assign_quarter(x))\n",
    "\n",
    "for x in dfList:\n",
    "    state_frame = state_frame.merge(x, how='left').fillna(0)\n",
    "\n",
    "newdf = state_frame.rename(columns={'dc_net_capacity_mw': 'dc_cap_added', 'nameplate_capacity_mw': 'ac_cap_added', 'plant_code': 'n_plants'})"
   ]
  },
  {
   "cell_type": "code",
   "execution_count": 29,
   "metadata": {
    "scrolled": false
   },
   "outputs": [],
   "source": [
    "#####################################################\n",
    "# Compute cumulative values\n",
    "#####################################################\n",
    "\n",
    "var_names = ['dc_cap_added', 'ac_cap_added', 'n_plants',\n",
    "             'dc_cap_added_qf', 'ac_cap_added_qf', 'n_plants_qf']\n",
    "\n",
    "cum_vals = newdf.groupby('state')[var_names].apply(lambda x: np.cumsum(x))\n",
    "cum_vals.columns = ['cum_' + x for x in cum_vals.columns]\n",
    "\n",
    "for var in cum_vals.columns:\n",
    "    newdf[var] = cum_vals[var]"
   ]
  },
  {
   "cell_type": "code",
   "execution_count": 30,
   "metadata": {},
   "outputs": [],
   "source": [
    "newdf['avg_cap_ac'] = newdf['ac_cap_added']/newdf['n_plants']\n",
    "newdf['avg_cap_ac_qf'] = newdf['ac_cap_added_qf']/newdf['n_plants_qf']"
   ]
  },
  {
   "cell_type": "code",
   "execution_count": 31,
   "metadata": {},
   "outputs": [],
   "source": [
    "newdf = newdf.merge(first_years, how='left')"
   ]
  },
  {
   "cell_type": "code",
   "execution_count": 32,
   "metadata": {},
   "outputs": [],
   "source": [
    "#####################################################\n",
    "# Save to CSV\n",
    "#####################################################\n",
    "\n",
    "# newdf.to_csv(homeDir + 'analysis/new_policy_analysis/data/solar_cap_series.csv', index=False)\n",
    "newdf.to_csv(cleanDataDir + 'state_solar/event_study_state_micro_solar_2005-2019.csv', index=False)"
   ]
  },
  {
   "cell_type": "code",
   "execution_count": 33,
   "metadata": {
    "scrolled": true
   },
   "outputs": [],
   "source": [
    "# #####################################################\n",
    "# # Argument for dropping net metering\n",
    "# #####################################################\n",
    "\n",
    "# net_meter = eia_solar[eia_solar['net_metering_dc_capacity_mw'].str.strip() != '']\n",
    "# net_meter['net_meter_cap'] = pd.to_numeric(net_meter['net_metering_dc_capacity_mw'])\n",
    "# nm_cap = (net_meter['dc_net_capacity_mw'] - net_meter['net_meter_cap']).sum()\n",
    "# print('Facilities with net metering only have ' + str(nm_cap) + ' MW DC not under contract')\n",
    "\n",
    "# virtual_net_meter = eia_solar[eia_solar['virtual_net_metering_dc_capacity_mw'].str.strip() != '']\n",
    "# virtual_net_meter['virtual_net_cap'] = pd.to_numeric(virtual_net_meter['virtual_net_metering_dc_capacity_mw'])\n",
    "# vnm_cap = (virtual_net_meter['dc_net_capacity_mw'] - virtual_net_meter['virtual_net_cap']).sum()\n",
    "# print('Facilities with virtual net metering only have ' + str(np.round(vnm_cap,1)) + ' MW DC not under (virtual) contract')"
   ]
  },
  {
   "cell_type": "code",
   "execution_count": null,
   "metadata": {},
   "outputs": [],
   "source": []
  }
 ],
 "metadata": {
  "kernelspec": {
   "display_name": "Python 3",
   "language": "python",
   "name": "python3"
  },
  "language_info": {
   "codemirror_mode": {
    "name": "ipython",
    "version": 3
   },
   "file_extension": ".py",
   "mimetype": "text/x-python",
   "name": "python",
   "nbconvert_exporter": "python",
   "pygments_lexer": "ipython3",
   "version": "3.7.4"
  }
 },
 "nbformat": 4,
 "nbformat_minor": 2
}
