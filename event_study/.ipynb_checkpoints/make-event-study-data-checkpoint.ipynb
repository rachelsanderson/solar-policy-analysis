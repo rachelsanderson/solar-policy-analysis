{
 "cells": [
  {
   "cell_type": "code",
   "execution_count": 105,
   "metadata": {},
   "outputs": [
    {
     "data": {
      "text/html": [
       "\n",
       "        <script>\n",
       "            function code_toggle_16454619106428704802() {\n",
       "                $('div.cell.code_cell.rendered.selected').find('div.input').toggle();\n",
       "            }\n",
       "\n",
       "            \n",
       "        </script>\n",
       "\n",
       "        <a href=\"javascript:code_toggle_16454619106428704802()\">Toggle IPython Code</a>\n",
       "    "
      ],
      "text/plain": [
       "<IPython.core.display.HTML object>"
      ]
     },
     "execution_count": 105,
     "metadata": {},
     "output_type": "execute_result"
    }
   ],
   "source": [
    "from IPython.display import HTML\n",
    "import random\n",
    "\n",
    "def hide_toggle(text='Toggle Code', for_next=False):\n",
    "    this_cell = \"\"\"$('div.cell.code_cell.rendered.selected')\"\"\"\n",
    "    next_cell = this_cell + '.next()'\n",
    "\n",
    "    toggle_text = text  # text shown on toggle link\n",
    "    target_cell = this_cell  # target cell to control with toggle\n",
    "    js_hide_current = ''  # bit of JS to permanently hide code in current cell (only when toggling next cell)\n",
    "\n",
    "    if for_next:\n",
    "        target_cell = next_cell\n",
    "        toggle_text += ' next cell'\n",
    "        js_hide_current = this_cell + '.find(\"div.input\").hide();'\n",
    "\n",
    "    js_f_name = 'code_toggle_{}'.format(str(random.randint(1,2**64)))\n",
    "\n",
    "    html = \"\"\"\n",
    "        <script>\n",
    "            function {f_name}() {{\n",
    "                {cell_selector}.find('div.input').toggle();\n",
    "            }}\n",
    "\n",
    "            {js_hide_current}\n",
    "        </script>\n",
    "\n",
    "        <a href=\"javascript:{f_name}()\">{toggle_text}</a>\n",
    "    \"\"\".format(\n",
    "        f_name=js_f_name,\n",
    "        cell_selector=target_cell,\n",
    "        js_hide_current=js_hide_current, \n",
    "        toggle_text=toggle_text\n",
    "    )\n",
    "\n",
    "    return HTML(html)\n",
    "\n",
    "hide_toggle(text='Toggle IPython Code')"
   ]
  },
  {
   "cell_type": "markdown",
   "metadata": {},
   "source": [
    "## The dataset will look like this\n",
    "\n",
    "Unit of observation is state-year from 2010-2019.  e.g. as many years as I have\n",
    "\n",
    "Outcomes are compiled using EIA 860 data on individual generating units [here](http://localhost:8888/notebooks/event_study/clean-event-study-outcomes.ipynb)\n",
    "\n",
    "- Capacity additions at grid-scale facilities > 1 MW (AC)\n",
    "- Number of new plants installed\n",
    "\n",
    "Policies are \n",
    "\n",
    "- Market preparation policies\n",
    "    - Coded [here](http://localhost:8888/notebooks/event_study/clean-event-study-outcomes.ipynb)\n",
    "\n",
    "- Whether large-scale state tax credit program was available\n",
    "- State PURPA Rules as of 2020\n",
    "- Solar, DG, Total RPS targets in 2016 and 2025\n",
    "- Retail choice / rules around utility contracting\n",
    "\n",
    "Controls are \n",
    "\n",
    "- Log population\n",
    "- State GDP (in millions of dollars from BEA)\n",
    "- Log sales (MWh) \n",
    "- State capacity factor\n",
    "- State technical potential (MWh / Capacity Factor) = MW available \n",
    "- Year Dummy \n"
   ]
  },
  {
   "cell_type": "code",
   "execution_count": 106,
   "metadata": {
    "scrolled": true
   },
   "outputs": [
    {
     "data": {
      "text/html": [
       "\n",
       "        <script>\n",
       "            function code_toggle_2001956314681180830() {\n",
       "                $('div.cell.code_cell.rendered.selected').find('div.input').toggle();\n",
       "            }\n",
       "\n",
       "            \n",
       "        </script>\n",
       "\n",
       "        <a href=\"javascript:code_toggle_2001956314681180830()\">Show generic header</a>\n",
       "    "
      ],
      "text/plain": [
       "<IPython.core.display.HTML object>"
      ]
     },
     "execution_count": 106,
     "metadata": {},
     "output_type": "execute_result"
    }
   ],
   "source": [
    "#####################\n",
    "# set up workspace\n",
    "#####################\n",
    "\n",
    "import pandas as pd\n",
    "import numpy as np\n",
    "import os\n",
    "\n",
    "# set the homeDir to where the project directory is located\n",
    "homeDir = '/Users/rachelanderson/Dropbox (Princeton)/Research_V2/descriptive_solar/'\n",
    "\n",
    "# raw and clean data directories are located in the homeDir \n",
    "rawDataDir = homeDir + 'data/raw/'\n",
    "cleanDataDir =  homeDir + 'data/clean/'\n",
    "\n",
    "##########################################\n",
    "# Import helper functions\n",
    "##########################################\n",
    "\n",
    "# helper function to clean column names\n",
    "\n",
    "def clean_cols(cols):\n",
    "    clean_cols = cols.str.lower().str.replace(' ', '_').str.replace('?','')\n",
    "    clean_cols = clean_cols.str.replace('(','').str.replace(')','').str.replace('-','_')\n",
    "    return(clean_cols)\n",
    "\n",
    "hide_toggle('Show generic header')"
   ]
  },
  {
   "cell_type": "markdown",
   "metadata": {},
   "source": [
    "## A.  State-Year Frame and Controls"
   ]
  },
  {
   "cell_type": "code",
   "execution_count": 107,
   "metadata": {},
   "outputs": [
    {
     "data": {
      "text/html": [
       "\n",
       "        <script>\n",
       "            function code_toggle_8686420295221392480() {\n",
       "                $('div.cell.code_cell.rendered.selected').find('div.input').toggle();\n",
       "            }\n",
       "\n",
       "            \n",
       "        </script>\n",
       "\n",
       "        <a href=\"javascript:code_toggle_8686420295221392480()\">set up state panel frame</a>\n",
       "    "
      ],
      "text/plain": [
       "<IPython.core.display.HTML object>"
      ]
     },
     "execution_count": 107,
     "metadata": {},
     "output_type": "execute_result"
    }
   ],
   "source": [
    "# State-year panel frame for 2005-2019\n",
    "state_panel_frame = pd.read_csv(cleanDataDir+'state_inputs/state_panel_frame.csv')\n",
    "\n",
    "# Merge in state population, acreage, GDP, and capacity factor\n",
    "\n",
    "# Merge in population data (2010 Census)\n",
    "pop = pd.read_csv(cleanDataDir+'state_inputs/state_population.csv')\n",
    "pop = pop[pop['year']==2010]\n",
    "pop.rename(columns ={'pop':'pop_2010'},inplace=True)\n",
    "pop = pop.drop(columns='year')\n",
    "\n",
    "# Merge in acreage\n",
    "state_df = state_panel_frame.merge(pop, how = 'left')\n",
    "state_df = state_df.merge(pd.read_csv(cleanDataDir + 'state_inputs/state_acreage.csv'), how='left')\n",
    "\n",
    "# Merge in capacity factor \n",
    "state_df = state_df.merge(pd.read_csv(cleanDataDir + 'state_inputs/state_cf_nrel.csv'))\n",
    "\n",
    "# Add in RTO/ISO Regions\n",
    "region_map = {\"WA\": \"Northwest\", \"OR\": \"Northwest\", \"ID\": \"Northwest\", \"MT\": \"Northwest\", \"WY\": \"Northwest\", \"NV\": \"Northwest\", \"UT\": \"Northwest\", \"CA\": \"CAISO\", \"AZ\": \"Southwest\", \"NM\": \"Southwest\", \"CO\": \"Southwest\", \"TX\": \"ERCOT\", \"OK\": \"SPP\", \"NE\": \"SPP\", \"SD\": \"SPP\", \"KS\": \"SPP\", \"ND\": \"MISO\", \"MN\": \"MISO\", \"IA\": \"MISO\", \"IL\": \"MISO\", \"MS\": \"MISO\", \"WI\": \"MISO\", \"LA\": \"MISO\", \"IN\": \"MISO\", \"MI\": \"MISO\", \"MO\": \"MISO\", \"AR\": \"MISO\", \"FL\": \"Southeast\", \"GA\": \"Southeast\", \"AL\": \"Southeast\", \"SC\": \"Southeast\", \"NC\": \"Southeast\", \"TN\": \"Southeast\", \"OH\": \"PJM\", \"KY\": \"PJM\", \"VA\": \"PJM\", \"WV\": \"PJM\", \"DE\": \"PJM\", \"PA\": \"PJM\", \"MD\": \"PJM\", \"NJ\": \"PJM\", \"NY\": \"NYISO\", \"VT\": \"ISO-NE\", \"NH\": \"ISO-NE\", \"MA\": \"ISO-NE\", \"CT\": \"ISO-NE\", \"RI\": \"ISO-NE\", \"ME\": \"ISO-NE\", \"HI\": \"Hawaii\", \"AK\": \"Alaska\", \"PR\": \"Puerto Rico\", \"DC\": \"District of Columbia\"}\n",
    "\n",
    "iso_rto = ['CAISO', 'SPP', 'MISO', 'ISO-NE', 'PJM', 'ERCOT']\n",
    "\n",
    "state_df['region'] = state_df.state.map(region_map)\n",
    "state_df['iso_rto'] = state_df.region.isin(iso_rto)\n",
    "state_df['iso_rto_dummy'] = [1 if x == True else 0 for x in state_df['iso_rto']]\n",
    "\n",
    "# Add retail choice information\n",
    "retail_choice = ['IL','OH','NY','PA','MD','DE','NJ','MA','CT','NH','ME','TX']\n",
    "state_df['retail_choice'] = 0\n",
    "state_df.loc[(state_df['state'].isin(retail_choice)),'retail_choice'] = 1\n",
    "\n",
    "hide_toggle('set up state panel frame')"
   ]
  },
  {
   "cell_type": "markdown",
   "metadata": {},
   "source": [
    "## B. Outcome variables"
   ]
  },
  {
   "cell_type": "code",
   "execution_count": 108,
   "metadata": {},
   "outputs": [],
   "source": [
    "# TO DO: # add also solar generation estimates for 2005-2019? from epa data\n",
    "state_solar=pd.read_csv(cleanDataDir + 'state_solar/event_study_state_micro_solar_2005-2019.csv')\n",
    "state_df = state_df.merge(state_solar)\n",
    "\n",
    "state_solar_gen = pd.read_csv(cleanDataDir + 'state_solar/state_utility_scale_solar_gen_2009-2019.csv').sort_values(by='year')\n",
    "\n",
    "# add generation in MWh\n",
    "state_df = state_df.merge(state_solar_gen,how='left')\n",
    "state_df['solar_mwh']= pd.to_numeric(state_df['utility_scale_solar_mwh'],errors='coerce')"
   ]
  },
  {
   "cell_type": "markdown",
   "metadata": {},
   "source": [
    "## C. Policy Variables\n",
    "\n",
    "- Dummy for first plant"
   ]
  },
  {
   "cell_type": "code",
   "execution_count": 109,
   "metadata": {
    "scrolled": true
   },
   "outputs": [],
   "source": [
    "state_df['any_plant'] = [1 if x==True else 0 for x in state_df['first_plant_yr'] < state_df['year']]\n",
    "\n",
    "state_df['first_plant_pre_sample'] = 0\n",
    "state_df.loc[(state_df['first_plant_yr']<2005) & (state_df['year']==2005), 'first_plant_pre_sample'] = 1\n",
    "\n",
    "state_df['first_plant'] = [1 if x == True else 0 for x in (state_df['first_plant_yr'] == state_df['year'])]"
   ]
  },
  {
   "cell_type": "code",
   "execution_count": 110,
   "metadata": {},
   "outputs": [],
   "source": [
    "state_df['first_ipp_plant'] = [1 if x == True else 0 for x in (state_df['first_ipp_plant_yr'] == state_df['year'])]"
   ]
  },
  {
   "cell_type": "markdown",
   "metadata": {},
   "source": [
    "- Dummy for first RPS and solar target compliance years"
   ]
  },
  {
   "cell_type": "code",
   "execution_count": 111,
   "metadata": {},
   "outputs": [],
   "source": [
    "rps = pd.read_csv('/Users/rachelanderson/Dropbox (Princeton)/Research_V2/descriptive_solar/data/clean/state_policies/state_rps_panel_clean.csv')"
   ]
  },
  {
   "cell_type": "code",
   "execution_count": 112,
   "metadata": {},
   "outputs": [],
   "source": [
    "first_solar_year = rps[(rps['solar_rps_lbl'] > 0) | (rps['solar_rps_manual']>0)].sort_values(by=['state','year']).groupby('state').apply(lambda x: x.iloc[0])\n",
    "first_solar_year = first_solar_year[['state','year']].rename(columns={'year':'first_carveout_year'}).drop(columns='state').reset_index()\n",
    "\n",
    "first_rps_year = rps[(rps['tot_rps_lbl'] > 0)].sort_values(by=['state','year']).groupby('state').apply(lambda x: x.iloc[0])\n",
    "first_rps_year = first_rps_year[['state','year']].rename(columns={'year':'first_rps_year'}).drop(columns='state').reset_index()"
   ]
  },
  {
   "cell_type": "code",
   "execution_count": 113,
   "metadata": {},
   "outputs": [],
   "source": [
    "first_rps_years = first_rps_year.merge(first_solar_year, how='outer')\n",
    "state_df = state_df.merge(first_rps_years,how='left')"
   ]
  },
  {
   "cell_type": "code",
   "execution_count": 114,
   "metadata": {},
   "outputs": [],
   "source": [
    "# fill na with a high number to avoid errors in next code\n",
    "\n",
    "state_df.loc[state_df['first_carveout_year']==0, 'first_carveout_year'] = 99999\n",
    "state_df.loc[state_df['first_rps_year']==0, 'first_rps_year'] = 99999"
   ]
  },
  {
   "cell_type": "code",
   "execution_count": 115,
   "metadata": {},
   "outputs": [],
   "source": [
    "state_df['active_solar_rps'] = [1 if x==True else 0 for x in state_df['first_carveout_year'] < state_df['year']]\n",
    "\n",
    "state_df['first_carveout_pre_sample'] = 0\n",
    "state_df.loc[(state_df['first_carveout_year'].isin(range(1,2005))) & (state_df['year']==2005), 'first_carveout_pre_sample'] = 1\n",
    "\n",
    "state_df['first_carveout'] = [1 if x == True else 0 for x in (state_df['first_carveout_year'] == state_df['year'])]"
   ]
  },
  {
   "cell_type": "code",
   "execution_count": 116,
   "metadata": {},
   "outputs": [],
   "source": [
    "state_df['active_rps'] = [1 if x==True else 0 for x in state_df['first_rps_year'] < state_df['year']]\n",
    "\n",
    "state_df['first_rps_pre_sample'] = 0\n",
    "state_df.loc[(state_df['first_rps_year'].isin(range(1,2005))) & (state_df['year']==2005), 'first_rps_pre_sample'] = 1\n",
    "\n",
    "state_df['first_rps'] = [1 if x == True else 0 for x in (state_df['first_rps_year'] == state_df['year'])]"
   ]
  },
  {
   "cell_type": "markdown",
   "metadata": {},
   "source": [
    "- Dummy for years in which solar target increases from previous year"
   ]
  },
  {
   "cell_type": "code",
   "execution_count": 117,
   "metadata": {},
   "outputs": [],
   "source": [
    "rps['solar_carveout_diff'] = rps.sort_values(by=['state','year']).groupby('state').solar_rps_lbl.diff()\n",
    "rps['solar_carveout_f2'] = rps['solar_carveout_f2']=rps.sort_values(by=['state','year']).groupby('state').solar_rps_manual.shift(-2)\n",
    "\n",
    "rps['rps_diff'] = rps.sort_values(by=['state','year']).groupby('state').tot_rps_lbl.diff()\n",
    "rps['rps_f2'] = rps.sort_values(by=['state','year']).groupby('state').tot_rps_lbl.shift(-2)\n",
    "\n",
    "state_df=state_df.merge(rps, how='left')"
   ]
  },
  {
   "cell_type": "markdown",
   "metadata": {},
   "source": [
    "- Identify last solar carveout year"
   ]
  },
  {
   "cell_type": "code",
   "execution_count": 118,
   "metadata": {},
   "outputs": [],
   "source": [
    "solar_rps_last_yr = rps[(rps['solar_carveout_diff']==0)&(rps['solar_rps_lbl']!=0)].sort_values(by=['state','year']).groupby('state').apply(lambda x: x.iloc[0].year).reset_index()\n",
    "solar_rps_last_yr['end_carveout_yr'] =solar_rps_last_yr[0]-1"
   ]
  },
  {
   "cell_type": "code",
   "execution_count": 119,
   "metadata": {},
   "outputs": [],
   "source": [
    "state_df= state_df.merge(solar_rps_last_yr[['state','end_carveout_yr']], how = 'left')"
   ]
  },
  {
   "cell_type": "markdown",
   "metadata": {},
   "source": [
    "- Identify last RPS year"
   ]
  },
  {
   "cell_type": "code",
   "execution_count": 120,
   "metadata": {},
   "outputs": [],
   "source": [
    "rps_last_yr = rps[(rps['rps_diff']==0)&(rps['tot_rps_lbl']!=0)].sort_values(by=['state','year']).groupby('state').apply(lambda x: x.iloc[0].year).reset_index()\n",
    "rps_last_yr['end_rps_yr'] =rps_last_yr[0]-1\n",
    "state_df= state_df.merge(rps_last_yr[['state','end_rps_yr']], how = 'left')"
   ]
  },
  {
   "cell_type": "markdown",
   "metadata": {},
   "source": [
    "- Dummy for introduction of state financial incentive program"
   ]
  },
  {
   "cell_type": "code",
   "execution_count": null,
   "metadata": {},
   "outputs": [],
   "source": []
  },
  {
   "cell_type": "code",
   "execution_count": 121,
   "metadata": {},
   "outputs": [],
   "source": [
    "financial_incentives = pd.read_excel(rawDataDir+'event-study-itc-ptc/event-study-itc-ptc.xlsx')\n",
    "financial_incentives = financial_incentives.drop(columns =  financial_incentives.columns[-3:].values)\n",
    "financial_incentives = financial_incentives[(financial_incentives['year']!=2001 )| (financial_incentives['state']!=\"ND\")]\n",
    "financial_incentives = financial_incentives.fillna(0)\n",
    "\n",
    "state_df = state_df.merge(financial_incentives, how ='left').fillna(0)"
   ]
  },
  {
   "cell_type": "markdown",
   "metadata": {},
   "source": [
    "- save year of ITC/PTC introduction/expiration for event study approach"
   ]
  },
  {
   "cell_type": "code",
   "execution_count": 122,
   "metadata": {},
   "outputs": [],
   "source": [
    "itc_start_yr = financial_incentives[financial_incentives['itc_introduced']==1][['state','year']]\n",
    "itc_start_yr=itc_start_yr.rename(columns={'year':'itc_start_yr'})\n",
    "\n",
    "itc_end_yr = financial_incentives[financial_incentives['itc_expired']==1][['state','year']]\n",
    "itc_end_yr=itc_end_yr.rename(columns={'year':'itc_end_yr'})\n",
    "\n",
    "itc = itc_start_yr.merge(itc_end_yr, how= 'outer')\n",
    "\n",
    "\n",
    "ptc_start_yr = financial_incentives[financial_incentives['ptc_introduced']==1][['state','year']]\n",
    "ptc_start_yr=ptc_start_yr.rename(columns={'year':'ptc_start_yr'})\n",
    "\n",
    "ptc_end_yr = financial_incentives[financial_incentives['ptc_expired']==1][['state','year']]\n",
    "ptc_end_yr=ptc_end_yr.rename(columns={'year':'ptc_end_yr'})\n",
    "\n",
    "ptc = ptc_start_yr.merge(ptc_end_yr, how= 'outer')"
   ]
  },
  {
   "cell_type": "code",
   "execution_count": 123,
   "metadata": {},
   "outputs": [],
   "source": [
    "state_df=state_df.merge(itc.merge(ptc,how='outer'), how = 'left')"
   ]
  },
  {
   "cell_type": "markdown",
   "metadata": {},
   "source": [
    "- add in PURPA standard contracts as alternative market creation policy "
   ]
  },
  {
   "cell_type": "code",
   "execution_count": 124,
   "metadata": {},
   "outputs": [],
   "source": [
    "purpa = pd.read_csv(cleanDataDir+'state_policies/state_purpa_dsire_updated.csv')\n",
    "state_df = state_df.merge(purpa, how = 'left')\n",
    "# Manually fix some states\n",
    "\n",
    "# NC had different rules pre-2017\n",
    "state_df.loc[(state_df['state']=='NC') & (state_df['year'] <= 2017), 'purpa_competitive_2020'] = 0\n",
    "state_df.loc[(state_df['state']=='NC') & (state_df['year'] <= 2017), 'purpa_max_term_2020'] = 15 \n",
    "state_df.loc[(state_df['state']=='NC') & (state_df['year'] <= 2017), 'purpa_mw_limit_2020'] = 5\n",
    "\n",
    "# AZ lacked formal PURPA policy until 2019-ish (assigned all 0's)\n",
    "\n",
    "# Utility bidding programs in CO, FL, GA, MI, NV, NC, OK, OR established in 2015\n",
    "# see:  https://brattlefiles.blob.core.windows.net/files/20706_fercs_recent_rulings_on_purpa_-_competitive_procurement_option.pdf\n",
    "\n",
    "bid_states = ['CO', 'FL','GA','MI','NV']\n",
    "\n",
    "state_df.loc[(state_df['state'].isin(bid_states)) & (state_df['year'] <= 2015), 'purpa_competitive_2020'] = 0\n",
    "state_df.loc[(state_df['state'].isin(bid_states)) & (state_df['year'] > 2015), 'purpa_competitive_2020'] = 1\n",
    "\n",
    "# Washington lacked formal PURPA rules until 2019\n",
    "# see: https://www.jdsupra.com/legalnews/washington-utc-finalizes-new-purpa-30418/\n",
    "\n",
    "state_df.loc[(state_df['state'] == 'WA') & (state_df['year']<=2019), 'purpa_max_term_2020'] = 5\n",
    "state_df.loc[(state_df['state'] == 'WA') & (state_df['year']<=2019), 'purpa_standard_contract_2020'] = 0\n",
    "state_df.loc[(state_df['state'] == 'WA') & (state_df['year']<=2019), 'purpa_mw_limit_2020'] = 0\n",
    "\n",
    "# CO had competitive bidding only prior to 2017. "
   ]
  },
  {
   "cell_type": "markdown",
   "metadata": {},
   "source": [
    "## Save final dataset to current project folder"
   ]
  },
  {
   "cell_type": "code",
   "execution_count": 125,
   "metadata": {},
   "outputs": [],
   "source": [
    "state_df.to_csv(homeDir+'code/analysis/stata-policy-analysis/event_study/event-study-sample.csv',index=False)"
   ]
  },
  {
   "cell_type": "code",
   "execution_count": 126,
   "metadata": {},
   "outputs": [
    {
     "data": {
      "text/plain": [
       "Index(['year', 'state', 'pop_2010', 'acres', 'nrel_cap_factor', 'region',\n",
       "       'iso_rto', 'iso_rto_dummy', 'retail_choice', 'net_meter_cap_dc',\n",
       "       'net_meter_cap_ac', 'comm__cap_ac', 'dc_cap_added', 'ac_cap_added',\n",
       "       'n_plants', 'dc_cap_added_qf', 'ac_cap_added_qf', 'n_plants_qf',\n",
       "       'cum_dc_cap_added', 'cum_ac_cap_added', 'cum_n_plants',\n",
       "       'cum_dc_cap_added_qf', 'cum_ac_cap_added_qf', 'cum_n_plants_qf',\n",
       "       'avg_cap_ac', 'avg_cap_ac_qf', 'first_plant_yr', 'first_plant_sector',\n",
       "       'first_ipp_plant_yr', 'first_grid_yr', 'first_mega_plant',\n",
       "       'first_qf_year', 'utility_scale_solar_mwh', 'solar_mwh', 'any_plant',\n",
       "       'first_plant_pre_sample', 'first_plant', 'first_ipp_plant',\n",
       "       'first_rps_year', 'first_carveout_year', 'active_solar_rps',\n",
       "       'first_carveout_pre_sample', 'first_carveout', 'active_rps',\n",
       "       'first_rps_pre_sample', 'first_rps', 'tot_rps_lbl', 'solar_rps_manual',\n",
       "       'dg_rps_manual', 'solar_rps_lbl', 'lbl_sales', 'solar_carveout_diff',\n",
       "       'solar_carveout_f2', 'rps_diff', 'rps_f2', 'end_carveout_yr',\n",
       "       'end_rps_yr', 'itc_introduced', 'ptc_introduced', 'itc_expired',\n",
       "       'ptc_expired', 'itc_start_yr', 'itc_end_yr', 'ptc_start_yr',\n",
       "       'ptc_end_yr', 'purpa_wholesale_2020', 'purpa_competitive_2020',\n",
       "       'purpa_standard_contract_2020', 'purpa_mw_limit_2020',\n",
       "       'purpa_max_term_2020'],\n",
       "      dtype='object')"
      ]
     },
     "execution_count": 126,
     "metadata": {},
     "output_type": "execute_result"
    }
   ],
   "source": [
    "state_df.columns"
   ]
  }
 ],
 "metadata": {
  "kernelspec": {
   "display_name": "Python 3",
   "language": "python",
   "name": "python3"
  },
  "language_info": {
   "codemirror_mode": {
    "name": "ipython",
    "version": 3
   },
   "file_extension": ".py",
   "mimetype": "text/x-python",
   "name": "python",
   "nbconvert_exporter": "python",
   "pygments_lexer": "ipython3",
   "version": "3.7.4"
  }
 },
 "nbformat": 4,
 "nbformat_minor": 2
}
