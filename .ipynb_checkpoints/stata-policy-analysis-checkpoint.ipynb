{
 "cells": [
  {
   "cell_type": "markdown",
   "id": "810957f6",
   "metadata": {},
   "source": [
    "Counterfactual ideas:\n",
    "\n",
    "What is value of uniform interconnection standards? E.g. uniform barriers/market access but no intensive margin restrictions?\n",
    "\n",
    "What if PURPA Rules affect market entry but not intensive margin"
   ]
  },
  {
   "cell_type": "markdown",
   "id": "096ea18a",
   "metadata": {},
   "source": [
    "# Descriptive Analysis\n",
    "\n",
    "## Empirical Strategy \n",
    "I estimate the following equation\n",
    "\\begin{equation} y_{it} = \\beta_0 + \\beta_1 x_{i} + \\beta_2 x_{it} + \\beta_3\\text{controls}_{it} + \\alpha_{t} + \\varepsilon_{it} \\label{main-eq}\\tag{1} \\end{equation}\n",
    "\n",
    "where $\\alpha_t$ are year fixed effects and $\\varepsilon_{it}$ are clustered at state-level.  \n",
    "\n",
    "\n",
    "## Data description\n",
    "\n",
    "[Click for code that assembles dataset](http://localhost:8888/notebooks/code/analysis/stata-policy-analysis/make_stata_policy_data_panel.ipynb)\n",
    "\n",
    "### I. Sample selection\n",
    "\n",
    "Data on solar installations built before year-end 2019 are compiled using data on generating units from EIA Form 860 [see code for details](http://localhost:8888/notebooks/code/cleaning/clean_state_solar_plant_panel.ipynb). \n",
    "\n",
    "I exclude:\n",
    "- facilities that have net metering or virtual net metering agreements.\n",
    "    - Removes 3215.7 MW (DC)\n",
    "- facilities belonging to commerical and Industrial sectors \n",
    "    - removes 532.4 MW (DC)\n",
    "- capacity installed before 2005  \n",
    "    - removes 8.5 MW (DC)\n",
    "\n",
    "### II. Variables\n",
    "\n",
    "The outcome variables $y_{it}$ measure utility-scale solar capacity added in each state/year:\n",
    "- Log number of new facilities\n",
    "- Log nameplate capacity added (megawatts AC) \n",
    "- Log average new plant size (megawatts AC)\n",
    "\n",
    "Fixed state policies $x_i$ include\n",
    "- Solar carve-out percentage target in 2016\n",
    "- Distributed generation percentage target in 2016\n",
    "- Total renewables percentage target in 2025\n",
    "- PURPA Implementation as of 2020\n",
    "\n",
    "Time-varying state policies $x_{it}$ include\n",
    "- Investment tax credit dummy \n",
    "    - Equals 1 for Oregon through 2014 and North Carolina through 2015\n",
    "    - Dates chosen because credits expired in July 2014 and December 2015, respectively\n",
    "- Production tax credit dummy\n",
    "    - Equals 1 for Arizona and New Mexico through 2014\n",
    "    - Last New Mexico solar projects receiving credit began operating in 2014 \n",
    "    - Arizona program not accepting applicants after 2014\n",
    "\n",
    "Fixed state controls include:  \n",
    " - Retail choice \n",
    " - Solar resource (capacity factor)\n",
    "\n",
    "Time-varying state controls:\n",
    "- Population \n",
    "- Retail electricity sales (excluded because they are highly correlated with population)\n",
    "\n",
    "[data](#data)\n",
    "\n",
    "## Results\n",
    "\n",
    "### A. Panel regression w/full sample\n",
    "\n",
    "[Regression results for all state/year combinations between 2010-2019](#main-result) show that solar carve-outs, large-scale production tax credits, and \"Competitive PURPA Procurement\" have a significant, positive relationship with the number of plants, weakly correlated with capacity. \n",
    "\n",
    "- The coefficient on production tax credits is likely significant due to overfitting, as I have coded PTC as available in AZ and NM, which are unlike other states on a number of dimensions. \n",
    "- The investment tax credit dummy is not significant, as it represents a weighted average effect of North Carolina and Oregon.  While the tax credit was effective in NC, my descriptive analysis suggests it was not effective in Oregon. \n",
    "\n",
    "### B. Panel regression w/non-zero state/year observations\n",
    "\n",
    "To explore whether there may be differences in the effects of policies on the intensive margin, I estimate (\\ref{main-eq}) using observations with $y_{it} \\geq 0$.  \n",
    "\n",
    "When I use [only state/years with non-zero cumulative installations](#selected-sample), \n",
    "- solar targets no longer have a signficant positive relationship with capacity nor average plant size, however they are a significant predictor of the number of plants built within a given state/year.  \n",
    "\n",
    "- RPS targets have a significant positive relationship with capacity and number of plants. \n",
    "- Competitive PURPA is no longer correlated with those variables\n",
    "- State PTC is still correlated \n",
    "- State capacity factor is significant across all outcomes \n",
    "\n",
    "## PURPA Variables\n",
    "\n",
    "`PURPA Competitive` equals 1 for CA, CO, GA, HI, and NC.  But this variable is not exactly correct. \n",
    "\n",
    "\n",
    "## Discussion \n",
    "These differences suggest that policies may have different effects for extensive and intensive margin investment.  My findings are consistent with prior literature on the importance of \"policy stacking\".  Krasko and Doris (2012) divides policeis for distributed PV into Market Preparation, Market Creation, and Market Expansion.  \n",
    "\n",
    "| Policy Group | Definition | Barriers addressed | Examples |\n",
    "| :----------: | :---------- |:---------- | :------ |\n",
    "|Market Preparation| Ensure that market players can, technically and legally, use the technology to its fullest extent (Doris 2012) | Institutional barriers, market access | Interconnection standards, net metering  |\n",
    "| Market Creation |Indicate to developers and investors that there is a long-term public commitment to the market by creating demand and therefore increasing confidence for private sector investment (Doris and Krasko 2012) |  Investor uncertainty, lack of existing markets, public understanding | Solar carve-outs, Renewable Portfolio Standards, PURPA \"must-purchase\" mandates |\n",
    "| Market Expansion| Use incentives to target the development of niche markets that are of particular long-term public good | Technology first cost, investment uncertainty | Performance based incentives, grants, rebates, low interest loans, and other direct monetary support for specific projects | \n",
    "\n",
    "In other words, solar targets and PURPA schemes are significant for having capacity, but conditional on having any solar capacity, solar resource is the best predictor of intensive margin/how much capacity is installed, RPS weakly correlated with capacity, solar targets correlated with number of plants.  \n"
   ]
  },
  {
   "cell_type": "markdown",
   "id": "5c28250b",
   "metadata": {},
   "source": [
    "# Next steps\n",
    "\n",
    "Explore the competitive purpa/partition policies into market creation vs. market expansion;  contract length and size on the intensive margin"
   ]
  },
  {
   "cell_type": "markdown",
   "id": "8127bab6",
   "metadata": {},
   "source": [
    "## Next steps for data collection\n",
    "\n",
    "| Policy Group | Policy | Why? | \n",
    "| :----------: | :---------- |:---------- |\n",
    "|Market Preparation| Interconnection standards |  |"
   ]
  },
  {
   "cell_type": "markdown",
   "id": "fffc68d2",
   "metadata": {},
   "source": [
    "## Next steps for data collection\n",
    "\n",
    "| Policy Group | Policy | Variables to measure | Examples | \n",
    "| :----------: | :---------- |:---------- | : ----- |\n",
    "|Market Preparation| Interconnection standards | Year adopted, capacity thresholds, costs to apply, who manages queue  | NJ and OH have no capacity limit;  SC, VA, WI, have caps of 20 kW.  MA allows up to 10 MW; NM allows up to 80 MW. |\n",
    "|  | Net metering |  Net metering capacity limit, year standards adopted, any changes over time | \n",
    "| | Corporate procurement rules | |  |\n",
    " || Community solar laws | |  |\n",
    "| Market Creation | PURPA Implementation | Changes over time, flesh out existing data |\n",
    "| Market Expansion| Section 1603 Grant | Compute awards by state/year"
   ]
  },
  {
   "cell_type": "markdown",
   "id": "b5e8e06e",
   "metadata": {},
   "source": [
    "## Table of contents\n",
    "\n",
    "- [Static Regression Analysis (2016 only)](#static-regression)\n",
    "- [Jump to regression output](#regressions)"
   ]
  },
  {
   "cell_type": "code",
   "execution_count": 7,
   "id": "bceb3524",
   "metadata": {},
   "outputs": [
    {
     "name": "stdout",
     "output_type": "stream",
     "text": [
      "\n",
      "\n",
      "\n",
      "\n",
      "\n",
      "\n",
      "\n",
      "\n",
      "(56 vars, 500 obs)\n",
      "\n"
     ]
    }
   ],
   "source": [
    "**********************************************\n",
    "****\n",
    "**** OPENING DATA FOR Rachel Anderson\n",
    "****\n",
    "**********************************************\n",
    "set more off\n",
    "clear all\n",
    "macro drop _all\n",
    "clear matrix\n",
    "drop _all \n",
    "cap log close\n",
    "estimates clear\n",
    "\n",
    "import delimited \"/Users/rachelanderson/Dropbox (Princeton)/Research_V2/descriptive_solar/code/analysis/stata-policy-analysis/state_policy_panel.csv\"\n",
    "\n",
    "egen state_code = group(state)\n",
    "// egen region_code = group(region)\n",
    "// replace avg_cap_ac = 0 if avg_cap_ac == ."
   ]
  },
  {
   "cell_type": "markdown",
   "id": "6c7cfd8c",
   "metadata": {},
   "source": [
    "## Define and label outcomes"
   ]
  },
  {
   "cell_type": "code",
   "execution_count": 8,
   "id": "7e1c12a4",
   "metadata": {},
   "outputs": [
    {
     "name": "stdout",
     "output_type": "stream",
     "text": [
      "\n",
      "\n",
      "\n",
      "\n",
      "\n",
      "\n",
      "\n",
      "(172 missing values generated)\n",
      "\n",
      "(172 real changes made)\n",
      "\n",
      "(0 real changes made)\n",
      "\n",
      "(172 missing values generated)\n",
      "\n",
      "\n",
      "\n",
      "\n",
      "\n",
      "\n",
      "\n",
      "\n",
      "\n",
      "\n",
      "\n"
     ]
    }
   ],
   "source": [
    "gen log_n_plants = log(n_plants+1)\n",
    "gen log_ac_cap = log(ac_cap_added + 1)\n",
    "\n",
    "gen log_n_plants_qf = log(n_plants_qf + 1)\n",
    "gen log_ac_cap_qf = log(ac_cap_added_qf + 1)\n",
    "\n",
    "gen log_cum_ac_cap = log(cum_ac_cap_added + 1)\n",
    "gen log_cum_n_plants = log(cum_n_plants + 1)\n",
    "\n",
    "gen cum_avg_cap = cum_ac_cap_added/cum_n_plants\n",
    "replace cum_avg_cap = 0 if cum_avg_cap == .\n",
    "replace avg_cap_ac = 0 if avg_cap_ac == .\n",
    "\n",
    "gen log_cum_avg_plant = log(cum_avg_cap)\n",
    "label variable log_cum_avg_plant \"Log Avg. Size\"\n",
    "\n",
    "label variable log_cum_ac_cap \"Log Total Capacity\"\n",
    "label variable log_ac_cap \"Log Capacity Additions\"\n",
    "\n",
    "label variable log_n_plants \"Log # Plants Added\"\n",
    "label variable log_cum_n_plants \"Log Total # Plants\"\n",
    "\n",
    "label variable cum_avg_cap \"Avg. plant size\"\n",
    "label variable avg_cap_ac \"Avg. new plant size\"\n",
    "\n",
    "gen log_avg_cap = log(avg_cap_ac + 1)\n",
    "label variable log_avg_cap \"Log avg. size\"\n",
    "\n",
    "global outcomes \"n_plants ac_cap_added\"\n",
    "foreach i in $outcomes{\n",
    "    gen `i'_non_qf = `i' - `i'_qf\n",
    "    gen log_`i'_non_qf = log(`i'_non_qf + 1)\n",
    "}"
   ]
  },
  {
   "cell_type": "markdown",
   "id": "43d60931",
   "metadata": {},
   "source": [
    "## Define and label controls"
   ]
  },
  {
   "cell_type": "code",
   "execution_count": 15,
   "id": "b3b868d7",
   "metadata": {},
   "outputs": [
    {
     "name": "stdout",
     "output_type": "stream",
     "text": [
      "\n",
      "variable log_acres already defined\n"
     ]
    },
    {
     "name": "stderr",
     "output_type": "stream",
     "text": [
      "r(110);\n",
      "r(110);\n"
     ]
    },
    {
     "name": "stdout",
     "output_type": "stream",
     "text": [
      "\n",
      "\n"
     ]
    }
   ],
   "source": [
    "gen log_acres = log(acres)\n",
    "gen log_cf = log(nrel_cap_factor)\n",
    "\n",
    "global controls \"log_cf log_acres log_pop retail_choice log_gdp\"\n",
    "global retail_controls \"p_public_sales_2016 p_retail_sales_2016\"\n",
    "\n",
    "label variable log_cf \"Log Capacity Factor\"\n",
    "label variable nrel_cap_factor \"Capacity Factor\"\n",
    "\n",
    "label variable acres \"Acres\"\n",
    "label variable log_acres \"Log acres\"\n",
    "\n",
    "label variable p_retail_sales_2016 \"% Retail Sales (2016)\"\n",
    "label variable p_iou_sales_2016 \"% IOU Sales (2016)\"\n",
    "label variable retail_choice \"Retail Choice?\"\n",
    "\n",
    "label variable log_pop \"Log population\"\n",
    "label variable log_sales \"Log retail sales\"\n",
    "\n",
    "gen log_gdp = log(gdp)\n",
    "label variable log_gdp \"Log GDP\""
   ]
  },
  {
   "cell_type": "markdown",
   "id": "473accb1",
   "metadata": {},
   "source": [
    "## Define and label policies"
   ]
  },
  {
   "cell_type": "code",
   "execution_count": 10,
   "id": "323383ac",
   "metadata": {},
   "outputs": [
    {
     "name": "stdout",
     "output_type": "stream",
     "text": [
      "\n",
      "\n",
      "\n",
      "(120 real changes made)\n",
      "\n",
      "\n",
      "(290 real changes made)\n",
      "\n",
      "\n",
      "\n",
      "\n",
      "\n",
      "\n",
      "\n",
      "\n",
      "\n",
      "\n"
     ]
    }
   ],
   "source": [
    "// PURPA Characteristics \n",
    "\n",
    "global purpa \"purpa_wholesale_2020 purpa_competitive_2020 purpa_standard_contract_2020 purpa_mw_limit_2020 purpa_max_term_2020\"\n",
    "\n",
    "gen purpa_long_term = 0 \n",
    "replace purpa_long_term = 1 if purpa_max_term_2020 > 0 \n",
    "\n",
    "gen purpa_large_limit = 0\n",
    "replace purpa_large_limit = 1 if purpa_mw_limit_2020 >= 1\n",
    "\n",
    "gen purpa_long_term_large = purpa_long_term * purpa_large_limit \n",
    "\n",
    "global alt_purpa \"purpa_long_term purpa_large_limit purpa_long_term_large\"\n",
    "\n",
    "label variable purpa_wholesale_2020 \"PURPA Wholesale Prices\"\n",
    "label variable purpa_competitive_2020 \"Competitive PURPA\"\n",
    "label variable purpa_standard_contract_2020 \"Standard Offer\"\n",
    "label variable purpa_mw_limit_2020 \"Max PURPA Size\"\n",
    "label variable purpa_max_term_2020 \"Max PURPA Contract Length\"\n",
    "\n",
    "label variable purpa_large_limit \"PURPA Cap > 1 MW\"\n",
    "label variable purpa_long_term \"Long-term PURPA\"\n",
    "label variable purpa_long_term_large \"Contracts for Large QFs\"\n"
   ]
  },
  {
   "cell_type": "code",
   "execution_count": 11,
   "id": "f5a7e628",
   "metadata": {},
   "outputs": [
    {
     "name": "stdout",
     "output_type": "stream",
     "text": [
      "\n",
      "(0 real changes made)\n",
      "(0 real changes made)\n",
      "(0 real changes made)\n",
      "(0 real changes made)\n",
      "(0 real changes made)\n"
     ]
    }
   ],
   "source": [
    "// Fix alabama which is missing for some reason\n",
    "foreach i in $purpa{\n",
    "     replace `i' = 0 if `i' == .\n",
    "}"
   ]
  },
  {
   "cell_type": "code",
   "execution_count": 12,
   "id": "b53263ee",
   "metadata": {},
   "outputs": [
    {
     "name": "stdout",
     "output_type": "stream",
     "text": [
      "\n",
      "\n",
      "\n",
      "\n",
      "\n",
      "\n",
      "(40 real changes made)\n",
      "\n"
     ]
    }
   ],
   "source": [
    "// ITC/PTC Characteristics  \n",
    "global itc_ptc \"itc_dummy ptc_dummy\"\n",
    "global alt_itc_ptc \"itc_dummy alt_ptc_dummy\"\n",
    "\n",
    "label variable itc_dummy \"State ITC\"\n",
    "label variable alt_ptc_dummy \"State PTC\"\n",
    "\n",
    "gen any_sub = 0\n",
    "replace any_sub = 1 if state == \"NC\" | state == \"OR\" | state == \"AZ\" | state == \"NM\"\n",
    "label variable any_sub \"Large-scale subsidy\""
   ]
  },
  {
   "cell_type": "code",
   "execution_count": 13,
   "id": "248d5d06",
   "metadata": {},
   "outputs": [],
   "source": [
    "//  RPS Targets  \n",
    "\n",
    "global rps_2016 \"tot_rps_lbl_target_2016 solar_rps_manual_target_2016 dg_rps_manual_target_2016\"\n",
    "global rps_2025 \"tot_rps_lbl_target_2025 solar_rps_manual_target_2025 dg_rps_manual_target_2025\"\n",
    "\n",
    "label variable tot_rps_lbl_target_2016 \"RPS % Target (2016)\"\n",
    "label variable tot_rps_lbl_target_2025 \"RPS % Target (2025)\"\n",
    "label variable tot_rps_lbl_mwh_2016 \"RPS MWh Target (2016)\"\n",
    "label variable tot_rps_lbl_mwh_2025 \"RPS MWh Target (2025)\"\n",
    "\n",
    "label variable solar_rps_manual_target_2016 \"Solar % Target (2016)\"\n",
    "label variable solar_rps_manual_target_2025 \"Solar % Target (2025)\"\n",
    "label variable dg_rps_manual_target_2016 \"DG % Target (2016)\"\n",
    "label variable dg_rps_manual_target_2025 \"DG % Target (2025)\""
   ]
  },
  {
   "cell_type": "markdown",
   "id": "fbb2f511",
   "metadata": {},
   "source": [
    "# Policy Summary Statistics"
   ]
  },
  {
   "cell_type": "code",
   "execution_count": 14,
   "id": "0ce5f1f2",
   "metadata": {},
   "outputs": [],
   "source": [
    "// tab alt_ptc_dummy\n",
    "// tab itc_dummy\n",
    "// tab purpa_wholesale_2020\n",
    "// tab purpa_competitive_2020\n",
    "// tab purpa_standard_contract_2020\n",
    "// scatter purpa_mw_limit_2020 purpa_max_term_2020"
   ]
  },
  {
   "cell_type": "markdown",
   "id": "66776c67",
   "metadata": {},
   "source": [
    "<a id = 'regressions'> </a>\n",
    "# Regressions\n",
    "\n",
    "### A. Static: Year-end 2016\n",
    "Log cumulative installations as of 2016 (measured as capacity and number of plants are positively related to log population\n",
    "\n",
    "Larger plants are built in states with higher solar resource (measured by capacity factor).  \n",
    "\n",
    "These correlations are robust to including static policy variables.  Additionally solar carve-out target and large-scale subsidy is correlated with number of plants, weakly correlated with capacity."
   ]
  },
  {
   "cell_type": "code",
   "execution_count": null,
   "id": "1151dfb5",
   "metadata": {},
   "outputs": [
    {
     "name": "stdout",
     "output_type": "stream",
     "text": [
      "\n",
      "(bin=30, start=0, width=.20021178)\n"
     ]
    }
   ],
   "source": [
    "// hist log_cum_n_plants if year == 2016, bin(30)\n",
    "// hist log_cum_ac_cap if year == 2016, bin(30)\n",
    "// hist log_cum_avg_plant if year == 2016, bin(30)"
   ]
  },
  {
   "cell_type": "code",
   "execution_count": 823,
   "id": "8d7247ba",
   "metadata": {},
   "outputs": [
    {
     "name": "stdout",
     "output_type": "stream",
     "text": [
      "\n",
      "\n",
      "(est1 stored)\n",
      "\n",
      "(est2 stored)\n",
      "\n",
      "(est3 stored)\n",
      "\n",
      "\n",
      "--------------------------------------------------------------------\n",
      "                              (1)             (2)             (3)   \n",
      "                     Log Total # Plants    Log Total Capacity    Log Avg. Size  \n",
      ">  \n",
      "--------------------------------------------------------------------\n",
      "Log Capacity Factor         2.160           5.416           6.072***\n",
      "                           (1.27)          (1.85)          (4.93)   \n",
      "\n",
      "Log acres                  -0.273          -0.285         -0.0851   \n",
      "                          (-1.49)         (-0.91)         (-0.37)   \n",
      "\n",
      "Log population              0.880***        1.372***        0.294   \n",
      "                           (4.44)          (4.40)          (0.99)   \n",
      "\n",
      "Retail Choice?              0.827           0.907          0.0444   \n",
      "                           (1.12)          (0.87)          (0.07)   \n",
      "\n",
      "p_public_sales_2016        -0.670          -0.727          -0.451   \n",
      "                          (-1.00)         (-0.56)         (-0.48)   \n",
      "\n",
      "% Retail Sales (2016)       -1.979          -2.528         -0.0962   \n",
      "                          (-1.40)         (-1.28)         (-0.09)   \n",
      "\n",
      "Constant                   -4.813          -5.401           7.988*  \n",
      "                          (-1.22)         (-0.82)          (2.41)   \n",
      "--------------------------------------------------------------------\n",
      "Observations                   50              50              42   \n",
      "--------------------------------------------------------------------\n",
      "t statistics in parentheses\n",
      "* p<0.05, ** p<0.01, *** p<0.001\n"
     ]
    }
   ],
   "source": [
    "estimates clear\n",
    "eststo: quietly reg log_cum_n_plants $controls $retail_controls if year == 2016, r\n",
    "eststo: quietly reg log_cum_ac_cap $controls $retail_controls if year == 2016, r\n",
    "eststo: quietly reg log_cum_avg_plant $controls $retail_controls if year == 2016, r\n",
    "esttab, label noabbrev  "
   ]
  },
  {
   "cell_type": "code",
   "execution_count": 785,
   "id": "ba74edcb",
   "metadata": {},
   "outputs": [
    {
     "name": "stdout",
     "output_type": "stream",
     "text": [
      "\n",
      "\n",
      "(est1 stored)\n",
      "\n",
      "(est2 stored)\n",
      "\n",
      "(est3 stored)\n",
      "\n",
      "\n",
      "--------------------------------------------------------------------\n",
      "                              (1)             (2)             (3)   \n",
      "                     Log Total # Plants    Log Total Capacity    Log Avg. Size  \n",
      ">  \n",
      "--------------------------------------------------------------------\n",
      "Solar % Target (2016)        0.596***        0.748*         -0.166   \n",
      "                           (3.56)          (2.48)         (-1.33)   \n",
      "\n",
      "Standard Offer              0.332          -0.223          -0.434   \n",
      "                           (0.83)         (-0.38)         (-0.71)   \n",
      "\n",
      "Large-scale subsidy         1.796**         1.957*         -0.390   \n",
      "                           (3.02)          (2.39)         (-1.16)   \n",
      "\n",
      "Log Capacity Factor         0.460           3.532           6.737***\n",
      "                           (0.34)          (1.39)          (4.27)   \n",
      "\n",
      "Log acres                  -0.314          -0.230        -0.00937   \n",
      "                          (-1.75)         (-0.72)         (-0.03)   \n",
      "\n",
      "Log population              0.895***        1.375***        0.236   \n",
      "                           (5.94)          (5.01)          (0.70)   \n",
      "\n",
      "Retail Choice?              0.908           0.787        -0.00836   \n",
      "                           (0.91)          (0.59)         (-0.01)   \n",
      "\n",
      "p_public_sales_2016        -0.709          -0.676          -0.413   \n",
      "                          (-1.05)         (-0.52)         (-0.42)   \n",
      "\n",
      "% Retail Sales (2016)       -2.322          -3.076         -0.0366   \n",
      "                          (-1.32)         (-1.31)         (-0.03)   \n",
      "\n",
      "Constant                   -7.840*         -9.130           9.542*  \n",
      "                          (-2.33)         (-1.53)          (2.43)   \n",
      "--------------------------------------------------------------------\n",
      "Observations                   50              50              42   \n",
      "--------------------------------------------------------------------\n",
      "t statistics in parentheses\n",
      "* p<0.05, ** p<0.01, *** p<0.001\n"
     ]
    }
   ],
   "source": [
    "estimates clear\n",
    "eststo: quietly reg log_cum_n_plants solar_rps_manual_target_2016 purpa_standard_contract_2020 any_sub $controls $retail_controls if year == 2016, r\n",
    "eststo: quietly reg log_cum_ac_cap solar_rps_manual_target_2016 purpa_standard_contract_2020 any_sub $controls $retail_controls if year == 2016, r\n",
    "eststo: quietly reg log_cum_avg_plant solar_rps_manual_target_2016 purpa_standard_contract_2020 any_sub $controls $retail_controls if year == 2016, r\n",
    "esttab, label noabbrev  "
   ]
  },
  {
   "cell_type": "markdown",
   "id": "299e8874",
   "metadata": {},
   "source": [
    "# B.  Panel Analysis"
   ]
  },
  {
   "cell_type": "markdown",
   "id": "50656cec",
   "metadata": {},
   "source": [
    "PURPA Competitive Procuremnet positively correlated with capacity additions, number of plants, and average plant size.  Presence of state PTC has positive correlation.  This coefficient likely overstates the effect of production tax credits because I have coded PTC as available in AZ and NM, which are sunny states with other procurement strategies; whereas ITC was NC and OR, and not much capacity was added in OR. "
   ]
  },
  {
   "cell_type": "markdown",
   "id": "5fd16714",
   "metadata": {},
   "source": [
    "<a id = 'main-result'></a>"
   ]
  },
  {
   "cell_type": "code",
   "execution_count": 16,
   "id": "068743d3",
   "metadata": {},
   "outputs": [
    {
     "name": "stdout",
     "output_type": "stream",
     "text": [
      "\n",
      "\n",
      "\n",
      "\n",
      "\n",
      "(est1 stored)\n",
      "\n",
      "(est2 stored)\n",
      "\n",
      "(est3 stored)\n",
      "\n",
      "\n",
      "Full Sample Results\n",
      "--------------------------------------------------------------------\n",
      "                          Log cap    Log # Plants    Log Avg. Size   \n",
      "--------------------------------------------------------------------\n",
      "Solar % Target (2016)        0.578***        0.400***        0.220   \n",
      "                           (4.12)          (6.42)          (1.75)   \n",
      "\n",
      "DG % Target (2016)          0.548           0.180           0.415   \n",
      "                           (1.07)          (0.74)          (1.47)   \n",
      "\n",
      "RPS % Target (2025)        0.0198*         0.0108*         0.0101   \n",
      "                           (2.02)          (2.19)          (1.39)   \n",
      "\n",
      "Competitive PURPA           1.472**         0.911*          0.568*  \n",
      "                           (2.85)          (2.56)          (2.26)   \n",
      "\n",
      "PURPA Cap > 1 MW          -0.0762         -0.0578         -0.0480   \n",
      "                          (-0.24)         (-0.36)         (-0.22)   \n",
      "\n",
      "Long-term PURPA             0.448           0.405          0.0318   \n",
      "                           (1.06)          (1.74)          (0.12)   \n",
      "\n",
      "State ITC                   0.265           0.633          -0.242   \n",
      "                           (0.34)          (1.07)         (-1.11)   \n",
      "\n",
      "State PTC                   1.936*          0.934*          1.061*  \n",
      "                           (2.47)          (2.48)          (2.41)   \n",
      "\n",
      "Log Capacity Factor         1.553         -0.0545           1.577   \n",
      "                           (1.36)         (-0.16)          (1.71)   \n",
      "\n",
      "Log acres                  0.0677         -0.0163          0.0350   \n",
      "                           (0.46)         (-0.33)          (0.30)   \n",
      "\n",
      "Log population              0.550          0.0949           0.460   \n",
      "                           (0.68)          (0.23)          (0.84)   \n",
      "\n",
      "Retail Choice?             -0.347          -0.307         -0.0543   \n",
      "                          (-0.64)         (-1.24)         (-0.14)   \n",
      "\n",
      "Log GDP                     0.223           0.359         -0.0813   \n",
      "                           (0.25)          (0.77)         (-0.13)   \n",
      "\n",
      "Constant                   -8.190**        -5.267***       -2.990   \n",
      "                          (-2.86)         (-3.60)         (-1.39)   \n",
      "--------------------------------------------------------------------\n",
      "Observations                  500             500             500   \n",
      "--------------------------------------------------------------------\n",
      "t statistics in parentheses\n",
      "* p<0.05, ** p<0.01, *** p<0.001\n"
     ]
    }
   ],
   "source": [
    "global controls \"log_cf log_acres log_pop retail_choice log_gdp\"\n",
    "global rps_vars \"solar_rps_manual_target_2016 dg_rps_manual_target_2016 tot_rps_lbl_target_2025\"\n",
    "global purpa_vars \"purpa_competitive_2020 purpa_large_limit purpa_long_term\"\n",
    "\n",
    "estimates clear\n",
    "eststo: quietly areg log_ac_cap $rps_vars $purpa_vars $alt_itc_ptc $controls, absorb(year) cluster(state_code)\n",
    "eststo: quietly areg log_n_plants $rps_vars $purpa_vars $alt_itc_ptc $controls, absorb(year) cluster(state_code)\n",
    "eststo: quietly areg log_avg_cap $rps_vars $purpa_vars $alt_itc_ptc $controls, absorb(year) cluster(state_code)\n",
    "esttab, label noabbrev mtitle(\"Log cap\" \"Log # Plants\" \"Log Avg. Size\") nonumber title(Full Sample Results)"
   ]
  },
  {
   "cell_type": "markdown",
   "id": "eb2396a7",
   "metadata": {},
   "source": [
    "<a id='selected-sample'></a>\n",
    "\n",
    "### Panel regressions with non-zero state/year observations only"
   ]
  },
  {
   "cell_type": "code",
   "execution_count": 19,
   "id": "b995af4d",
   "metadata": {
    "scrolled": false
   },
   "outputs": [
    {
     "name": "stdout",
     "output_type": "stream",
     "text": [
      "\n",
      "\n",
      "(est1 stored)\n",
      "\n",
      "(est2 stored)\n",
      "\n",
      "(est3 stored)\n",
      "\n",
      "\n",
      "State/year observations with non-zero capacity\n",
      "--------------------------------------------------------------------\n",
      "                          Log cap    Log # Plants    Log Avg. Size   \n",
      "--------------------------------------------------------------------\n",
      "Solar % Target (2016)        0.123           0.292*         -0.175   \n",
      "                           (0.66)          (2.64)         (-1.52)   \n",
      "\n",
      "DG % Target (2016)         0.0995           0.151        -0.00461   \n",
      "                           (0.24)          (0.75)         (-0.02)   \n",
      "\n",
      "RPS % Target (2025)        0.0326**        0.0170**        0.0160*  \n",
      "                           (3.02)          (2.99)          (2.25)   \n",
      "\n",
      "Competitive PURPA           0.986           0.805*          0.238   \n",
      "                           (1.96)          (2.17)          (0.97)   \n",
      "\n",
      "PURPA Cap > 1 MW            0.354           0.146           0.230   \n",
      "                           (0.76)          (0.58)          (0.81)   \n",
      "\n",
      "Long-term PURPA             0.147           0.321          -0.305   \n",
      "                           (0.31)          (1.00)         (-1.27)   \n",
      "\n",
      "State ITC                  0.0657           0.562          -0.466   \n",
      "                           (0.07)          (0.91)         (-1.11)   \n",
      "\n",
      "State PTC                   1.231           0.716*          0.407   \n",
      "                           (1.89)          (2.09)          (1.23)   \n",
      "\n",
      "Log Capacity Factor         5.622**         0.282           4.765***\n",
      "                           (2.93)          (0.28)          (3.66)   \n",
      "\n",
      "Log acres                  -0.295         -0.0857          -0.178   \n",
      "                          (-1.45)         (-0.80)         (-1.36)   \n",
      "\n",
      "Log population              4.236*          1.500           2.886** \n",
      "                           (2.55)          (1.34)          (3.40)   \n",
      "\n",
      "Retail Choice?              0.185          -0.237           0.530   \n",
      "                           (0.25)         (-0.52)          (1.26)   \n",
      "\n",
      "Log GDP                    -3.228          -0.937          -2.518** \n",
      "                          (-1.82)         (-0.79)         (-2.84)   \n",
      "\n",
      "Constant                   -11.61          -9.500*         -2.497   \n",
      "                          (-1.89)         (-2.65)         (-0.68)   \n",
      "--------------------------------------------------------------------\n",
      "Observations                  328             328             328   \n",
      "--------------------------------------------------------------------\n",
      "t statistics in parentheses\n",
      "* p<0.05, ** p<0.01, *** p<0.001\n"
     ]
    }
   ],
   "source": [
    "estimates clear\n",
    "eststo: quietly areg log_ac_cap $rps_vars $purpa_vars $alt_itc_ptc $controls if cum_ac_cap_added >0, absorb(year) cluster(state_code)\n",
    "eststo: quietly areg log_n_plants  $rps_vars $purpa_vars $alt_itc_ptc $controls if cum_n_plants > 0, absorb(year) cluster(state_code)\n",
    "eststo: quietly areg log_avg_cap $rps_vars $purpa_vars $alt_itc_ptc $controls if cum_n_plants > 0, absorb(year) cluster(state_code)\n",
    "esttab, label noabbrev mtitle(\"Log cap\" \"Log # Plants\" \"Log Avg. Size\") nonumber title(State/year observations with non-zero capacity)"
   ]
  },
  {
   "cell_type": "markdown",
   "id": "55590d5d",
   "metadata": {},
   "source": [
    "# Try excluding QF Capacity\n",
    "\n",
    "Excluding PURPA still has same issue"
   ]
  },
  {
   "cell_type": "code",
   "execution_count": 20,
   "id": "29c25499",
   "metadata": {},
   "outputs": [
    {
     "name": "stdout",
     "output_type": "stream",
     "text": [
      "\n",
      "\n",
      "(est1 stored)\n",
      "\n",
      "(est2 stored)\n",
      "\n",
      "\n",
      "Non-QF Facilities Only\n",
      "----------------------------------------------------\n",
      "                          Log cap    Log # Plants   \n",
      "----------------------------------------------------\n",
      "Solar % Target (2016)        0.376*          0.283***\n",
      "                           (2.09)          (3.52)   \n",
      "\n",
      "DG % Target (2016)          0.455           0.126   \n",
      "                           (0.75)          (0.51)   \n",
      "\n",
      "RPS % Target (2025)        0.0216*        0.00978*  \n",
      "                           (2.40)          (2.40)   \n",
      "\n",
      "Competitive PURPA           0.955           0.540*  \n",
      "                           (1.91)          (2.27)   \n",
      "\n",
      "PURPA Cap > 1 MW           -0.204         -0.0998   \n",
      "                          (-0.70)         (-0.72)   \n",
      "\n",
      "Long-term PURPA             0.341           0.206   \n",
      "                           (0.92)          (1.22)   \n",
      "\n",
      "State ITC                  -0.748*         -0.154   \n",
      "                          (-2.23)         (-0.79)   \n",
      "\n",
      "State PTC                   2.033*          0.823** \n",
      "                           (2.67)          (3.23)   \n",
      "\n",
      "Log Capacity Factor         1.994           0.267   \n",
      "                           (1.72)          (0.86)   \n",
      "\n",
      "Log acres                   0.111          0.0124   \n",
      "                           (0.75)          (0.27)   \n",
      "\n",
      "Log population             0.0526         -0.0854   \n",
      "                           (0.08)         (-0.28)   \n",
      "\n",
      "Retail Choice?             -0.277          -0.189   \n",
      "                          (-0.58)         (-0.97)   \n",
      "\n",
      "Log GDP                     0.595           0.431   \n",
      "                           (0.76)          (1.27)   \n",
      "\n",
      "Constant                   -5.158*         -3.309** \n",
      "                          (-2.08)         (-3.21)   \n",
      "----------------------------------------------------\n",
      "Observations                  500             500   \n",
      "----------------------------------------------------\n",
      "t statistics in parentheses\n",
      "* p<0.05, ** p<0.01, *** p<0.001\n"
     ]
    }
   ],
   "source": [
    "estimates clear\n",
    "eststo: quietly areg log_ac_cap_added_non_qf $rps_vars $purpa_vars $alt_itc_ptc $controls, absorb(year) cluster(state_code)\n",
    "eststo: quietly areg log_n_plants_non_qf $rps_vars $purpa_vars $alt_itc_ptc $controls, absorb(year) cluster(state_code)\n",
    "esttab, label noabbrev mtitle(\"Log cap\" \"Log # Plants\") nonumber title(Non-QF Facilities Only)"
   ]
  },
  {
   "cell_type": "markdown",
   "id": "a93acefc",
   "metadata": {},
   "source": [
    "## Check whether QF Capacity responds to PURPA Variables"
   ]
  },
  {
   "cell_type": "code",
   "execution_count": 21,
   "id": "60be460b",
   "metadata": {},
   "outputs": [
    {
     "name": "stdout",
     "output_type": "stream",
     "text": [
      "\n",
      "\n",
      "(est1 stored)\n",
      "\n",
      "(est2 stored)\n",
      "\n",
      "\n",
      "----------------------------------------------------\n",
      "                     log_ac_~p_qf    log_n_p~s_qf   \n",
      "----------------------------------------------------\n",
      "PURPA Wholesale Pr~s       -0.213          -0.236   \n",
      "                          (-0.62)         (-1.12)   \n",
      "\n",
      "Competitive PURPA           1.476           0.967   \n",
      "                           (1.89)          (1.58)   \n",
      "\n",
      "Standard Offer            -0.0360          0.0579   \n",
      "                          (-0.12)          (0.30)   \n",
      "\n",
      "Max PURPA Size           -0.00328        -0.00494   \n",
      "                          (-0.59)         (-1.16)   \n",
      "\n",
      "Max PURPA Contract~h       0.0204          0.0107   \n",
      "                           (1.30)          (0.92)   \n",
      "\n",
      "Solar % Target~2016)        0.427***        0.239** \n",
      "                           (5.01)          (3.33)   \n",
      "\n",
      "DG % Target (2016)          0.356         -0.0464   \n",
      "                           (0.83)         (-0.15)   \n",
      "\n",
      "RPS % Target (2025)        0.0133*         0.0106** \n",
      "                           (2.26)          (3.09)   \n",
      "\n",
      "Log Capacity Factor         0.299          0.0455   \n",
      "                           (0.52)          (0.13)   \n",
      "\n",
      "Log acres                  0.0100         -0.0244   \n",
      "                           (0.12)         (-0.53)   \n",
      "\n",
      "Log population              0.665           0.169   \n",
      "                           (1.37)          (0.58)   \n",
      "\n",
      "Retail Choice?             -0.193          -0.134   \n",
      "                          (-0.62)         (-0.75)   \n",
      "\n",
      "Log GDP                    -0.164           0.125   \n",
      "                          (-0.31)          (0.41)   \n",
      "\n",
      "Constant                   -7.078**        -3.493*  \n",
      "                          (-3.28)         (-2.50)   \n",
      "----------------------------------------------------\n",
      "Observations                  500             500   \n",
      "----------------------------------------------------\n",
      "t statistics in parentheses\n",
      "* p<0.05, ** p<0.01, *** p<0.001\n"
     ]
    }
   ],
   "source": [
    "estimates clear\n",
    "eststo: quietly areg log_ac_cap_qf purpa_wholesale_2020 purpa_competitive_2020 purpa_standard_contract_2020 purpa_mw_limit_2020 purpa_max_term_2020 $rps_vars $controls, absorb(year) cluster(state_code)\n",
    "eststo: quietly areg log_n_plants_qf purpa_wholesale_2020 purpa_competitive_2020 purpa_standard_contract_2020 purpa_mw_limit_2020 purpa_max_term_2020 $rps_vars  $controls, absorb(year) cluster(state_code)\n",
    "esttab, label nonumber"
   ]
  },
  {
   "cell_type": "markdown",
   "id": "d744289e",
   "metadata": {},
   "source": [
    "## Split sample by retail choice"
   ]
  },
  {
   "cell_type": "code",
   "execution_count": 22,
   "id": "2736234f",
   "metadata": {},
   "outputs": [
    {
     "name": "stdout",
     "output_type": "stream",
     "text": [
      "\n",
      "\n",
      "\n",
      "--------------------------------------------------------------------------------\n",
      "-> 0\n",
      "(est1 stored)\n",
      "\n",
      "--------------------------------------------------------------------------------\n",
      "-> 1\n",
      "(est2 stored)\n",
      "\n",
      "\n",
      "Full Sample Results\n",
      "----------------------------------------------------\n",
      "                     No Retail Choice    Retail Choice   \n",
      "                     Log Cap Additions    Log Cap Additions   \n",
      "----------------------------------------------------\n",
      "Solar % Target (2016)        0.696           0.297   \n",
      "                           (1.62)          (1.51)   \n",
      "\n",
      "DG % Target (2016)          0.968*              0   \n",
      "                           (2.43)             (.)   \n",
      "\n",
      "RPS % Target (2025)        0.0239*         0.0198   \n",
      "                           (2.27)          (1.10)   \n",
      "\n",
      "Competitive PURPA           1.285*          0.345   \n",
      "                           (2.29)          (0.34)   \n",
      "\n",
      "PURPA Cap > 1 MW            0.342          -1.700   \n",
      "                           (0.90)         (-1.42)   \n",
      "\n",
      "Long-term PURPA             0.229               0   \n",
      "                           (0.43)             (.)   \n",
      "\n",
      "State ITC                   0.603               0   \n",
      "                           (0.70)             (.)   \n",
      "\n",
      "State PTC                   1.658               0   \n",
      "                           (2.01)             (.)   \n",
      "\n",
      "Log Capacity Factor         0.492           12.82** \n",
      "                           (0.56)          (3.94)   \n",
      "\n",
      "Log acres                  0.0471          -0.469   \n",
      "                           (0.26)         (-1.33)   \n",
      "\n",
      "Log population              1.231          -0.848   \n",
      "                           (0.91)         (-0.39)   \n",
      "\n",
      "Retail Choice?                  0               0   \n",
      "                              (.)             (.)   \n",
      "\n",
      "Log GDP                    -0.641           1.701   \n",
      "                          (-0.40)          (0.95)   \n",
      "\n",
      "Constant                   -9.722**         19.74   \n",
      "                          (-2.87)          (2.11)   \n",
      "----------------------------------------------------\n",
      "Observations                  370             130   \n",
      "----------------------------------------------------\n",
      "t statistics in parentheses\n",
      "* p<0.05, ** p<0.01, *** p<0.001\n"
     ]
    }
   ],
   "source": [
    "estimates clear\n",
    "bysort retail_choice: eststo: quietly areg log_ac_cap $rps_vars $purpa_vars $alt_itc_ptc $controls, absorb(year) cluster(state_code)\n",
    "esttab, label noabbrev mgroup(\"No Retail Choice\" \"Retail Choice\", pattern(1 1)) mtitle(\"Log Cap Additions\" \"Log Cap Additions\") nonumber title(Full Sample Results)"
   ]
  },
  {
   "cell_type": "code",
   "execution_count": 762,
   "id": "b96f2282",
   "metadata": {},
   "outputs": [
    {
     "name": "stdout",
     "output_type": "stream",
     "text": [
      "\n",
      "\n",
      "\n",
      "--------------------------------------------------------------------------------\n",
      "-> 0\n",
      "(est1 stored)\n",
      "\n",
      "--------------------------------------------------------------------------------\n",
      "-> 1\n",
      "(est2 stored)\n",
      "\n",
      "\n",
      "Full Sample Results\n",
      "----------------------------------------------------\n",
      "                     No Retail Choice    Retail Choice   \n",
      "                     Log # Plants    Log # Plants   \n",
      "----------------------------------------------------\n",
      "Solar % Target (2016)        0.303           0.398** \n",
      "                           (1.96)          (3.72)   \n",
      "\n",
      "DG % Target (2016)          0.144               0   \n",
      "                           (0.83)             (.)   \n",
      "\n",
      "RPS % Target (2025)        0.0121          0.0137   \n",
      "                           (1.81)          (1.62)   \n",
      "\n",
      "Competitive PURPA           0.844*          1.340*  \n",
      "                           (2.45)          (2.95)   \n",
      "\n",
      "PURPA Cap > 1 MW            0.138          -0.638   \n",
      "                           (0.98)         (-1.27)   \n",
      "\n",
      "Long-term PURPA             0.259               0   \n",
      "                           (1.27)             (.)   \n",
      "\n",
      "State ITC                   0.810               0   \n",
      "                           (1.26)             (.)   \n",
      "\n",
      "State PTC                   0.950**             0   \n",
      "                           (2.92)             (.)   \n",
      "\n",
      "Log Capacity Factor        -0.314           3.185   \n",
      "                          (-0.96)          (2.10)   \n",
      "\n",
      "Log acres                -0.00970          -0.268   \n",
      "                          (-0.19)         (-1.91)   \n",
      "\n",
      "Log population              0.357***        0.560***\n",
      "                           (3.73)          (6.03)   \n",
      "\n",
      "Retail Choice?                  0               0   \n",
      "                              (.)             (.)   \n",
      "\n",
      "Constant                   -5.435**        -0.114   \n",
      "                          (-2.94)         (-0.04)   \n",
      "----------------------------------------------------\n",
      "Observations                  370             130   \n",
      "----------------------------------------------------\n",
      "t statistics in parentheses\n",
      "* p<0.05, ** p<0.01, *** p<0.001\n"
     ]
    }
   ],
   "source": [
    "estimates clear\n",
    "bysort retail_choice: eststo: quietly areg log_n_plants $rps_vars $purpa_vars $alt_itc_ptc $controls, absorb(year) cluster(state_code)\n",
    "esttab, label noabbrev mgroup(\"No Retail Choice\" \"Retail Choice\", pattern(1 1)) mtitle(\"Log # Plants\" \"Log # Plants\") nonumber title(Full Sample Results)"
   ]
  },
  {
   "cell_type": "markdown",
   "id": "2d346474",
   "metadata": {},
   "source": [
    "<a id='within-rps'></a>\n",
    "\n",
    "## Split sample by having any solar carve-out requirement\n",
    "\n",
    "Among states with solar carve-outs, less capacity built in states with retail choice.  "
   ]
  },
  {
   "cell_type": "code",
   "execution_count": 690,
   "id": "669efc93",
   "metadata": {},
   "outputs": [],
   "source": [
    "capture drop any_solar_rps any_solar_rps_2016 any_solar_rps_2025 log_solar_rps_mwh any_rps"
   ]
  },
  {
   "cell_type": "code",
   "execution_count": 700,
   "id": "8a77cdb9",
   "metadata": {},
   "outputs": [],
   "source": [
    "drop any_solar_rps_2016 any_solar_rps_2025"
   ]
  },
  {
   "cell_type": "code",
   "execution_count": 701,
   "id": "9c073932",
   "metadata": {
    "scrolled": false
   },
   "outputs": [
    {
     "name": "stdout",
     "output_type": "stream",
     "text": [
      "\n",
      "\n",
      "(140 real changes made)\n",
      "\n",
      "(0 real changes made)\n",
      "\n",
      "\n",
      "\n",
      "(120 real changes made)\n",
      "\n",
      "(0 real changes made)\n",
      "\n",
      "\n",
      "\n",
      "\n",
      "\n"
     ]
    }
   ],
   "source": [
    "gen any_solar_rps_2016 = 0 \n",
    "replace any_solar_rps_2016 = 1 if solar_rps_manual_target_2016 > 0 \n",
    "replace any_solar_rps_2016 = 1 if dg_rps_manual_mwh_2016 > 0 \n",
    "label variable any_solar_rps_2016 \"Solar Carve-out (2016?)\"\n",
    "\n",
    "gen any_solar_rps_2025 = 0 \n",
    "replace any_solar_rps_2025 = 1 if solar_rps_manual_target_2025 > 0 \n",
    "replace any_solar_rps_2025 = 1 if dg_rps_manual_target_2025 > 0 \n",
    "label variable any_solar_rps_2025 \"Solar Carve-out (2025)?\"\n",
    "\n",
    "gen log_solar_rps_mwh_2016 = log(solar_rps_manual_mwh_2016 + 1)\n",
    "label variable log_solar_rps_mwh_2016 \"Log MWh Target (2016)\"\n",
    "\n",
    "gen log_solar_rps_mwh_2025 = log(solar_rps_manual_mwh_2025 + 1)\n",
    "label variable log_solar_rps_mwh_2025 \"Log MWh Target (2025)\""
   ]
  },
  {
   "cell_type": "code",
   "execution_count": 677,
   "id": "0d491829",
   "metadata": {},
   "outputs": [
    {
     "name": "stdout",
     "output_type": "stream",
     "text": [
      "\n",
      "\n",
      "(140 real changes made)\n"
     ]
    }
   ],
   "source": [
    "gen any_rps = 0\n",
    "replace any_rps = 1 if tot_rps_lbl_target_2016 > 0"
   ]
  },
  {
   "cell_type": "code",
   "execution_count": 706,
   "id": "2433d23d",
   "metadata": {},
   "outputs": [
    {
     "name": "stdout",
     "output_type": "stream",
     "text": [
      "\n",
      "\n",
      "(0 observations deleted)\n",
      "\n",
      "\n",
      "(est1 stored)\n",
      "\n",
      "(est2 stored)\n",
      "\n",
      "\n",
      "Outcome is Log(Solar Capacity)\n",
      "----------------------------------------------------\n",
      "                     Log Capacity Additions    Log Capacity Additions   \n",
      "----------------------------------------------------\n",
      "Solar % Target              0.218                   \n",
      "(2016)                     (0.56)                   \n",
      "\n",
      "Solar % Target             0.0275                   \n",
      "(2025)                     (0.60)                   \n",
      "\n",
      "Log Capacity Factor         7.886           5.525   \n",
      "                           (1.43)          (1.09)   \n",
      "\n",
      "Log acres                  -0.975          -1.169*  \n",
      "                          (-2.08)         (-2.75)   \n",
      "\n",
      "Log population              1.406**         1.104   \n",
      "                           (3.17)          (1.91)   \n",
      "\n",
      "Retail Choice?             -2.051          -2.934   \n",
      "                          (-1.40)         (-1.96)   \n",
      "\n",
      "Log MWh Target                              0.476   \n",
      "(2016)                                     (2.04)   \n",
      "\n",
      "Log MWh Target                             -0.107** \n",
      "(2025)                                    (-3.13)   \n",
      "\n",
      "Constant                    3.870           3.674   \n",
      "                           (0.53)          (0.63)   \n",
      "----------------------------------------------------\n",
      "Observations                  140             140   \n",
      "----------------------------------------------------\n",
      "t statistics in parentheses\n",
      "* p<0.05, ** p<0.01, *** p<0.001\n"
     ]
    }
   ],
   "source": [
    "capture preserve\n",
    "drop if any_solar_rps_2016 != 1\n",
    "\n",
    "estimates clear\n",
    "eststo: quietly areg log_ac_cap solar_rps_manual_target_2016 solar_rps_manual_target_2025 $controls, absorb(year) cluster(state_code)\n",
    "eststo: quietly areg log_ac_cap log_solar_rps_mwh_2016 log_solar_rps_mwh_2025 $controls, absorb(year) cluster(state_code)\n",
    "esttab,  nonumber label noabbrev title(Outcome is Log(Solar Capacity)) wrap"
   ]
  },
  {
   "cell_type": "markdown",
   "id": "5a57379b",
   "metadata": {},
   "source": [
    "### Within-solar RPS analysis"
   ]
  },
  {
   "cell_type": "code",
   "execution_count": null,
   "id": "91793b7a",
   "metadata": {},
   "outputs": [],
   "source": []
  },
  {
   "cell_type": "markdown",
   "id": "4a833cab",
   "metadata": {},
   "source": [
    "## Net meter capacity\n",
    "\n",
    "Only matters in Northeast, Mid-Atlantic and California."
   ]
  },
  {
   "cell_type": "code",
   "execution_count": 606,
   "id": "34190bff",
   "metadata": {},
   "outputs": [
    {
     "name": "stdout",
     "output_type": "stream",
     "text": [
      "variable year not found\n",
      "\n"
     ]
    }
   ],
   "source": [
    "graph bar (sum) net_meter_cap_ac, over(year)"
   ]
  },
  {
   "cell_type": "code",
   "execution_count": 608,
   "id": "29fc5880",
   "metadata": {},
   "outputs": [
    {
     "name": "stdout",
     "output_type": "stream",
     "text": [
      "\n",
      "already preserved\n"
     ]
    },
    {
     "name": "stderr",
     "output_type": "stream",
     "text": [
      "r(621);\n",
      "r(621);\n"
     ]
    },
    {
     "name": "stdout",
     "output_type": "stream",
     "text": [
      "\n",
      "\n"
     ]
    }
   ],
   "source": [
    "preserve\n",
    "collapse (sum) net_meter_cap_ac, by(state)\n",
    "list\n",
    "restore"
   ]
  },
  {
   "cell_type": "markdown",
   "id": "ee34a9e7",
   "metadata": {},
   "source": [
    "# Intensive margin analyses"
   ]
  },
  {
   "cell_type": "code",
   "execution_count": 583,
   "id": "d341e301",
   "metadata": {},
   "outputs": [
    {
     "name": "stdout",
     "output_type": "stream",
     "text": [
      "\n",
      "     +-------+\n",
      "     | state |\n",
      "     |-------|\n",
      " 41. |    CA |\n",
      " 42. |    CA |\n",
      " 43. |    CA |\n",
      " 44. |    CA |\n",
      " 45. |    CA |\n",
      "     |-------|\n",
      " 46. |    CA |\n",
      " 47. |    CA |\n",
      " 48. |    CA |\n",
      " 49. |    CA |\n",
      " 50. |    CA |\n",
      "     |-------|\n",
      " 51. |    CO |\n",
      " 52. |    CO |\n",
      " 53. |    CO |\n",
      " 54. |    CO |\n",
      " 55. |    CO |\n",
      "     |-------|\n",
      " 56. |    CO |\n",
      " 57. |    CO |\n",
      " 58. |    CO |\n",
      " 59. |    CO |\n",
      " 60. |    CO |\n",
      "     |-------|\n",
      " 91. |    GA |\n",
      " 92. |    GA |\n",
      " 93. |    GA |\n",
      " 94. |    GA |\n",
      " 95. |    GA |\n",
      "     |-------|\n",
      " 96. |    GA |\n",
      " 97. |    GA |\n",
      " 98. |    GA |\n",
      " 99. |    GA |\n",
      "100. |    GA |\n",
      "     |-------|\n",
      "101. |    HI |\n",
      "102. |    HI |\n",
      "103. |    HI |\n",
      "104. |    HI |\n",
      "105. |    HI |\n",
      "     |-------|\n",
      "106. |    HI |\n",
      "107. |    HI |\n",
      "108. |    HI |\n",
      "109. |    HI |\n",
      "110. |    HI |\n",
      "     |-------|\n",
      "261. |    NC |\n",
      "262. |    NC |\n",
      "263. |    NC |\n",
      "264. |    NC |\n",
      "265. |    NC |\n",
      "     |-------|\n",
      "266. |    NC |\n",
      "267. |    NC |\n",
      "268. |    NC |\n",
      "269. |    NC |\n",
      "270. |    NC |\n",
      "     +-------+\n"
     ]
    }
   ],
   "source": [
    "list state if purpa_competitive_2020 == 1"
   ]
  },
  {
   "cell_type": "code",
   "execution_count": 582,
   "id": "226f6841",
   "metadata": {},
   "outputs": [
    {
     "name": "stdout",
     "output_type": "stream",
     "text": [
      "\n",
      "      Source |       SS           df       MS      Number of obs   =       500\n",
      "-------------+----------------------------------   F(11, 488)      =     15.56\n",
      "       Model |  20593.2884        11  1872.11713   Prob > F        =    0.0000\n",
      "    Residual |  58705.5496       488  120.298257   R-squared       =    0.2597\n",
      "-------------+----------------------------------   Adj R-squared   =    0.2430\n",
      "       Total |   79298.838       499  158.915507   Root MSE        =    10.968\n",
      "\n",
      "-------------------------------------------------------------------------------\n",
      "     n_plants |      Coef.   Std. Err.      t    P>|t|     [95% Conf. Interval]\n",
      "--------------+----------------------------------------------------------------\n",
      "purpa_co~2020 |   19.98239   1.641066    12.18   0.000     16.75796    23.20681\n",
      "purpa_st~2020 |   1.148765   1.055402     1.09   0.277     -.924927    3.222458\n",
      "              |\n",
      "         year |\n",
      "        2011  |       1.38   2.193611     0.63   0.530    -2.930089    5.690089\n",
      "        2012  |       2.26   2.193611     1.03   0.303    -2.050089    6.570089\n",
      "        2013  |       2.48   2.193611     1.13   0.259    -1.830089    6.790089\n",
      "        2014  |       4.24   2.193611     1.93   0.054    -.0700887    8.550089\n",
      "        2015  |       5.44   2.193611     2.48   0.013     1.129911    9.750089\n",
      "        2016  |       6.76   2.193611     3.08   0.002     2.449911    11.07009\n",
      "        2017  |       6.06   2.193611     2.76   0.006     1.749911    10.37009\n",
      "        2018  |       4.66   2.193611     2.12   0.034     .3499113    8.970089\n",
      "        2019  |        5.3   2.193611     2.42   0.016     .9899113    9.610089\n",
      "              |\n",
      "        _cons |  -2.119399   1.711068    -1.24   0.216    -5.481368     1.24257\n",
      "-------------------------------------------------------------------------------\n"
     ]
    }
   ],
   "source": [
    "reg n_plants purpa_competitive_2020 purpa_standard_contract_2020 i.year "
   ]
  },
  {
   "cell_type": "code",
   "execution_count": 577,
   "id": "7fa197ce",
   "metadata": {},
   "outputs": [
    {
     "name": "stdout",
     "output_type": "stream",
     "text": [
      "\n",
      "      PURPA |\n",
      "  Wholesale |\n",
      "     Prices |      Freq.     Percent        Cum.\n",
      "------------+-----------------------------------\n",
      "          0 |        350       70.00       70.00\n",
      "          1 |        150       30.00      100.00\n",
      "------------+-----------------------------------\n",
      "      Total |        500      100.00\n"
     ]
    }
   ],
   "source": [
    "tab purpa_wholesale_2020 "
   ]
  },
  {
   "cell_type": "code",
   "execution_count": 578,
   "id": "c9d91388",
   "metadata": {},
   "outputs": [
    {
     "name": "stdout",
     "output_type": "stream",
     "text": [
      "\n",
      "Competitive |\n",
      "      PURPA |      Freq.     Percent        Cum.\n",
      "------------+-----------------------------------\n",
      "          0 |        450       90.00       90.00\n",
      "          1 |         50       10.00      100.00\n",
      "------------+-----------------------------------\n",
      "      Total |        500      100.00\n"
     ]
    }
   ],
   "source": [
    "tab purpa_competitive_2020"
   ]
  },
  {
   "cell_type": "code",
   "execution_count": 579,
   "id": "db845bb8",
   "metadata": {},
   "outputs": [
    {
     "name": "stdout",
     "output_type": "stream",
     "text": [
      "\n",
      "   Standard |\n",
      "      Offer |      Freq.     Percent        Cum.\n",
      "------------+-----------------------------------\n",
      "          0 |        160       32.00       32.00\n",
      "          1 |        340       68.00      100.00\n",
      "------------+-----------------------------------\n",
      "      Total |        500      100.00\n"
     ]
    }
   ],
   "source": [
    "tab purpa_standard_contract_2020"
   ]
  },
  {
   "cell_type": "code",
   "execution_count": null,
   "id": "dcc5d7cd",
   "metadata": {},
   "outputs": [],
   "source": []
  },
  {
   "cell_type": "code",
   "execution_count": 279,
   "id": "a11d4503",
   "metadata": {
    "scrolled": false
   },
   "outputs": [
    {
     "name": "stdout",
     "output_type": "stream",
     "text": [
      "\n",
      "\n",
      "(est1 stored)\n",
      "\n",
      "(est2 stored)\n",
      "\n",
      "\n",
      "Full Sample\n",
      "----------------------------------------------------\n",
      "                              (1)             (2)   \n",
      "                     Log Capacity Additions    Log # Plants Added   \n",
      "----------------------------------------------------\n",
      "RPS % Target (2016)        0.0340          0.0207   \n",
      "                           (1.42)          (1.65)   \n",
      "\n",
      "Solar % Target (2016)        0.642***        0.442***\n",
      "                           (3.52)          (6.78)   \n",
      "\n",
      "DG % Target (2016)          0.634           0.195   \n",
      "                           (1.84)          (1.05)   \n",
      "\n",
      "PURPA Contracts             0.878           0.458   \n",
      "                           (1.34)          (1.15)   \n",
      "\n",
      "PURPA Cap > 200 kW         -0.218          -0.134   \n",
      "                          (-0.60)         (-0.74)   \n",
      "\n",
      "Contracts for Large QFs       -0.152           0.137   \n",
      "                          (-0.19)          (0.29)   \n",
      "\n",
      "State ITC                   0.744           0.891   \n",
      "                           (0.61)          (1.04)   \n",
      "\n",
      "State PTC                   1.740**         0.733** \n",
      "                           (3.43)          (3.47)   \n",
      "\n",
      "Log Capacity Factor         1.589          -0.175   \n",
      "                           (1.04)         (-0.32)   \n",
      "\n",
      "Log acres                 -0.0883          -0.112   \n",
      "                          (-0.43)         (-1.26)   \n",
      "\n",
      "Log population              0.881***        0.503***\n",
      "                           (5.43)          (5.80)   \n",
      "\n",
      "Retail Choice?              0.500           0.413   \n",
      "                           (0.58)          (0.88)   \n",
      "\n",
      "% Retail Sales (2016)       -1.760          -1.462   \n",
      "                          (-1.06)         (-1.88)   \n",
      "\n",
      "% IOU Sales (2016)         0.0635          0.0844   \n",
      "                           (0.08)          (0.19)   \n",
      "\n",
      "Constant                   -8.616**        -6.195***\n",
      "                          (-2.85)         (-4.06)   \n",
      "----------------------------------------------------\n",
      "Observations                  500             500   \n",
      "----------------------------------------------------\n",
      "t statistics in parentheses\n",
      "* p<0.05, ** p<0.01, *** p<0.001\n",
      "\n",
      "\n",
      "(est1 stored)\n",
      "\n",
      "(est2 stored)\n",
      "\n",
      "\n",
      "States with non-zero capacity\n",
      "----------------------------------------------------\n",
      "                              (1)             (2)   \n",
      "                     Log Capacity Additions    Log # Plants Added   \n",
      "----------------------------------------------------\n",
      "RPS % Target (2016)        0.0216          0.0225   \n",
      "                           (0.65)          (1.13)   \n",
      "\n",
      "Solar % Target (2016)        0.180           0.310***\n",
      "                           (1.23)          (3.60)   \n",
      "\n",
      "DG % Target (2016)        -0.0238          0.0686   \n",
      "                          (-0.07)          (0.37)   \n",
      "\n",
      "PURPA Contracts             2.096*          0.873   \n",
      "                           (2.60)          (1.80)   \n",
      "\n",
      "PURPA Cap > 200 kW          0.188         -0.0343   \n",
      "                           (0.39)         (-0.14)   \n",
      "\n",
      "Contracts for Large QFs       -1.993          -0.459   \n",
      "                          (-1.94)         (-0.77)   \n",
      "\n",
      "State ITC                   0.582           0.834   \n",
      "                           (0.49)          (1.04)   \n",
      "\n",
      "State PTC                   1.607**         0.739** \n",
      "                           (3.28)          (3.42)   \n",
      "\n",
      "Log Capacity Factor         7.500**         0.767   \n",
      "                           (3.33)          (0.64)   \n",
      "\n",
      "Log acres                  -0.500**        -0.212*  \n",
      "                          (-3.22)         (-2.16)   \n",
      "\n",
      "Log population              1.299***        0.672***\n",
      "                           (6.93)          (5.86)   \n",
      "\n",
      "Retail Choice?             0.0726           0.279   \n",
      "                           (0.11)          (0.62)   \n",
      "\n",
      "% Retail Sales (2016)       -0.336          -1.095   \n",
      "                          (-0.26)         (-1.68)   \n",
      "\n",
      "% IOU Sales (2016)          1.091           0.750   \n",
      "                           (1.04)          (1.12)   \n",
      "\n",
      "Constant                   -1.616          -6.464*  \n",
      "                          (-0.40)         (-2.61)   \n",
      "----------------------------------------------------\n",
      "Observations                  328             328   \n",
      "----------------------------------------------------\n",
      "t statistics in parentheses\n",
      "* p<0.05, ** p<0.01, *** p<0.001\n"
     ]
    }
   ],
   "source": [
    "estimates clear\n",
    "eststo: quietly areg log_ac_cap $rps_2016 $alt_purpa $alt_itc_ptc $controls $retail_controls, absorb(year) cluster(state_code)\n",
    "eststo: quietly areg log_n_plants $rps_2016 $alt_purpa $alt_itc_ptc $controls $retail_controls, absorb(year) cluster(state_code)\n",
    "esttab, label noabbrev  title(Full Sample)\n",
    "\n",
    "estimates clear\n",
    "eststo: quietly areg log_ac_cap $rps_2016 $alt_purpa $alt_itc_ptc $controls $retail_controls if cum_ac_cap_added > 0, absorb(year) cluster(state_code)\n",
    "eststo: quietly areg log_n_plants $rps_2016 $alt_purpa $alt_itc_ptc $controls $retail_controls if cum_n_plants > 0, absorb(year) cluster(state_code)\n",
    "esttab, label noabbrev  title(States with non-zero capacity)"
   ]
  },
  {
   "cell_type": "code",
   "execution_count": null,
   "id": "2880f451",
   "metadata": {},
   "outputs": [],
   "source": []
  },
  {
   "cell_type": "code",
   "execution_count": 255,
   "id": "46e9c21c",
   "metadata": {},
   "outputs": [
    {
     "name": "stdout",
     "output_type": "stream",
     "text": [
      "\n",
      "Outcome is Log(Solar Capacity)\n",
      "--------------------------------------------------------------------------------\n",
      "> ----\n",
      "                     Any solar carve-out?                        Any RPS?       \n",
      ">             \n",
      "                               No             Yes              No             Ye\n",
      "> s   \n",
      "--------------------------------------------------------------------------------\n",
      "> ----\n",
      "Log Capacity Factor         3.159***        11.82***        0.680           12.0\n",
      "> 6***\n",
      "                           (5.59)          (6.56)          (0.98)         (13.11\n",
      "> )   \n",
      "\n",
      "Log acres                  0.0644          -2.112***       -0.368*         -0.61\n",
      "> 3***\n",
      "                           (0.69)         (-4.95)         (-2.39)         (-5.22\n",
      "> )   \n",
      "\n",
      "Log population              2.669***        0.211           2.107***        0.72\n",
      "> 8   \n",
      "                           (9.49)          (0.25)          (5.60)          (1.58\n",
      "> )   \n",
      "\n",
      "Log retail sales           -2.011***        1.267          -1.496***        0.61\n",
      "> 2   \n",
      "                          (-7.03)          (1.52)         (-3.96)          (1.23\n",
      "> )   \n",
      "\n",
      "Retail Choice?              0.752          -8.015**             0          0.086\n",
      "> 7   \n",
      "                           (1.64)         (-2.86)             (.)          (0.24\n",
      "> )   \n",
      "\n",
      "% Retail Sales             -0.706           10.62**        -25.14           1.20\n",
      "> 0   \n",
      "(2016)                    (-0.77)          (2.70)         (-0.29)          (1.41\n",
      "> )   \n",
      "\n",
      "% IOU Sales (2016)         -0.229           2.814          -0.154           2.52\n",
      "> 2***\n",
      "                          (-0.61)          (1.87)         (-0.37)          (3.46\n",
      "> )   \n",
      "\n",
      "Constant                    1.322           15.80*          1.206           3.74\n",
      "> 4   \n",
      "                           (0.60)          (2.60)          (0.37)          (1.75\n",
      "> )   \n",
      "--------------------------------------------------------------------------------\n",
      "> ----\n",
      "Observations                  360             140             220             28\n",
      "> 0   \n",
      "--------------------------------------------------------------------------------\n",
      "> ----\n",
      "t statistics in parentheses\n",
      "* p<0.05, ** p<0.01, *** p<0.001\n"
     ]
    }
   ],
   "source": []
  },
  {
   "cell_type": "markdown",
   "id": "b7a29968",
   "metadata": {},
   "source": [
    "## Robustness: QF Capacity Only"
   ]
  },
  {
   "cell_type": "code",
   "execution_count": 197,
   "id": "d3a9130a",
   "metadata": {},
   "outputs": [
    {
     "name": "stdout",
     "output_type": "stream",
     "text": [
      "\n",
      "\n",
      "(est1 stored)\n",
      "\n",
      "(est2 stored)\n",
      "\n",
      "\n",
      "Using full sample\n",
      "----------------------------------------------------\n",
      "                              (1)             (2)   \n",
      "                     log_ac_cap_qf    log_n_plants_qf   \n",
      "----------------------------------------------------\n",
      "RPS % Target (2016)        0.0146          0.0117   \n",
      "                           (0.98)          (1.32)   \n",
      "\n",
      "Solar % Target (2016)        0.386***        0.238***\n",
      "                           (4.60)          (3.92)   \n",
      "\n",
      "DG % Target (2016)          0.107          -0.101   \n",
      "                           (0.36)         (-0.55)   \n",
      "\n",
      "PURPA Contracts             0.445           0.212   \n",
      "                           (1.48)          (1.05)   \n",
      "\n",
      "PURPA Cap > 200 kW         -0.297          -0.195   \n",
      "                          (-1.48)         (-1.69)   \n",
      "\n",
      "Contracts for Large QFs        0.606           0.482   \n",
      "                           (1.28)          (1.58)   \n",
      "\n",
      "State ITC                   0.772           0.849   \n",
      "                           (0.55)          (0.83)   \n",
      "\n",
      "State PTC                   0.845           0.376   \n",
      "                           (1.22)          (1.10)   \n",
      "\n",
      "Log Capacity Factor         0.449          -0.117   \n",
      "                           (0.80)         (-0.34)   \n",
      "\n",
      "Log acres                  -0.136         -0.0901   \n",
      "                          (-1.43)         (-1.58)   \n",
      "\n",
      "Log population              1.455***        0.760***\n",
      "                           (6.87)          (5.32)   \n",
      "\n",
      "Log retail sales           -0.899***       -0.463** \n",
      "                          (-3.79)         (-2.95)   \n",
      "\n",
      "Retail Choice?              0.626           0.405   \n",
      "                           (1.49)          (1.46)   \n",
      "\n",
      "% Retail Sales (2016)       -1.688**        -1.130** \n",
      "                          (-2.87)         (-2.85)   \n",
      "\n",
      "% IOU Sales (2016)         -0.200         -0.0639   \n",
      "                          (-0.36)         (-0.20)   \n",
      "\n",
      "Constant                   -3.021          -2.124   \n",
      "                          (-1.35)         (-1.35)   \n",
      "----------------------------------------------------\n",
      "Observations                  500             500   \n",
      "----------------------------------------------------\n",
      "t statistics in parentheses\n",
      "* p<0.05, ** p<0.01, *** p<0.001\n"
     ]
    }
   ],
   "source": [
    "estimates clear\n",
    "eststo: quietly areg log_ac_cap_qf $rps_2016 $alt_purpa $alt_itc_ptc $controls $retail_controls, absorb(year) cluster(state_code)\n",
    "eststo: quietly areg log_n_plants_qf $rps_2016 $alt_purpa $alt_itc_ptc $controls $retail_controls, absorb(year) cluster(state_code)\n",
    "esttab, label noabbrev title(Using full sample)"
   ]
  },
  {
   "cell_type": "code",
   "execution_count": 183,
   "id": "b7fb28a0",
   "metadata": {},
   "outputs": [
    {
     "name": "stdout",
     "output_type": "stream",
     "text": [
      "\n",
      "\n",
      "(est1 stored)\n",
      "\n",
      "(est2 stored)\n",
      "\n",
      "\n",
      "Using states with QF capacity > 0\n",
      "----------------------------------------------------\n",
      "                              (1)             (2)   \n",
      "                     log_ac_cap_qf    log_n_plants_qf   \n",
      "----------------------------------------------------\n",
      "RPS % Target (2016)        0.0318          0.0353   \n",
      "                           (1.01)          (1.99)   \n",
      "\n",
      "Solar % Target (2016)        0.141           0.252***\n",
      "                           (1.26)          (3.69)   \n",
      "\n",
      "DG % Target (2016)         -0.909***       -0.482*  \n",
      "                          (-3.99)         (-2.42)   \n",
      "\n",
      "PURPA Contracts             1.264          0.0824   \n",
      "                           (1.91)          (0.23)   \n",
      "\n",
      "PURPA Cap > 200 kW         0.0134          -0.281   \n",
      "                           (0.05)         (-1.56)   \n",
      "\n",
      "Contracts for Large QFs       0.0339           1.153*  \n",
      "                           (0.04)          (2.51)   \n",
      "\n",
      "State ITC                   0.495           1.130** \n",
      "                           (1.14)          (2.75)   \n",
      "\n",
      "State PTC                   0.997*          0.521   \n",
      "                           (2.44)          (1.81)   \n",
      "\n",
      "Log Capacity Factor         1.793          -2.415*  \n",
      "                           (1.11)         (-2.53)   \n",
      "\n",
      "Log acres                 -0.0830           0.159   \n",
      "                          (-0.44)          (1.24)   \n",
      "\n",
      "Log population             0.0795           0.505   \n",
      "                           (0.14)          (1.58)   \n",
      "\n",
      "Log retail sales            0.428          -0.420   \n",
      "                           (0.61)         (-1.04)   \n",
      "\n",
      "Retail Choice?             -0.915          -0.331   \n",
      "                          (-1.33)         (-0.68)   \n",
      "\n",
      "% Retail Sales (2016)      -0.0954          -0.419   \n",
      "                          (-0.10)         (-0.81)   \n",
      "\n",
      "% IOU Sales (2016)         -0.416          -0.203   \n",
      "                          (-0.76)         (-0.60)   \n",
      "\n",
      "Constant                   -2.556          -4.464   \n",
      "                          (-0.61)         (-1.57)   \n",
      "----------------------------------------------------\n",
      "Observations                  174             174   \n",
      "----------------------------------------------------\n",
      "t statistics in parentheses\n",
      "* p<0.05, ** p<0.01, *** p<0.001\n"
     ]
    }
   ],
   "source": [
    "estimates clear\n",
    "eststo: quietly areg log_ac_cap_qf $rps_2016 $alt_purpa $alt_itc_ptc $controls $retail_controls if cum_ac_cap_added_qf >0 , absorb(year) cluster(state_code)\n",
    "eststo: quietly areg log_n_plants_qf $rps_2016 $alt_purpa $alt_itc_ptc $controls $retail_controls if n_plants_qf > 0 , absorb(year) cluster(state_code)\n",
    "esttab, label noabbrev title(Using states with QF capacity > 0)"
   ]
  },
  {
   "cell_type": "code",
   "execution_count": null,
   "id": "4f1ae216",
   "metadata": {},
   "outputs": [],
   "source": [
    "estimates clear\n",
    "eststo: quietly reg log_cum_ac_cap $rps_2026 $controls if year == 2016, r\n",
    "eststo: quietly areg log_ac_cap_added $rps_2016 $controls, absorb(year) cluster(state_code)\n",
    "// label tot_sales\n",
    "esttab, label noabbrev  "
   ]
  },
  {
   "cell_type": "code",
   "execution_count": null,
   "id": "0f53eabd",
   "metadata": {},
   "outputs": [],
   "source": []
  },
  {
   "cell_type": "code",
   "execution_count": null,
   "id": "eaf83053",
   "metadata": {
    "collapsed": true,
    "scrolled": true
   },
   "outputs": [],
   "source": [
    "reg log_cum_ac_cap $rps_2016 $controls if year == 2016, r"
   ]
  },
  {
   "cell_type": "code",
   "execution_count": 38,
   "id": "fb6cf52c",
   "metadata": {},
   "outputs": [
    {
     "name": "stdout",
     "output_type": "stream",
     "text": [
      "\n",
      "Linear regression, absorbing indicators         Number of obs     =        259\n",
      "Absorbed variable: year                         No. of categories =         10\n",
      "                                                F(  11,     42)   =      41.02\n",
      "                                                Prob > F          =     0.0000\n",
      "                                                R-squared         =     0.4297\n",
      "                                                Adj R-squared     =     0.3818\n",
      "                                                Root MSE          =     1.4844\n",
      "\n",
      "                             (Std. Err. adjusted for 43 clusters in state_code)\n",
      "-------------------------------------------------------------------------------\n",
      "              |               Robust\n",
      "   log_ac_cap |      Coef.   Std. Err.      t    P>|t|     [95% Conf. Interval]\n",
      "--------------+----------------------------------------------------------------\n",
      "purpa_wh~2020 |   .2394027   .6991954     0.34   0.734    -1.171631    1.650436\n",
      "purpa_co~2020 |   .2169212   .7390819     0.29   0.771    -1.274607    1.708449\n",
      "purpa_st~2020 |  -.2844856   .7674335    -0.37   0.713    -1.833229    1.264258\n",
      "purpa_mw~2020 |   .0043738   .0062245     0.70   0.486    -.0081876    .0169353\n",
      "purpa_ma~2020 |    .021789   .0174364     1.25   0.218     -.013399     .056977\n",
      "nrel_cap_fa~r |   24.42502   7.227748     3.38   0.002     9.838839    39.01121\n",
      "      log_pop |   .5738545   .8174697     0.70   0.487    -1.075866    2.223575\n",
      "    log_sales |   .0035394   .8229804     0.00   0.997    -1.657302    1.664381\n",
      "p_retail~2016 |  -.8074859   1.118509    -0.72   0.474    -3.064728    1.449756\n",
      "p_iou_sa~2016 |   1.472925   .7557456     1.95   0.058    -.0522318    2.998081\n",
      "retail_choice |   .5033865   .4649145     1.08   0.285     -.434849    1.441622\n",
      "        _cons |  -11.84746   3.737635    -3.17   0.003    -19.39031   -4.304604\n",
      "-------------------------------------------------------------------------------\n"
     ]
    }
   ],
   "source": [
    "areg log_ac_cap $purpa $controls, absorb(year) cluster(state_code)"
   ]
  },
  {
   "cell_type": "code",
   "execution_count": null,
   "id": "07706cc0",
   "metadata": {},
   "outputs": [],
   "source": []
  }
 ],
 "metadata": {
  "kernelspec": {
   "display_name": "Stata",
   "language": "stata",
   "name": "stata"
  },
  "language_info": {
   "codemirror_mode": "stata",
   "file_extension": ".do",
   "mimetype": "text/x-stata",
   "name": "stata",
   "version": "15.1"
  }
 },
 "nbformat": 4,
 "nbformat_minor": 5
}
