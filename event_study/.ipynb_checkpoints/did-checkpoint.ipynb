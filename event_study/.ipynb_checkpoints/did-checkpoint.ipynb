{
 "cells": [
  {
   "cell_type": "markdown",
   "id": "f2ff6201",
   "metadata": {},
   "source": [
    "### Diff-in-diff type study\n",
    "\n",
    "$$y_{st} = \\alpha + \\beta_1\\text{market prep}_{st} + \\beta_2 \\text{market creation}_{st} + \\beta_3\\text{market prep}_{st}\\times\\text{market creation}_{st} + X_{st} + \\gamma_s + \\mu_t + \\varepsilon_{st} $$\n",
    "\n",
    "where I define market preparation and market creation policies as below"
   ]
  },
  {
   "cell_type": "code",
   "execution_count": 159,
   "id": "b66cde2e",
   "metadata": {},
   "outputs": [
    {
     "name": "stdout",
     "output_type": "stream",
     "text": [
      "\n",
      "\n",
      "\n",
      "\n",
      "\n",
      "\n",
      "\n",
      "\n",
      "(57 vars, 750 obs)\n",
      "\n",
      "\n",
      "\n",
      "\n",
      "\n",
      "\n",
      "\n",
      "\n",
      "\n",
      "(398 missing values generated)\n",
      "\n",
      "(398 real changes made)\n",
      "\n",
      "(0 real changes made)\n",
      "\n",
      "\n",
      "\n",
      "\n",
      "\n",
      "\n",
      "\n",
      "\n",
      "\n",
      "\n",
      "\n",
      "\n",
      "\n",
      "\n",
      "\n",
      "\n",
      "\n",
      "\n",
      "\n",
      "\n",
      "\n",
      "\n"
     ]
    }
   ],
   "source": [
    "**********************************************\n",
    "****\n",
    "**** OPENING DATA FOR Rachel Anderson\n",
    "****\n",
    "**********************************************\n",
    "set more off\n",
    "clear all\n",
    "macro drop _all\n",
    "clear matrix\n",
    "drop _all \n",
    "cap log close\n",
    "estimates clear\n",
    "\n",
    "import delimited \"/Users/rachelanderson/Dropbox (Princeton)/Research_V2/descriptive_solar/code/analysis/stata-policy-analysis/event_study/event-study-sample.csv\"\n",
    "\n",
    "**********************************************\n",
    "****\n",
    "**** Encode group identifiers\n",
    "****\n",
    "**********************************************\n",
    "\n",
    "egen state_code = group(state)\n",
    "egen region_code = group(region)\n",
    "\n",
    "**********************************************\n",
    "****\n",
    "**** Outcomes\n",
    "****\n",
    "**********************************************\n",
    "\n",
    "\n",
    "// Create log outcome variables\n",
    "gen log_n_plants = log(n_plants+1)\n",
    "gen log_ac_cap = log(ac_cap_added + 1)\n",
    "\n",
    "gen log_n_plants_qf = log(n_plants_qf + 1)\n",
    "gen log_ac_cap_qf = log(ac_cap_added_qf + 1)\n",
    "\n",
    "gen log_cum_ac_cap = log(cum_ac_cap_added + 1)\n",
    "gen log_cum_n_plants = log(cum_n_plants + 1)\n",
    "\n",
    "gen cum_avg_cap = cum_ac_cap_added/cum_n_plants\n",
    "replace cum_avg_cap = 0 if cum_avg_cap == .\n",
    "replace avg_cap_ac = 0 if avg_cap_ac == .\n",
    "\n",
    "gen log_cum_avg_plant = log(cum_avg_cap + 1)\n",
    "label variable log_cum_avg_plant \"Log Avg. Size\"\n",
    "\n",
    "label variable log_cum_ac_cap \"Log Total Capacity\"\n",
    "label variable log_ac_cap \"Log Capacity Additions\"\n",
    "\n",
    "label variable log_n_plants \"Log # Plants Added\"\n",
    "label variable log_cum_n_plants \"Log Total # Plants\"\n",
    "\n",
    "label variable cum_avg_cap \"Avg. plant size\"\n",
    "label variable avg_cap_ac \"Avg. new plant size\"\n",
    "\n",
    "gen log_avg_cap = log(avg_cap_ac + 1)\n",
    "label variable log_avg_cap \"Log avg. size\"\n",
    "\n",
    "// create capacity per cap\n",
    "gen dc_per_cap = dc_cap_added/pop_2010\n",
    "gen log_dc_per_cap = log(dc_per_cap +1)\n",
    "label variable dc_per_cap \"Megawatts per capita\"\n",
    "label variable log_dc_per_cap \"Log MW per capita\"\n",
    "\n",
    "**********************************************\n",
    "****\n",
    "**** Label policy variables\n",
    "****\n",
    "**********************************************\n",
    "\n",
    "label variable first_plant_yr \"First installation\"\n",
    "label variable first_ipp_plant_yr \"First IPP installation\"\n",
    "\n",
    "label variable first_carveout_year \"First active carve-out\"\n",
    "label variable first_rps_year \"First active RPS\"\n",
    "\n",
    "label variable itc_introduced \"ITC introduced\"\n",
    "label variable itc_expired \"ITC expired\"\n",
    "\n",
    "label variable ptc_introduced \"PTC introduced\"\n",
    "label variable ptc_expired \"PTC expired\""
   ]
  },
  {
   "cell_type": "code",
   "execution_count": 160,
   "id": "49f8bde0",
   "metadata": {},
   "outputs": [
    {
     "name": "stdout",
     "output_type": "stream",
     "text": [
      "\n",
      "\n",
      "(49 real changes made)\n",
      "\n",
      "\n",
      "(75 real changes made)\n",
      "\n",
      "\n",
      "(124 real changes made)\n"
     ]
    }
   ],
   "source": [
    "gen active_itc = 0\n",
    "replace active_itc = 1 if year >= itc_start_yr & year <= itc_end_yr  \n",
    "gen active_ptc = 0\n",
    "replace active_ptc = 1 if year >= ptc_start_yr & year <= ptc_end_yr  \n",
    "\n",
    "gen active_incentive = 0\n",
    "replace active_incentive = 1 if active_itc == 1 | active_ptc == 1"
   ]
  },
  {
   "cell_type": "code",
   "execution_count": 163,
   "id": "f6f90f9c",
   "metadata": {},
   "outputs": [
    {
     "name": "stdout",
     "output_type": "stream",
     "text": [
      "\n",
      "\n",
      "(277 real changes made)\n"
     ]
    }
   ],
   "source": [
    "gen any_qf = 0\n",
    "replace any_qf = 1 if cum_ac_cap_added_qf > 0 \n",
    "\n",
    "\n",
    "gen qf_stack = any_qf*active_incentive"
   ]
  },
  {
   "cell_type": "code",
   "execution_count": 167,
   "id": "8f6c1fe9",
   "metadata": {},
   "outputs": [
    {
     "name": "stdout",
     "output_type": "stream",
     "text": [
      "\n",
      "       panel variable:  state_code (strongly balanced)\n",
      "        time variable:  year, 2005 to 2019\n",
      "                delta:  1 unit\n",
      "\n",
      "\n",
      "Fixed-effects (within) regression               Number of obs     =        750\n",
      "Group variable: state_code                      Number of groups  =         50\n",
      "\n",
      "R-sq:                                           Obs per group:\n",
      "     within  = 0.3580                                         min =         15\n",
      "     between = 0.5676                                         avg =       15.0\n",
      "     overall = 0.4131                                         max =         15\n",
      "\n",
      "                                                F(1,49)           =     153.10\n",
      "corr(u_i, Xb)  = 0.0639                         Prob > F          =     0.0000\n",
      "\n",
      "                            (Std. Err. adjusted for 50 clusters in state_code)\n",
      "------------------------------------------------------------------------------\n",
      "             |               Robust\n",
      "log_ac_cap~f |      Coef.   Std. Err.      t    P>|t|     [95% Conf. Interval]\n",
      "-------------+----------------------------------------------------------------\n",
      "      any_qf |   1.821475   .1472085    12.37   0.000     1.525648    2.117301\n",
      "       _cons |   .0236953    .054369     0.44   0.665    -.0855634    .1329539\n",
      "-------------+----------------------------------------------------------------\n",
      "     sigma_u |  .48978898\n",
      "     sigma_e |  1.0055289\n",
      "         rho |  .19176402   (fraction of variance due to u_i)\n",
      "------------------------------------------------------------------------------\n"
     ]
    }
   ],
   "source": [
    "xtset state_code year\n",
    "xtreg log_ac_cap_qf any_qf , fe vce(cluster state_code)"
   ]
  },
  {
   "cell_type": "code",
   "execution_count": 152,
   "id": "dd3e8c1b",
   "metadata": {},
   "outputs": [
    {
     "name": "stdout",
     "output_type": "stream",
     "text": [
      "\n",
      "       panel variable:  state_code (strongly balanced)\n",
      "        time variable:  year, 2005 to 2019\n",
      "                delta:  1 unit\n",
      "\n",
      "\n",
      "Fixed-effects (within) regression               Number of obs     =        750\n",
      "Group variable: state_code                      Number of groups  =         50\n",
      "\n",
      "R-sq:                                           Obs per group:\n",
      "     within  = 0.3359                                         min =         15\n",
      "     between = 0.5379                                         avg =       15.0\n",
      "     overall = 0.4030                                         max =         15\n",
      "\n",
      "                                                F(4,49)           =      30.57\n",
      "corr(u_i, Xb)  = 0.0342                         Prob > F          =     0.0000\n",
      "\n",
      "                             (Std. Err. adjusted for 50 clusters in state_code)\n",
      "-------------------------------------------------------------------------------\n",
      "              |               Robust\n",
      "   log_ac_cap |      Coef.   Std. Err.      t    P>|t|     [95% Conf. Interval]\n",
      "--------------+----------------------------------------------------------------\n",
      "    any_plant |   1.722187   .2323072     7.41   0.000     1.255349    2.189026\n",
      "active_sola~s |    .528411   .4066288     1.30   0.200    -.2887403    1.345562\n",
      " double_stack |   .5340896   .5816275     0.92   0.363    -.6347346    1.702914\n",
      " triple_stack |   1.028786   .4965977     2.07   0.044     .0308358    2.026737\n",
      "        _cons |   .2251322   .0973646     2.31   0.025     .0294707    .4207937\n",
      "--------------+----------------------------------------------------------------\n",
      "      sigma_u |  .74918639\n",
      "      sigma_e |  1.3026333\n",
      "          rho |  .24855933   (fraction of variance due to u_i)\n",
      "-------------------------------------------------------------------------------\n"
     ]
    }
   ],
   "source": [
    "xtset state_code year\n",
    "xtreg log_ac_cap any_plant active_solar_rps double_stack triple_stack, fe vce(cluster state_code)"
   ]
  },
  {
   "cell_type": "code",
   "execution_count": 157,
   "id": "9db682d4",
   "metadata": {},
   "outputs": [
    {
     "name": "stdout",
     "output_type": "stream",
     "text": [
      "\n",
      "\n",
      "           |     double_stack\n",
      " any_plant |         0          1 |     Total\n",
      "-----------+----------------------+----------\n",
      "         0 |       426          0 |       426 \n",
      "         1 |       200        124 |       324 \n",
      "-----------+----------------------+----------\n",
      "     Total |       626        124 |       750 \n",
      "\n",
      "\n",
      "active_sol |     double_stack\n",
      "    ar_rps |         0          1 |     Total\n",
      "-----------+----------------------+----------\n",
      "         0 |       604          0 |       604 \n",
      "         1 |        22        124 |       146 \n",
      "-----------+----------------------+----------\n",
      "     Total |       626        124 |       750 \n",
      "\n",
      "\n",
      "triple_stac |\n",
      "          k |      Freq.     Percent        Cum.\n",
      "------------+-----------------------------------\n",
      "          0 |        724       96.53       96.53\n",
      "          1 |         26        3.47      100.00\n",
      "------------+-----------------------------------\n",
      "      Total |        750      100.00\n"
     ]
    }
   ],
   "source": [
    "tab any_plant double_stack\n",
    "tab active_solar_rps double_stack\n",
    "tab triple_stack"
   ]
  },
  {
   "cell_type": "code",
   "execution_count": 11,
   "id": "401851f3",
   "metadata": {},
   "outputs": [
    {
     "data": {
      "application/pdf": "[encoded data removed]",
      "image/svg+xml": [
       "<?xml version=\"1.0\" encoding=\"UTF-8\" standalone=\"no\"?>\n",
       "<!-- This is a Stata 15.1 generated SVG file (http://www.stata.com) -->\n",
       "\n",
       "<svg version=\"1.1\" width=\"600px\" height=\"436px\" viewBox=\"0 0 3960 2880\" xmlns=\"http://www.w3.org/2000/svg\" xmlns:xlink=\"http://www.w3.org/1999/xlink\">\n",
       "\t<desc>Stata Graph - Graph</desc>\n",
       "\t<rect x=\"0\" y=\"0\" width=\"3960\" height=\"2880\" style=\"fill:#EAF2F3;stroke:none\"/>\n",
       "\t<rect x=\"0.00\" y=\"0.00\" width=\"3959.88\" height=\"2880.00\" style=\"fill:#EAF2F3\"/>\n",
       "\t<rect x=\"2.88\" y=\"2.88\" width=\"3954.12\" height=\"2874.24\" style=\"fill:none;stroke:#EAF2F3;stroke-width:5.76\"/>\n",
       "\t<rect x=\"290.81\" y=\"275.35\" width=\"3568.21\" height=\"1958.28\" style=\"fill:#FFFFFF\"/>\n",
       "\t<rect x=\"293.69\" y=\"278.23\" width=\"3562.45\" height=\"1952.52\" style=\"fill:none;stroke:#FFFFFF;stroke-width:5.76\"/>\n",
       "\t<line x1=\"290.81\" y1=\"2170.27\" x2=\"3859.02\" y2=\"2170.27\" style=\"stroke:#EAF2F3;stroke-width:8.64\"/>\n",
       "\t<line x1=\"290.81\" y1=\"1754.09\" x2=\"3859.02\" y2=\"1754.09\" style=\"stroke:#EAF2F3;stroke-width:8.64\"/>\n",
       "\t<line x1=\"290.81\" y1=\"1337.78\" x2=\"3859.02\" y2=\"1337.78\" style=\"stroke:#EAF2F3;stroke-width:8.64\"/>\n",
       "\t<line x1=\"290.81\" y1=\"921.47\" x2=\"3859.02\" y2=\"921.47\" style=\"stroke:#EAF2F3;stroke-width:8.64\"/>\n",
       "\t<line x1=\"290.81\" y1=\"505.29\" x2=\"3859.02\" y2=\"505.29\" style=\"stroke:#EAF2F3;stroke-width:8.64\"/>\n",
       "\t<path d=\" M354.05 2045.53 L583.48 2045.53 L812.91 1920.66 L1042.35 1754.09 L1271.78 1670.80 L1501.34 1462.77 L1730.77 1129.75 L1960.20 1088.04 L2189.63 963.18 L2419.07 921.60 L2648.50 796.73 L2877.93 463.71 L3107.36 380.42 L3336.80 338.84 L3566.23 338.84\" stroke-linecap=\"round\" stroke-linejoin=\"round\" style=\"fill:none;stroke:#1A476F;stroke-width:8.64\"/>\n",
       "\t<path d=\" M354.05 2170.40 L583.48 2087.11 L812.91 2045.53 L1042.35 1878.95 L1271.78 1795.79 L1501.34 1587.64 L1730.77 1296.20 L1960.20 1212.91 L2189.63 1004.88 L2419.07 963.18 L2648.50 879.89 L2877.93 588.57 L3107.36 422.00 L3336.80 338.84 L3566.23 338.84\" stroke-linecap=\"round\" stroke-linejoin=\"round\" style=\"fill:none;stroke:#90353B;stroke-width:8.64\"/>\n",
       "\t<line x1=\"290.81\" y1=\"2233.63\" x2=\"290.81\" y2=\"275.35\" style=\"stroke:#000000;stroke-width:5.76\"/>\n",
       "\t<line x1=\"290.81\" y1=\"2170.27\" x2=\"250.84\" y2=\"2170.27\" style=\"stroke:#000000;stroke-width:5.76\"/>\n",
       "\t<text x=\"200.73\" y=\"2170.27\" style=\"font-family:'Helvetica';font-size:99.99px;fill:#000000\" transform=\"rotate(-90 200.73,2170.27)\" text-anchor=\"middle\">0</text>\n",
       "\t<line x1=\"290.81\" y1=\"1754.09\" x2=\"250.84\" y2=\"1754.09\" style=\"stroke:#000000;stroke-width:5.76\"/>\n",
       "\t<text x=\"200.73\" y=\"1754.09\" style=\"font-family:'Helvetica';font-size:99.99px;fill:#000000\" transform=\"rotate(-90 200.73,1754.09)\" text-anchor=\"middle\">.2</text>\n",
       "\t<line x1=\"290.81\" y1=\"1337.78\" x2=\"250.84\" y2=\"1337.78\" style=\"stroke:#000000;stroke-width:5.76\"/>\n",
       "\t<text x=\"200.73\" y=\"1337.78\" style=\"font-family:'Helvetica';font-size:99.99px;fill:#000000\" transform=\"rotate(-90 200.73,1337.78)\" text-anchor=\"middle\">.4</text>\n",
       "\t<line x1=\"290.81\" y1=\"921.47\" x2=\"250.84\" y2=\"921.47\" style=\"stroke:#000000;stroke-width:5.76\"/>\n",
       "\t<text x=\"200.73\" y=\"921.47\" style=\"font-family:'Helvetica';font-size:99.99px;fill:#000000\" transform=\"rotate(-90 200.73,921.47)\" text-anchor=\"middle\">.6</text>\n",
       "\t<line x1=\"290.81\" y1=\"505.29\" x2=\"250.84\" y2=\"505.29\" style=\"stroke:#000000;stroke-width:5.76\"/>\n",
       "\t<text x=\"200.73\" y=\"505.29\" style=\"font-family:'Helvetica';font-size:99.99px;fill:#000000\" transform=\"rotate(-90 200.73,505.29)\" text-anchor=\"middle\">.8</text>\n",
       "\t<line x1=\"290.81\" y1=\"2233.63\" x2=\"3859.02\" y2=\"2233.63\" style=\"stroke:#000000;stroke-width:5.76\"/>\n",
       "\t<line x1=\"354.17\" y1=\"2233.63\" x2=\"354.17\" y2=\"2273.73\" style=\"stroke:#000000;stroke-width:5.76\"/>\n",
       "\t<text x=\"354.17\" y=\"2363.59\" style=\"font-family:'Helvetica';font-size:99.99px;fill:#000000\" text-anchor=\"middle\">2005</text>\n",
       "\t<line x1=\"1501.34\" y1=\"2233.63\" x2=\"1501.34\" y2=\"2273.73\" style=\"stroke:#000000;stroke-width:5.76\"/>\n",
       "\t<text x=\"1501.34\" y=\"2363.59\" style=\"font-family:'Helvetica';font-size:99.99px;fill:#000000\" text-anchor=\"middle\">2010</text>\n",
       "\t<line x1=\"2648.50\" y1=\"2233.63\" x2=\"2648.50\" y2=\"2273.73\" style=\"stroke:#000000;stroke-width:5.76\"/>\n",
       "\t<text x=\"2648.50\" y=\"2363.59\" style=\"font-family:'Helvetica';font-size:99.99px;fill:#000000\" text-anchor=\"middle\">2015</text>\n",
       "\t<line x1=\"3795.66\" y1=\"2233.63\" x2=\"3795.66\" y2=\"2273.73\" style=\"stroke:#000000;stroke-width:5.76\"/>\n",
       "\t<text x=\"3795.66\" y=\"2363.59\" style=\"font-family:'Helvetica';font-size:99.99px;fill:#000000\" text-anchor=\"middle\">2020</text>\n",
       "\t<text x=\"2074.92\" y=\"2473.60\" style=\"font-family:'Helvetica';font-size:99.99px;fill:#000000\" text-anchor=\"middle\">year</text>\n",
       "\t<rect x=\"401.32\" y=\"2558.24\" width=\"3347.31\" height=\"186.37\" style=\"fill:#FFFFFF\"/>\n",
       "\t<rect x=\"404.20\" y=\"2561.12\" width=\"3341.55\" height=\"180.61\" style=\"fill:none;stroke:#000000;stroke-width:5.76\"/>\n",
       "\t<line x1=\"444.51\" y1=\"2651.43\" x2=\"818.85\" y2=\"2651.43\" style=\"stroke:#1A476F;stroke-width:8.64\"/>\n",
       "\t<line x1=\"2182.21\" y1=\"2651.43\" x2=\"2556.55\" y2=\"2651.43\" style=\"stroke:#90353B;stroke-width:8.64\"/>\n",
       "\t<text x=\"878.87\" y=\"2686.46\" style=\"font-family:'Helvetica';font-size:99.99px;fill:#000000\">Any solar project &gt; 1 MW</text>\n",
       "\t<text x=\"2616.57\" y=\"2686.46\" style=\"font-family:'Helvetica';font-size:99.99px;fill:#000000\">IPP-owned solar project</text>\n",
       "\t<text x=\"2074.92\" y=\"215.98\" style=\"font-family:'Helvetica';font-size:139.96px;fill:#1E2D53\" text-anchor=\"middle\">% of states with utility-scale solar installations</text>\n",
       "</svg>\n"
      ],
      "text/html": [
       "                <iframe frameborder=\"0\" scrolling=\"no\" height=\"436\" width=\"600\"                srcdoc=\"<html><body>&lt;?xml version=&quot;1.0&quot; encoding=&quot;UTF-8&quot; standalone=&quot;no&quot;?&gt;\n",
       "&lt;!-- This is a Stata 15.1 generated SVG file (http://www.stata.com) --&gt;\n",
       "\n",
       "&lt;svg version=&quot;1.1&quot; width=&quot;600px&quot; height=&quot;436px&quot; viewBox=&quot;0 0 3960 2880&quot; xmlns=&quot;http://www.w3.org/2000/svg&quot; xmlns:xlink=&quot;http://www.w3.org/1999/xlink&quot;&gt;\n",
       "\t&lt;desc&gt;Stata Graph - Graph&lt;/desc&gt;\n",
       "\t&lt;rect x=&quot;0&quot; y=&quot;0&quot; width=&quot;3960&quot; height=&quot;2880&quot; style=&quot;fill:#EAF2F3;stroke:none&quot;/&gt;\n",
       "\t&lt;rect x=&quot;0.00&quot; y=&quot;0.00&quot; width=&quot;3959.88&quot; height=&quot;2880.00&quot; style=&quot;fill:#EAF2F3&quot;/&gt;\n",
       "\t&lt;rect x=&quot;2.88&quot; y=&quot;2.88&quot; width=&quot;3954.12&quot; height=&quot;2874.24&quot; style=&quot;fill:none;stroke:#EAF2F3;stroke-width:5.76&quot;/&gt;\n",
       "\t&lt;rect x=&quot;290.81&quot; y=&quot;275.35&quot; width=&quot;3568.21&quot; height=&quot;1958.28&quot; style=&quot;fill:#FFFFFF&quot;/&gt;\n",
       "\t&lt;rect x=&quot;293.69&quot; y=&quot;278.23&quot; width=&quot;3562.45&quot; height=&quot;1952.52&quot; style=&quot;fill:none;stroke:#FFFFFF;stroke-width:5.76&quot;/&gt;\n",
       "\t&lt;line x1=&quot;290.81&quot; y1=&quot;2170.27&quot; x2=&quot;3859.02&quot; y2=&quot;2170.27&quot; style=&quot;stroke:#EAF2F3;stroke-width:8.64&quot;/&gt;\n",
       "\t&lt;line x1=&quot;290.81&quot; y1=&quot;1754.09&quot; x2=&quot;3859.02&quot; y2=&quot;1754.09&quot; style=&quot;stroke:#EAF2F3;stroke-width:8.64&quot;/&gt;\n",
       "\t&lt;line x1=&quot;290.81&quot; y1=&quot;1337.78&quot; x2=&quot;3859.02&quot; y2=&quot;1337.78&quot; style=&quot;stroke:#EAF2F3;stroke-width:8.64&quot;/&gt;\n",
       "\t&lt;line x1=&quot;290.81&quot; y1=&quot;921.47&quot; x2=&quot;3859.02&quot; y2=&quot;921.47&quot; style=&quot;stroke:#EAF2F3;stroke-width:8.64&quot;/&gt;\n",
       "\t&lt;line x1=&quot;290.81&quot; y1=&quot;505.29&quot; x2=&quot;3859.02&quot; y2=&quot;505.29&quot; style=&quot;stroke:#EAF2F3;stroke-width:8.64&quot;/&gt;\n",
       "\t&lt;path d=&quot; M354.05 2045.53 L583.48 2045.53 L812.91 1920.66 L1042.35 1754.09 L1271.78 1670.80 L1501.34 1462.77 L1730.77 1129.75 L1960.20 1088.04 L2189.63 963.18 L2419.07 921.60 L2648.50 796.73 L2877.93 463.71 L3107.36 380.42 L3336.80 338.84 L3566.23 338.84&quot; stroke-linecap=&quot;round&quot; stroke-linejoin=&quot;round&quot; style=&quot;fill:none;stroke:#1A476F;stroke-width:8.64&quot;/&gt;\n",
       "\t&lt;path d=&quot; M354.05 2170.40 L583.48 2087.11 L812.91 2045.53 L1042.35 1878.95 L1271.78 1795.79 L1501.34 1587.64 L1730.77 1296.20 L1960.20 1212.91 L2189.63 1004.88 L2419.07 963.18 L2648.50 879.89 L2877.93 588.57 L3107.36 422.00 L3336.80 338.84 L3566.23 338.84&quot; stroke-linecap=&quot;round&quot; stroke-linejoin=&quot;round&quot; style=&quot;fill:none;stroke:#90353B;stroke-width:8.64&quot;/&gt;\n",
       "\t&lt;line x1=&quot;290.81&quot; y1=&quot;2233.63&quot; x2=&quot;290.81&quot; y2=&quot;275.35&quot; style=&quot;stroke:#000000;stroke-width:5.76&quot;/&gt;\n",
       "\t&lt;line x1=&quot;290.81&quot; y1=&quot;2170.27&quot; x2=&quot;250.84&quot; y2=&quot;2170.27&quot; style=&quot;stroke:#000000;stroke-width:5.76&quot;/&gt;\n",
       "\t&lt;text x=&quot;200.73&quot; y=&quot;2170.27&quot; style=&quot;font-family:&#x27;Helvetica&#x27;;font-size:99.99px;fill:#000000&quot; transform=&quot;rotate(-90 200.73,2170.27)&quot; text-anchor=&quot;middle&quot;&gt;0&lt;/text&gt;\n",
       "\t&lt;line x1=&quot;290.81&quot; y1=&quot;1754.09&quot; x2=&quot;250.84&quot; y2=&quot;1754.09&quot; style=&quot;stroke:#000000;stroke-width:5.76&quot;/&gt;\n",
       "\t&lt;text x=&quot;200.73&quot; y=&quot;1754.09&quot; style=&quot;font-family:&#x27;Helvetica&#x27;;font-size:99.99px;fill:#000000&quot; transform=&quot;rotate(-90 200.73,1754.09)&quot; text-anchor=&quot;middle&quot;&gt;.2&lt;/text&gt;\n",
       "\t&lt;line x1=&quot;290.81&quot; y1=&quot;1337.78&quot; x2=&quot;250.84&quot; y2=&quot;1337.78&quot; style=&quot;stroke:#000000;stroke-width:5.76&quot;/&gt;\n",
       "\t&lt;text x=&quot;200.73&quot; y=&quot;1337.78&quot; style=&quot;font-family:&#x27;Helvetica&#x27;;font-size:99.99px;fill:#000000&quot; transform=&quot;rotate(-90 200.73,1337.78)&quot; text-anchor=&quot;middle&quot;&gt;.4&lt;/text&gt;\n",
       "\t&lt;line x1=&quot;290.81&quot; y1=&quot;921.47&quot; x2=&quot;250.84&quot; y2=&quot;921.47&quot; style=&quot;stroke:#000000;stroke-width:5.76&quot;/&gt;\n",
       "\t&lt;text x=&quot;200.73&quot; y=&quot;921.47&quot; style=&quot;font-family:&#x27;Helvetica&#x27;;font-size:99.99px;fill:#000000&quot; transform=&quot;rotate(-90 200.73,921.47)&quot; text-anchor=&quot;middle&quot;&gt;.6&lt;/text&gt;\n",
       "\t&lt;line x1=&quot;290.81&quot; y1=&quot;505.29&quot; x2=&quot;250.84&quot; y2=&quot;505.29&quot; style=&quot;stroke:#000000;stroke-width:5.76&quot;/&gt;\n",
       "\t&lt;text x=&quot;200.73&quot; y=&quot;505.29&quot; style=&quot;font-family:&#x27;Helvetica&#x27;;font-size:99.99px;fill:#000000&quot; transform=&quot;rotate(-90 200.73,505.29)&quot; text-anchor=&quot;middle&quot;&gt;.8&lt;/text&gt;\n",
       "\t&lt;line x1=&quot;290.81&quot; y1=&quot;2233.63&quot; x2=&quot;3859.02&quot; y2=&quot;2233.63&quot; style=&quot;stroke:#000000;stroke-width:5.76&quot;/&gt;\n",
       "\t&lt;line x1=&quot;354.17&quot; y1=&quot;2233.63&quot; x2=&quot;354.17&quot; y2=&quot;2273.73&quot; style=&quot;stroke:#000000;stroke-width:5.76&quot;/&gt;\n",
       "\t&lt;text x=&quot;354.17&quot; y=&quot;2363.59&quot; style=&quot;font-family:&#x27;Helvetica&#x27;;font-size:99.99px;fill:#000000&quot; text-anchor=&quot;middle&quot;&gt;2005&lt;/text&gt;\n",
       "\t&lt;line x1=&quot;1501.34&quot; y1=&quot;2233.63&quot; x2=&quot;1501.34&quot; y2=&quot;2273.73&quot; style=&quot;stroke:#000000;stroke-width:5.76&quot;/&gt;\n",
       "\t&lt;text x=&quot;1501.34&quot; y=&quot;2363.59&quot; style=&quot;font-family:&#x27;Helvetica&#x27;;font-size:99.99px;fill:#000000&quot; text-anchor=&quot;middle&quot;&gt;2010&lt;/text&gt;\n",
       "\t&lt;line x1=&quot;2648.50&quot; y1=&quot;2233.63&quot; x2=&quot;2648.50&quot; y2=&quot;2273.73&quot; style=&quot;stroke:#000000;stroke-width:5.76&quot;/&gt;\n",
       "\t&lt;text x=&quot;2648.50&quot; y=&quot;2363.59&quot; style=&quot;font-family:&#x27;Helvetica&#x27;;font-size:99.99px;fill:#000000&quot; text-anchor=&quot;middle&quot;&gt;2015&lt;/text&gt;\n",
       "\t&lt;line x1=&quot;3795.66&quot; y1=&quot;2233.63&quot; x2=&quot;3795.66&quot; y2=&quot;2273.73&quot; style=&quot;stroke:#000000;stroke-width:5.76&quot;/&gt;\n",
       "\t&lt;text x=&quot;3795.66&quot; y=&quot;2363.59&quot; style=&quot;font-family:&#x27;Helvetica&#x27;;font-size:99.99px;fill:#000000&quot; text-anchor=&quot;middle&quot;&gt;2020&lt;/text&gt;\n",
       "\t&lt;text x=&quot;2074.92&quot; y=&quot;2473.60&quot; style=&quot;font-family:&#x27;Helvetica&#x27;;font-size:99.99px;fill:#000000&quot; text-anchor=&quot;middle&quot;&gt;year&lt;/text&gt;\n",
       "\t&lt;rect x=&quot;401.32&quot; y=&quot;2558.24&quot; width=&quot;3347.31&quot; height=&quot;186.37&quot; style=&quot;fill:#FFFFFF&quot;/&gt;\n",
       "\t&lt;rect x=&quot;404.20&quot; y=&quot;2561.12&quot; width=&quot;3341.55&quot; height=&quot;180.61&quot; style=&quot;fill:none;stroke:#000000;stroke-width:5.76&quot;/&gt;\n",
       "\t&lt;line x1=&quot;444.51&quot; y1=&quot;2651.43&quot; x2=&quot;818.85&quot; y2=&quot;2651.43&quot; style=&quot;stroke:#1A476F;stroke-width:8.64&quot;/&gt;\n",
       "\t&lt;line x1=&quot;2182.21&quot; y1=&quot;2651.43&quot; x2=&quot;2556.55&quot; y2=&quot;2651.43&quot; style=&quot;stroke:#90353B;stroke-width:8.64&quot;/&gt;\n",
       "\t&lt;text x=&quot;878.87&quot; y=&quot;2686.46&quot; style=&quot;font-family:&#x27;Helvetica&#x27;;font-size:99.99px;fill:#000000&quot;&gt;Any solar project &amp;gt; 1 MW&lt;/text&gt;\n",
       "\t&lt;text x=&quot;2616.57&quot; y=&quot;2686.46&quot; style=&quot;font-family:&#x27;Helvetica&#x27;;font-size:99.99px;fill:#000000&quot;&gt;IPP-owned solar project&lt;/text&gt;\n",
       "\t&lt;text x=&quot;2074.92&quot; y=&quot;215.98&quot; style=&quot;font-family:&#x27;Helvetica&#x27;;font-size:139.96px;fill:#1E2D53&quot; text-anchor=&quot;middle&quot;&gt;% of states with utility-scale solar installations&lt;/text&gt;\n",
       "&lt;/svg&gt;\n",
       "</body></html>\"></iframe>\n"
      ],
      "text/plain": [
       "This front-end cannot display the desired image type."
      ]
     },
     "metadata": {
      "image/svg+xml": {
       "height": 436,
       "width": 600
      },
      "text/html": {
       "height": 436,
       "width": 600
      }
     },
     "output_type": "display_data"
    }
   ],
   "source": [
    "capture restore\n",
    "capture preserve\n",
    "\n",
    "collapse (sum) first_plant first_plant_pre_sample first_ipp_plant, by(year)\n",
    "gen plants = sum(first_plant + first_plant_pre_sample)/50\n",
    "gen ipp_plants = sum(first_ipp_plant)/50\n",
    "label variable plants \"Any solar project > 1 MW\"\n",
    "label variable ipp_plants \"IPP-owned solar project\"\n",
    "\n",
    "twoway line plants year || line ipp_plants year, title(\"% of states with utility-scale solar installations\")\n",
    "\n",
    "restore"
   ]
  },
  {
   "cell_type": "code",
   "execution_count": 117,
   "id": "1532012c",
   "metadata": {},
   "outputs": [
    {
     "name": "stdout",
     "output_type": "stream",
     "text": [
      "\n",
      "\n",
      "\n",
      "\n",
      "(555 observations deleted)\n"
     ]
    },
    {
     "data": {
      "application/pdf": "[encoded data removed]",
      "image/svg+xml": [
       "<?xml version=\"1.0\" encoding=\"UTF-8\" standalone=\"no\"?>\n",
       "<!-- This is a Stata 15.1 generated SVG file (http://www.stata.com) -->\n",
       "\n",
       "<svg version=\"1.1\" width=\"600px\" height=\"436px\" viewBox=\"0 0 3960 2880\" xmlns=\"http://www.w3.org/2000/svg\" xmlns:xlink=\"http://www.w3.org/1999/xlink\">\n",
       "\t<desc>Stata Graph - Graph</desc>\n",
       "\t<rect x=\"0\" y=\"0\" width=\"3960\" height=\"2880\" style=\"fill:#EAF2F3;stroke:none\"/>\n",
       "\t<rect x=\"0.00\" y=\"0.00\" width=\"3959.88\" height=\"2880.00\" style=\"fill:#EAF2F3\"/>\n",
       "\t<rect x=\"2.88\" y=\"2.88\" width=\"3954.12\" height=\"2874.24\" style=\"fill:none;stroke:#EAF2F3;stroke-width:5.76\"/>\n",
       "\t<rect x=\"247.87\" y=\"275.35\" width=\"3611.15\" height=\"1958.28\" style=\"fill:#FFFFFF\"/>\n",
       "\t<rect x=\"250.75\" y=\"278.23\" width=\"3605.39\" height=\"1952.52\" style=\"fill:none;stroke:#FFFFFF;stroke-width:5.76\"/>\n",
       "\t<line x1=\"247.87\" y1=\"2170.27\" x2=\"3859.02\" y2=\"2170.27\" style=\"stroke:#EAF2F3;stroke-width:8.64\"/>\n",
       "\t<line x1=\"247.87\" y1=\"1559.79\" x2=\"3859.02\" y2=\"1559.79\" style=\"stroke:#EAF2F3;stroke-width:8.64\"/>\n",
       "\t<line x1=\"247.87\" y1=\"949.32\" x2=\"3859.02\" y2=\"949.32\" style=\"stroke:#EAF2F3;stroke-width:8.64\"/>\n",
       "\t<path d=\" M311.23 2048.25 L543.51 1804.08 L775.79 1315.63 L1008.07 827.17 L1240.35 705.15 L1472.62 827.17 L1705.03 827.17 L1937.31 827.17 L2169.59 949.32 L2401.86 1315.63 L2634.14 1437.77 L2866.42 1437.77 L3098.82 1804.08 L3331.10 1926.23 L3563.38 1926.23\" stroke-linecap=\"round\" stroke-linejoin=\"round\" style=\"fill:none;stroke:#1A476F;stroke-width:8.64\"/>\n",
       "\t<path d=\" M311.23 2048.25 L543.51 2048.25 L775.79 2048.25 L1008.07 1804.08 L1240.35 1681.94 L1472.62 1437.77 L1705.03 1071.46 L1937.31 949.32 L2169.59 949.32 L2401.86 949.32 L2634.14 827.17 L2866.42 705.15 L3098.82 705.15 L3331.10 705.15 L3563.38 705.15\" stroke-linecap=\"round\" stroke-linejoin=\"round\" style=\"fill:none;stroke:#90353B;stroke-width:8.64\"/>\n",
       "\t<line x1=\"247.87\" y1=\"2233.63\" x2=\"247.87\" y2=\"275.35\" style=\"stroke:#000000;stroke-width:5.76\"/>\n",
       "\t<line x1=\"247.87\" y1=\"2170.27\" x2=\"207.90\" y2=\"2170.27\" style=\"stroke:#000000;stroke-width:5.76\"/>\n",
       "\t<text x=\"157.79\" y=\"2170.27\" style=\"font-family:'Helvetica';font-size:99.99px;fill:#000000\" transform=\"rotate(-90 157.79,2170.27)\" text-anchor=\"middle\">0</text>\n",
       "\t<line x1=\"247.87\" y1=\"1559.79\" x2=\"207.90\" y2=\"1559.79\" style=\"stroke:#000000;stroke-width:5.76\"/>\n",
       "\t<text x=\"157.79\" y=\"1559.79\" style=\"font-family:'Helvetica';font-size:99.99px;fill:#000000\" transform=\"rotate(-90 157.79,1559.79)\" text-anchor=\"middle\">5</text>\n",
       "\t<line x1=\"247.87\" y1=\"949.32\" x2=\"207.90\" y2=\"949.32\" style=\"stroke:#000000;stroke-width:5.76\"/>\n",
       "\t<text x=\"157.79\" y=\"949.32\" style=\"font-family:'Helvetica';font-size:99.99px;fill:#000000\" transform=\"rotate(-90 157.79,949.32)\" text-anchor=\"middle\">10</text>\n",
       "\t<line x1=\"247.87\" y1=\"338.71\" x2=\"207.90\" y2=\"338.71\" style=\"stroke:#000000;stroke-width:5.76\"/>\n",
       "\t<text x=\"157.79\" y=\"338.71\" style=\"font-family:'Helvetica';font-size:99.99px;fill:#000000\" transform=\"rotate(-90 157.79,338.71)\" text-anchor=\"middle\">15</text>\n",
       "\t<line x1=\"247.87\" y1=\"2233.63\" x2=\"3859.02\" y2=\"2233.63\" style=\"stroke:#000000;stroke-width:5.76\"/>\n",
       "\t<line x1=\"311.23\" y1=\"2233.63\" x2=\"311.23\" y2=\"2273.73\" style=\"stroke:#000000;stroke-width:5.76\"/>\n",
       "\t<text x=\"311.23\" y=\"2363.59\" style=\"font-family:'Helvetica';font-size:99.99px;fill:#000000\" text-anchor=\"middle\">2005</text>\n",
       "\t<line x1=\"1472.75\" y1=\"2233.63\" x2=\"1472.75\" y2=\"2273.73\" style=\"stroke:#000000;stroke-width:5.76\"/>\n",
       "\t<text x=\"1472.75\" y=\"2363.59\" style=\"font-family:'Helvetica';font-size:99.99px;fill:#000000\" text-anchor=\"middle\">2010</text>\n",
       "\t<line x1=\"2634.27\" y1=\"2233.63\" x2=\"2634.27\" y2=\"2273.73\" style=\"stroke:#000000;stroke-width:5.76\"/>\n",
       "\t<text x=\"2634.27\" y=\"2363.59\" style=\"font-family:'Helvetica';font-size:99.99px;fill:#000000\" text-anchor=\"middle\">2015</text>\n",
       "\t<line x1=\"3795.66\" y1=\"2233.63\" x2=\"3795.66\" y2=\"2273.73\" style=\"stroke:#000000;stroke-width:5.76\"/>\n",
       "\t<text x=\"3795.66\" y=\"2363.59\" style=\"font-family:'Helvetica';font-size:99.99px;fill:#000000\" text-anchor=\"middle\">2020</text>\n",
       "\t<text x=\"2053.51\" y=\"2473.60\" style=\"font-family:'Helvetica';font-size:99.99px;fill:#000000\" text-anchor=\"middle\">year</text>\n",
       "\t<rect x=\"282.52\" y=\"2558.24\" width=\"3541.97\" height=\"186.37\" style=\"fill:#FFFFFF\"/>\n",
       "\t<rect x=\"285.40\" y=\"2561.12\" width=\"3536.21\" height=\"180.61\" style=\"fill:none;stroke:#000000;stroke-width:5.76\"/>\n",
       "\t<line x1=\"325.71\" y1=\"2651.43\" x2=\"612.69\" y2=\"2651.43\" style=\"stroke:#1A476F;stroke-width:8.64\"/>\n",
       "\t<line x1=\"1754.28\" y1=\"2651.43\" x2=\"2041.26\" y2=\"2651.43\" style=\"stroke:#90353B;stroke-width:8.64\"/>\n",
       "\t<text x=\"658.60\" y=\"2686.46\" style=\"font-family:'Helvetica';font-size:99.99px;fill:#000000\">States with active incentives</text>\n",
       "\t<text x=\"2087.17\" y=\"2686.46\" style=\"font-family:'Helvetica';font-size:99.99px;fill:#000000\">States with at least one utility-scale solar project</text>\n",
       "\t<text x=\"2053.51\" y=\"215.98\" style=\"font-family:'Helvetica';font-size:139.96px;fill:#1E2D53\" text-anchor=\"middle\">States with active renewable energy incentive programs</text>\n",
       "</svg>\n"
      ],
      "text/html": [
       "                <iframe frameborder=\"0\" scrolling=\"no\" height=\"436\" width=\"600\"                srcdoc=\"<html><body>&lt;?xml version=&quot;1.0&quot; encoding=&quot;UTF-8&quot; standalone=&quot;no&quot;?&gt;\n",
       "&lt;!-- This is a Stata 15.1 generated SVG file (http://www.stata.com) --&gt;\n",
       "\n",
       "&lt;svg version=&quot;1.1&quot; width=&quot;600px&quot; height=&quot;436px&quot; viewBox=&quot;0 0 3960 2880&quot; xmlns=&quot;http://www.w3.org/2000/svg&quot; xmlns:xlink=&quot;http://www.w3.org/1999/xlink&quot;&gt;\n",
       "\t&lt;desc&gt;Stata Graph - Graph&lt;/desc&gt;\n",
       "\t&lt;rect x=&quot;0&quot; y=&quot;0&quot; width=&quot;3960&quot; height=&quot;2880&quot; style=&quot;fill:#EAF2F3;stroke:none&quot;/&gt;\n",
       "\t&lt;rect x=&quot;0.00&quot; y=&quot;0.00&quot; width=&quot;3959.88&quot; height=&quot;2880.00&quot; style=&quot;fill:#EAF2F3&quot;/&gt;\n",
       "\t&lt;rect x=&quot;2.88&quot; y=&quot;2.88&quot; width=&quot;3954.12&quot; height=&quot;2874.24&quot; style=&quot;fill:none;stroke:#EAF2F3;stroke-width:5.76&quot;/&gt;\n",
       "\t&lt;rect x=&quot;247.87&quot; y=&quot;275.35&quot; width=&quot;3611.15&quot; height=&quot;1958.28&quot; style=&quot;fill:#FFFFFF&quot;/&gt;\n",
       "\t&lt;rect x=&quot;250.75&quot; y=&quot;278.23&quot; width=&quot;3605.39&quot; height=&quot;1952.52&quot; style=&quot;fill:none;stroke:#FFFFFF;stroke-width:5.76&quot;/&gt;\n",
       "\t&lt;line x1=&quot;247.87&quot; y1=&quot;2170.27&quot; x2=&quot;3859.02&quot; y2=&quot;2170.27&quot; style=&quot;stroke:#EAF2F3;stroke-width:8.64&quot;/&gt;\n",
       "\t&lt;line x1=&quot;247.87&quot; y1=&quot;1559.79&quot; x2=&quot;3859.02&quot; y2=&quot;1559.79&quot; style=&quot;stroke:#EAF2F3;stroke-width:8.64&quot;/&gt;\n",
       "\t&lt;line x1=&quot;247.87&quot; y1=&quot;949.32&quot; x2=&quot;3859.02&quot; y2=&quot;949.32&quot; style=&quot;stroke:#EAF2F3;stroke-width:8.64&quot;/&gt;\n",
       "\t&lt;path d=&quot; M311.23 2048.25 L543.51 1804.08 L775.79 1315.63 L1008.07 827.17 L1240.35 705.15 L1472.62 827.17 L1705.03 827.17 L1937.31 827.17 L2169.59 949.32 L2401.86 1315.63 L2634.14 1437.77 L2866.42 1437.77 L3098.82 1804.08 L3331.10 1926.23 L3563.38 1926.23&quot; stroke-linecap=&quot;round&quot; stroke-linejoin=&quot;round&quot; style=&quot;fill:none;stroke:#1A476F;stroke-width:8.64&quot;/&gt;\n",
       "\t&lt;path d=&quot; M311.23 2048.25 L543.51 2048.25 L775.79 2048.25 L1008.07 1804.08 L1240.35 1681.94 L1472.62 1437.77 L1705.03 1071.46 L1937.31 949.32 L2169.59 949.32 L2401.86 949.32 L2634.14 827.17 L2866.42 705.15 L3098.82 705.15 L3331.10 705.15 L3563.38 705.15&quot; stroke-linecap=&quot;round&quot; stroke-linejoin=&quot;round&quot; style=&quot;fill:none;stroke:#90353B;stroke-width:8.64&quot;/&gt;\n",
       "\t&lt;line x1=&quot;247.87&quot; y1=&quot;2233.63&quot; x2=&quot;247.87&quot; y2=&quot;275.35&quot; style=&quot;stroke:#000000;stroke-width:5.76&quot;/&gt;\n",
       "\t&lt;line x1=&quot;247.87&quot; y1=&quot;2170.27&quot; x2=&quot;207.90&quot; y2=&quot;2170.27&quot; style=&quot;stroke:#000000;stroke-width:5.76&quot;/&gt;\n",
       "\t&lt;text x=&quot;157.79&quot; y=&quot;2170.27&quot; style=&quot;font-family:&#x27;Helvetica&#x27;;font-size:99.99px;fill:#000000&quot; transform=&quot;rotate(-90 157.79,2170.27)&quot; text-anchor=&quot;middle&quot;&gt;0&lt;/text&gt;\n",
       "\t&lt;line x1=&quot;247.87&quot; y1=&quot;1559.79&quot; x2=&quot;207.90&quot; y2=&quot;1559.79&quot; style=&quot;stroke:#000000;stroke-width:5.76&quot;/&gt;\n",
       "\t&lt;text x=&quot;157.79&quot; y=&quot;1559.79&quot; style=&quot;font-family:&#x27;Helvetica&#x27;;font-size:99.99px;fill:#000000&quot; transform=&quot;rotate(-90 157.79,1559.79)&quot; text-anchor=&quot;middle&quot;&gt;5&lt;/text&gt;\n",
       "\t&lt;line x1=&quot;247.87&quot; y1=&quot;949.32&quot; x2=&quot;207.90&quot; y2=&quot;949.32&quot; style=&quot;stroke:#000000;stroke-width:5.76&quot;/&gt;\n",
       "\t&lt;text x=&quot;157.79&quot; y=&quot;949.32&quot; style=&quot;font-family:&#x27;Helvetica&#x27;;font-size:99.99px;fill:#000000&quot; transform=&quot;rotate(-90 157.79,949.32)&quot; text-anchor=&quot;middle&quot;&gt;10&lt;/text&gt;\n",
       "\t&lt;line x1=&quot;247.87&quot; y1=&quot;338.71&quot; x2=&quot;207.90&quot; y2=&quot;338.71&quot; style=&quot;stroke:#000000;stroke-width:5.76&quot;/&gt;\n",
       "\t&lt;text x=&quot;157.79&quot; y=&quot;338.71&quot; style=&quot;font-family:&#x27;Helvetica&#x27;;font-size:99.99px;fill:#000000&quot; transform=&quot;rotate(-90 157.79,338.71)&quot; text-anchor=&quot;middle&quot;&gt;15&lt;/text&gt;\n",
       "\t&lt;line x1=&quot;247.87&quot; y1=&quot;2233.63&quot; x2=&quot;3859.02&quot; y2=&quot;2233.63&quot; style=&quot;stroke:#000000;stroke-width:5.76&quot;/&gt;\n",
       "\t&lt;line x1=&quot;311.23&quot; y1=&quot;2233.63&quot; x2=&quot;311.23&quot; y2=&quot;2273.73&quot; style=&quot;stroke:#000000;stroke-width:5.76&quot;/&gt;\n",
       "\t&lt;text x=&quot;311.23&quot; y=&quot;2363.59&quot; style=&quot;font-family:&#x27;Helvetica&#x27;;font-size:99.99px;fill:#000000&quot; text-anchor=&quot;middle&quot;&gt;2005&lt;/text&gt;\n",
       "\t&lt;line x1=&quot;1472.75&quot; y1=&quot;2233.63&quot; x2=&quot;1472.75&quot; y2=&quot;2273.73&quot; style=&quot;stroke:#000000;stroke-width:5.76&quot;/&gt;\n",
       "\t&lt;text x=&quot;1472.75&quot; y=&quot;2363.59&quot; style=&quot;font-family:&#x27;Helvetica&#x27;;font-size:99.99px;fill:#000000&quot; text-anchor=&quot;middle&quot;&gt;2010&lt;/text&gt;\n",
       "\t&lt;line x1=&quot;2634.27&quot; y1=&quot;2233.63&quot; x2=&quot;2634.27&quot; y2=&quot;2273.73&quot; style=&quot;stroke:#000000;stroke-width:5.76&quot;/&gt;\n",
       "\t&lt;text x=&quot;2634.27&quot; y=&quot;2363.59&quot; style=&quot;font-family:&#x27;Helvetica&#x27;;font-size:99.99px;fill:#000000&quot; text-anchor=&quot;middle&quot;&gt;2015&lt;/text&gt;\n",
       "\t&lt;line x1=&quot;3795.66&quot; y1=&quot;2233.63&quot; x2=&quot;3795.66&quot; y2=&quot;2273.73&quot; style=&quot;stroke:#000000;stroke-width:5.76&quot;/&gt;\n",
       "\t&lt;text x=&quot;3795.66&quot; y=&quot;2363.59&quot; style=&quot;font-family:&#x27;Helvetica&#x27;;font-size:99.99px;fill:#000000&quot; text-anchor=&quot;middle&quot;&gt;2020&lt;/text&gt;\n",
       "\t&lt;text x=&quot;2053.51&quot; y=&quot;2473.60&quot; style=&quot;font-family:&#x27;Helvetica&#x27;;font-size:99.99px;fill:#000000&quot; text-anchor=&quot;middle&quot;&gt;year&lt;/text&gt;\n",
       "\t&lt;rect x=&quot;282.52&quot; y=&quot;2558.24&quot; width=&quot;3541.97&quot; height=&quot;186.37&quot; style=&quot;fill:#FFFFFF&quot;/&gt;\n",
       "\t&lt;rect x=&quot;285.40&quot; y=&quot;2561.12&quot; width=&quot;3536.21&quot; height=&quot;180.61&quot; style=&quot;fill:none;stroke:#000000;stroke-width:5.76&quot;/&gt;\n",
       "\t&lt;line x1=&quot;325.71&quot; y1=&quot;2651.43&quot; x2=&quot;612.69&quot; y2=&quot;2651.43&quot; style=&quot;stroke:#1A476F;stroke-width:8.64&quot;/&gt;\n",
       "\t&lt;line x1=&quot;1754.28&quot; y1=&quot;2651.43&quot; x2=&quot;2041.26&quot; y2=&quot;2651.43&quot; style=&quot;stroke:#90353B;stroke-width:8.64&quot;/&gt;\n",
       "\t&lt;text x=&quot;658.60&quot; y=&quot;2686.46&quot; style=&quot;font-family:&#x27;Helvetica&#x27;;font-size:99.99px;fill:#000000&quot;&gt;States with active incentives&lt;/text&gt;\n",
       "\t&lt;text x=&quot;2087.17&quot; y=&quot;2686.46&quot; style=&quot;font-family:&#x27;Helvetica&#x27;;font-size:99.99px;fill:#000000&quot;&gt;States with at least one utility-scale solar project&lt;/text&gt;\n",
       "\t&lt;text x=&quot;2053.51&quot; y=&quot;215.98&quot; style=&quot;font-family:&#x27;Helvetica&#x27;;font-size:139.96px;fill:#1E2D53&quot; text-anchor=&quot;middle&quot;&gt;States with active renewable energy incentive programs&lt;/text&gt;\n",
       "&lt;/svg&gt;\n",
       "</body></html>\"></iframe>\n"
      ],
      "text/plain": [
       "This front-end cannot display the desired image type."
      ]
     },
     "metadata": {
      "image/svg+xml": {
       "height": 436,
       "width": 600
      },
      "text/html": {
       "height": 436,
       "width": 600
      }
     },
     "output_type": "display_data"
    },
    {
     "name": "stdout",
     "output_type": "stream",
     "text": [
      "\n",
      "\n",
      "\n",
      "\n",
      "\n",
      "\n",
      "\n",
      "\n",
      "\n"
     ]
    }
   ],
   "source": [
    "capture restore\n",
    "capture preserve\n",
    "\n",
    "\n",
    "bysort state: egen any_tc = max(itc_introduced + ptc_introduced)\n",
    "drop if any_tc == 0 \n",
    "\n",
    "global policy_list \"first_plant first_plant_pre_sample first_ipp_plant ptc_introduced ptc_expired itc_introduced itc_expired\"\n",
    "\n",
    "collapse (sum) $policy_list, by(year)\n",
    "gen cum_tc = sum(itc_introduced+ptc_introduced - ptc_expired -itc_expired)\n",
    "gen plants = sum(first_plant + first_plant_pre_sample)\n",
    "label variable cum_tc \"States with active incentives\"\n",
    "label variable plants \"States with at least one utility-scale solar project\"\n",
    "\n",
    "twoway line cum_tc year || line plants year, title(\"States with active renewable energy incentive programs\") \n",
    "\n",
    "restore"
   ]
  },
  {
   "cell_type": "code",
   "execution_count": 118,
   "id": "b9727827",
   "metadata": {},
   "outputs": [
    {
     "name": "stdout",
     "output_type": "stream",
     "text": [
      "\n",
      "variable active_itc already defined\n"
     ]
    },
    {
     "name": "stderr",
     "output_type": "stream",
     "text": [
      "r(110);\n",
      "r(110);\n"
     ]
    },
    {
     "name": "stdout",
     "output_type": "stream",
     "text": [
      "\n",
      "\n"
     ]
    }
   ],
   "source": [
    "gen active_itc = 0\n",
    "replace active_itc = 1 if year >= itc_start_yr & year <= itc_end_yr  \n",
    "gen active_ptc = 0\n",
    "replace active_ptc = 1 if year >= ptc_start_yr & year <= ptc_end_yr  "
   ]
  },
  {
   "cell_type": "code",
   "execution_count": 115,
   "id": "aaf5626e",
   "metadata": {},
   "outputs": [],
   "source": [
    "capture restore\n",
    "capture preserve\n",
    "\n",
    "bysort state: egen active_tc = max(active_itc + active_ptc)\n",
    "collapse (sum) active_tc first_plant first_plant_pre_sample, by(year)\n",
    "// bysort active_tc (year): gen plants = sum(first_plant+first_plant_pre_sample)"
   ]
  },
  {
   "cell_type": "code",
   "execution_count": 112,
   "id": "7f5b53fb",
   "metadata": {
    "scrolled": true
   },
   "outputs": [
    {
     "data": {
      "application/pdf": "[encoded data removed]",
      "image/svg+xml": [
       "<?xml version=\"1.0\" encoding=\"UTF-8\" standalone=\"no\"?>\n",
       "<!-- This is a Stata 15.1 generated SVG file (http://www.stata.com) -->\n",
       "\n",
       "<svg version=\"1.1\" width=\"600px\" height=\"436px\" viewBox=\"0 0 3960 2880\" xmlns=\"http://www.w3.org/2000/svg\" xmlns:xlink=\"http://www.w3.org/1999/xlink\">\n",
       "\t<desc>Stata Graph - Graph</desc>\n",
       "\t<rect x=\"0\" y=\"0\" width=\"3960\" height=\"2880\" style=\"fill:#EAF2F3;stroke:none\"/>\n",
       "\t<rect x=\"0.00\" y=\"0.00\" width=\"3959.88\" height=\"2880.00\" style=\"fill:#EAF2F3\"/>\n",
       "\t<rect x=\"2.88\" y=\"2.88\" width=\"3954.12\" height=\"2874.24\" style=\"fill:none;stroke:#EAF2F3;stroke-width:5.76\"/>\n",
       "\t<rect x=\"355.04\" y=\"275.35\" width=\"3503.98\" height=\"1958.28\" style=\"fill:#FFFFFF\"/>\n",
       "\t<rect x=\"357.92\" y=\"278.23\" width=\"3498.22\" height=\"1952.52\" style=\"fill:none;stroke:#FFFFFF;stroke-width:5.76\"/>\n",
       "\t<line x1=\"355.04\" y1=\"2170.27\" x2=\"3859.02\" y2=\"2170.27\" style=\"stroke:#EAF2F3;stroke-width:8.64\"/>\n",
       "\t<line x1=\"355.04\" y1=\"1597.91\" x2=\"3859.02\" y2=\"1597.91\" style=\"stroke:#EAF2F3;stroke-width:8.64\"/>\n",
       "\t<line x1=\"355.04\" y1=\"1025.55\" x2=\"3859.02\" y2=\"1025.55\" style=\"stroke:#EAF2F3;stroke-width:8.64\"/>\n",
       "\t<line x1=\"355.04\" y1=\"453.19\" x2=\"3859.02\" y2=\"453.19\" style=\"stroke:#EAF2F3;stroke-width:8.64\"/>\n",
       "\t<path d=\" M418.40 2055.92 L643.50 2055.92 L868.73 1884.15 L1093.83 1769.68 L1318.93 1712.51 L1544.15 1540.74 L1769.25 1254.62 L1994.48 1254.62 L2219.58 1082.85 L2444.80 1025.67 L2669.91 911.20 L2895.01 510.48 L3120.23 396.01 L3345.33 338.84 L3570.56 338.84\" stroke-linecap=\"round\" stroke-linejoin=\"round\" style=\"fill:none;stroke:#1A476F;stroke-width:8.64\"/>\n",
       "\t<path d=\" M418.40 2113.10 L643.50 2113.10 L868.73 2113.10 L1093.83 1998.62 L1318.93 1941.45 L1544.15 1826.98 L1769.25 1655.21 L1994.48 1598.03 L2219.58 1598.03 L2444.80 1598.03 L2669.91 1540.74 L2895.01 1483.56 L3120.23 1483.56 L3345.33 1483.56 L3570.56 1483.56\" stroke-linecap=\"round\" stroke-linejoin=\"round\" style=\"fill:none;stroke:#90353B;stroke-width:8.64\"/>\n",
       "\t<line x1=\"355.04\" y1=\"2233.63\" x2=\"355.04\" y2=\"275.35\" style=\"stroke:#000000;stroke-width:5.76\"/>\n",
       "\t<line x1=\"355.04\" y1=\"2170.27\" x2=\"315.07\" y2=\"2170.27\" style=\"stroke:#000000;stroke-width:5.76\"/>\n",
       "\t<text x=\"264.96\" y=\"2170.27\" style=\"font-family:'Helvetica';font-size:99.99px;fill:#000000\" transform=\"rotate(-90 264.96,2170.27)\" text-anchor=\"middle\">0</text>\n",
       "\t<line x1=\"355.04\" y1=\"1597.91\" x2=\"315.07\" y2=\"1597.91\" style=\"stroke:#000000;stroke-width:5.76\"/>\n",
       "\t<text x=\"264.96\" y=\"1597.91\" style=\"font-family:'Helvetica';font-size:99.99px;fill:#000000\" transform=\"rotate(-90 264.96,1597.91)\" text-anchor=\"middle\">10</text>\n",
       "\t<line x1=\"355.04\" y1=\"1025.55\" x2=\"315.07\" y2=\"1025.55\" style=\"stroke:#000000;stroke-width:5.76\"/>\n",
       "\t<text x=\"264.96\" y=\"1025.55\" style=\"font-family:'Helvetica';font-size:99.99px;fill:#000000\" transform=\"rotate(-90 264.96,1025.55)\" text-anchor=\"middle\">20</text>\n",
       "\t<line x1=\"355.04\" y1=\"453.19\" x2=\"315.07\" y2=\"453.19\" style=\"stroke:#000000;stroke-width:5.76\"/>\n",
       "\t<text x=\"264.96\" y=\"453.19\" style=\"font-family:'Helvetica';font-size:99.99px;fill:#000000\" transform=\"rotate(-90 264.96,453.19)\" text-anchor=\"middle\">30</text>\n",
       "\t<text x=\"190.71\" y=\"1254.49\" style=\"font-family:'Helvetica';font-size:99.99px;fill:#000000\" transform=\"rotate(-90 190.71,1254.49)\" text-anchor=\"middle\">plants</text>\n",
       "\t<line x1=\"355.04\" y1=\"2233.63\" x2=\"3859.02\" y2=\"2233.63\" style=\"stroke:#000000;stroke-width:5.76\"/>\n",
       "\t<line x1=\"418.40\" y1=\"2233.63\" x2=\"418.40\" y2=\"2273.73\" style=\"stroke:#000000;stroke-width:5.76\"/>\n",
       "\t<text x=\"418.40\" y=\"2363.59\" style=\"font-family:'Helvetica';font-size:99.99px;fill:#000000\" text-anchor=\"middle\">2005</text>\n",
       "\t<line x1=\"1544.15\" y1=\"2233.63\" x2=\"1544.15\" y2=\"2273.73\" style=\"stroke:#000000;stroke-width:5.76\"/>\n",
       "\t<text x=\"1544.15\" y=\"2363.59\" style=\"font-family:'Helvetica';font-size:99.99px;fill:#000000\" text-anchor=\"middle\">2010</text>\n",
       "\t<line x1=\"2669.91\" y1=\"2233.63\" x2=\"2669.91\" y2=\"2273.73\" style=\"stroke:#000000;stroke-width:5.76\"/>\n",
       "\t<text x=\"2669.91\" y=\"2363.59\" style=\"font-family:'Helvetica';font-size:99.99px;fill:#000000\" text-anchor=\"middle\">2015</text>\n",
       "\t<line x1=\"3795.66\" y1=\"2233.63\" x2=\"3795.66\" y2=\"2273.73\" style=\"stroke:#000000;stroke-width:5.76\"/>\n",
       "\t<text x=\"3795.66\" y=\"2363.59\" style=\"font-family:'Helvetica';font-size:99.99px;fill:#000000\" text-anchor=\"middle\">2020</text>\n",
       "\t<text x=\"2107.09\" y=\"2473.60\" style=\"font-family:'Helvetica';font-size:99.99px;fill:#000000\" text-anchor=\"middle\">year</text>\n",
       "\t<rect x=\"389.69\" y=\"2558.24\" width=\"3434.81\" height=\"186.37\" style=\"fill:#FFFFFF\"/>\n",
       "\t<rect x=\"392.57\" y=\"2561.12\" width=\"3429.05\" height=\"180.61\" style=\"fill:none;stroke:#000000;stroke-width:5.76\"/>\n",
       "\t<line x1=\"432.88\" y1=\"2651.43\" x2=\"759.21\" y2=\"2651.43\" style=\"stroke:#1A476F;stroke-width:8.64\"/>\n",
       "\t<line x1=\"1922.33\" y1=\"2651.43\" x2=\"2248.78\" y2=\"2651.43\" style=\"stroke:#90353B;stroke-width:8.64\"/>\n",
       "\t<text x=\"811.55\" y=\"2686.46\" style=\"font-family:'Helvetica';font-size:99.99px;fill:#000000\">States without incentives</text>\n",
       "\t<text x=\"2301.01\" y=\"2686.46\" style=\"font-family:'Helvetica';font-size:99.99px;fill:#000000\">States with active incentive progrmas</text>\n",
       "\t<text x=\"2107.09\" y=\"215.98\" style=\"font-family:'Helvetica';font-size:139.96px;fill:#1E2D53\" text-anchor=\"middle\">% of states with any project &gt; 1 MW</text>\n",
       "</svg>\n"
      ],
      "text/html": [
       "                <iframe frameborder=\"0\" scrolling=\"no\" height=\"436\" width=\"600\"                srcdoc=\"<html><body>&lt;?xml version=&quot;1.0&quot; encoding=&quot;UTF-8&quot; standalone=&quot;no&quot;?&gt;\n",
       "&lt;!-- This is a Stata 15.1 generated SVG file (http://www.stata.com) --&gt;\n",
       "\n",
       "&lt;svg version=&quot;1.1&quot; width=&quot;600px&quot; height=&quot;436px&quot; viewBox=&quot;0 0 3960 2880&quot; xmlns=&quot;http://www.w3.org/2000/svg&quot; xmlns:xlink=&quot;http://www.w3.org/1999/xlink&quot;&gt;\n",
       "\t&lt;desc&gt;Stata Graph - Graph&lt;/desc&gt;\n",
       "\t&lt;rect x=&quot;0&quot; y=&quot;0&quot; width=&quot;3960&quot; height=&quot;2880&quot; style=&quot;fill:#EAF2F3;stroke:none&quot;/&gt;\n",
       "\t&lt;rect x=&quot;0.00&quot; y=&quot;0.00&quot; width=&quot;3959.88&quot; height=&quot;2880.00&quot; style=&quot;fill:#EAF2F3&quot;/&gt;\n",
       "\t&lt;rect x=&quot;2.88&quot; y=&quot;2.88&quot; width=&quot;3954.12&quot; height=&quot;2874.24&quot; style=&quot;fill:none;stroke:#EAF2F3;stroke-width:5.76&quot;/&gt;\n",
       "\t&lt;rect x=&quot;355.04&quot; y=&quot;275.35&quot; width=&quot;3503.98&quot; height=&quot;1958.28&quot; style=&quot;fill:#FFFFFF&quot;/&gt;\n",
       "\t&lt;rect x=&quot;357.92&quot; y=&quot;278.23&quot; width=&quot;3498.22&quot; height=&quot;1952.52&quot; style=&quot;fill:none;stroke:#FFFFFF;stroke-width:5.76&quot;/&gt;\n",
       "\t&lt;line x1=&quot;355.04&quot; y1=&quot;2170.27&quot; x2=&quot;3859.02&quot; y2=&quot;2170.27&quot; style=&quot;stroke:#EAF2F3;stroke-width:8.64&quot;/&gt;\n",
       "\t&lt;line x1=&quot;355.04&quot; y1=&quot;1597.91&quot; x2=&quot;3859.02&quot; y2=&quot;1597.91&quot; style=&quot;stroke:#EAF2F3;stroke-width:8.64&quot;/&gt;\n",
       "\t&lt;line x1=&quot;355.04&quot; y1=&quot;1025.55&quot; x2=&quot;3859.02&quot; y2=&quot;1025.55&quot; style=&quot;stroke:#EAF2F3;stroke-width:8.64&quot;/&gt;\n",
       "\t&lt;line x1=&quot;355.04&quot; y1=&quot;453.19&quot; x2=&quot;3859.02&quot; y2=&quot;453.19&quot; style=&quot;stroke:#EAF2F3;stroke-width:8.64&quot;/&gt;\n",
       "\t&lt;path d=&quot; M418.40 2055.92 L643.50 2055.92 L868.73 1884.15 L1093.83 1769.68 L1318.93 1712.51 L1544.15 1540.74 L1769.25 1254.62 L1994.48 1254.62 L2219.58 1082.85 L2444.80 1025.67 L2669.91 911.20 L2895.01 510.48 L3120.23 396.01 L3345.33 338.84 L3570.56 338.84&quot; stroke-linecap=&quot;round&quot; stroke-linejoin=&quot;round&quot; style=&quot;fill:none;stroke:#1A476F;stroke-width:8.64&quot;/&gt;\n",
       "\t&lt;path d=&quot; M418.40 2113.10 L643.50 2113.10 L868.73 2113.10 L1093.83 1998.62 L1318.93 1941.45 L1544.15 1826.98 L1769.25 1655.21 L1994.48 1598.03 L2219.58 1598.03 L2444.80 1598.03 L2669.91 1540.74 L2895.01 1483.56 L3120.23 1483.56 L3345.33 1483.56 L3570.56 1483.56&quot; stroke-linecap=&quot;round&quot; stroke-linejoin=&quot;round&quot; style=&quot;fill:none;stroke:#90353B;stroke-width:8.64&quot;/&gt;\n",
       "\t&lt;line x1=&quot;355.04&quot; y1=&quot;2233.63&quot; x2=&quot;355.04&quot; y2=&quot;275.35&quot; style=&quot;stroke:#000000;stroke-width:5.76&quot;/&gt;\n",
       "\t&lt;line x1=&quot;355.04&quot; y1=&quot;2170.27&quot; x2=&quot;315.07&quot; y2=&quot;2170.27&quot; style=&quot;stroke:#000000;stroke-width:5.76&quot;/&gt;\n",
       "\t&lt;text x=&quot;264.96&quot; y=&quot;2170.27&quot; style=&quot;font-family:&#x27;Helvetica&#x27;;font-size:99.99px;fill:#000000&quot; transform=&quot;rotate(-90 264.96,2170.27)&quot; text-anchor=&quot;middle&quot;&gt;0&lt;/text&gt;\n",
       "\t&lt;line x1=&quot;355.04&quot; y1=&quot;1597.91&quot; x2=&quot;315.07&quot; y2=&quot;1597.91&quot; style=&quot;stroke:#000000;stroke-width:5.76&quot;/&gt;\n",
       "\t&lt;text x=&quot;264.96&quot; y=&quot;1597.91&quot; style=&quot;font-family:&#x27;Helvetica&#x27;;font-size:99.99px;fill:#000000&quot; transform=&quot;rotate(-90 264.96,1597.91)&quot; text-anchor=&quot;middle&quot;&gt;10&lt;/text&gt;\n",
       "\t&lt;line x1=&quot;355.04&quot; y1=&quot;1025.55&quot; x2=&quot;315.07&quot; y2=&quot;1025.55&quot; style=&quot;stroke:#000000;stroke-width:5.76&quot;/&gt;\n",
       "\t&lt;text x=&quot;264.96&quot; y=&quot;1025.55&quot; style=&quot;font-family:&#x27;Helvetica&#x27;;font-size:99.99px;fill:#000000&quot; transform=&quot;rotate(-90 264.96,1025.55)&quot; text-anchor=&quot;middle&quot;&gt;20&lt;/text&gt;\n",
       "\t&lt;line x1=&quot;355.04&quot; y1=&quot;453.19&quot; x2=&quot;315.07&quot; y2=&quot;453.19&quot; style=&quot;stroke:#000000;stroke-width:5.76&quot;/&gt;\n",
       "\t&lt;text x=&quot;264.96&quot; y=&quot;453.19&quot; style=&quot;font-family:&#x27;Helvetica&#x27;;font-size:99.99px;fill:#000000&quot; transform=&quot;rotate(-90 264.96,453.19)&quot; text-anchor=&quot;middle&quot;&gt;30&lt;/text&gt;\n",
       "\t&lt;text x=&quot;190.71&quot; y=&quot;1254.49&quot; style=&quot;font-family:&#x27;Helvetica&#x27;;font-size:99.99px;fill:#000000&quot; transform=&quot;rotate(-90 190.71,1254.49)&quot; text-anchor=&quot;middle&quot;&gt;plants&lt;/text&gt;\n",
       "\t&lt;line x1=&quot;355.04&quot; y1=&quot;2233.63&quot; x2=&quot;3859.02&quot; y2=&quot;2233.63&quot; style=&quot;stroke:#000000;stroke-width:5.76&quot;/&gt;\n",
       "\t&lt;line x1=&quot;418.40&quot; y1=&quot;2233.63&quot; x2=&quot;418.40&quot; y2=&quot;2273.73&quot; style=&quot;stroke:#000000;stroke-width:5.76&quot;/&gt;\n",
       "\t&lt;text x=&quot;418.40&quot; y=&quot;2363.59&quot; style=&quot;font-family:&#x27;Helvetica&#x27;;font-size:99.99px;fill:#000000&quot; text-anchor=&quot;middle&quot;&gt;2005&lt;/text&gt;\n",
       "\t&lt;line x1=&quot;1544.15&quot; y1=&quot;2233.63&quot; x2=&quot;1544.15&quot; y2=&quot;2273.73&quot; style=&quot;stroke:#000000;stroke-width:5.76&quot;/&gt;\n",
       "\t&lt;text x=&quot;1544.15&quot; y=&quot;2363.59&quot; style=&quot;font-family:&#x27;Helvetica&#x27;;font-size:99.99px;fill:#000000&quot; text-anchor=&quot;middle&quot;&gt;2010&lt;/text&gt;\n",
       "\t&lt;line x1=&quot;2669.91&quot; y1=&quot;2233.63&quot; x2=&quot;2669.91&quot; y2=&quot;2273.73&quot; style=&quot;stroke:#000000;stroke-width:5.76&quot;/&gt;\n",
       "\t&lt;text x=&quot;2669.91&quot; y=&quot;2363.59&quot; style=&quot;font-family:&#x27;Helvetica&#x27;;font-size:99.99px;fill:#000000&quot; text-anchor=&quot;middle&quot;&gt;2015&lt;/text&gt;\n",
       "\t&lt;line x1=&quot;3795.66&quot; y1=&quot;2233.63&quot; x2=&quot;3795.66&quot; y2=&quot;2273.73&quot; style=&quot;stroke:#000000;stroke-width:5.76&quot;/&gt;\n",
       "\t&lt;text x=&quot;3795.66&quot; y=&quot;2363.59&quot; style=&quot;font-family:&#x27;Helvetica&#x27;;font-size:99.99px;fill:#000000&quot; text-anchor=&quot;middle&quot;&gt;2020&lt;/text&gt;\n",
       "\t&lt;text x=&quot;2107.09&quot; y=&quot;2473.60&quot; style=&quot;font-family:&#x27;Helvetica&#x27;;font-size:99.99px;fill:#000000&quot; text-anchor=&quot;middle&quot;&gt;year&lt;/text&gt;\n",
       "\t&lt;rect x=&quot;389.69&quot; y=&quot;2558.24&quot; width=&quot;3434.81&quot; height=&quot;186.37&quot; style=&quot;fill:#FFFFFF&quot;/&gt;\n",
       "\t&lt;rect x=&quot;392.57&quot; y=&quot;2561.12&quot; width=&quot;3429.05&quot; height=&quot;180.61&quot; style=&quot;fill:none;stroke:#000000;stroke-width:5.76&quot;/&gt;\n",
       "\t&lt;line x1=&quot;432.88&quot; y1=&quot;2651.43&quot; x2=&quot;759.21&quot; y2=&quot;2651.43&quot; style=&quot;stroke:#1A476F;stroke-width:8.64&quot;/&gt;\n",
       "\t&lt;line x1=&quot;1922.33&quot; y1=&quot;2651.43&quot; x2=&quot;2248.78&quot; y2=&quot;2651.43&quot; style=&quot;stroke:#90353B;stroke-width:8.64&quot;/&gt;\n",
       "\t&lt;text x=&quot;811.55&quot; y=&quot;2686.46&quot; style=&quot;font-family:&#x27;Helvetica&#x27;;font-size:99.99px;fill:#000000&quot;&gt;States without incentives&lt;/text&gt;\n",
       "\t&lt;text x=&quot;2301.01&quot; y=&quot;2686.46&quot; style=&quot;font-family:&#x27;Helvetica&#x27;;font-size:99.99px;fill:#000000&quot;&gt;States with active incentive progrmas&lt;/text&gt;\n",
       "\t&lt;text x=&quot;2107.09&quot; y=&quot;215.98&quot; style=&quot;font-family:&#x27;Helvetica&#x27;;font-size:139.96px;fill:#1E2D53&quot; text-anchor=&quot;middle&quot;&gt;% of states with any project &amp;gt; 1 MW&lt;/text&gt;\n",
       "&lt;/svg&gt;\n",
       "</body></html>\"></iframe>\n"
      ],
      "text/plain": [
       "This front-end cannot display the desired image type."
      ]
     },
     "metadata": {
      "image/svg+xml": {
       "height": 436,
       "width": 600
      },
      "text/html": {
       "height": 436,
       "width": 600
      }
     },
     "output_type": "display_data"
    }
   ],
   "source": [
    "twoway line plants year if active_tc == 0 || line plants year if active_tc == 1, title(\"% of states with any project > 1 MW\") legend(label(1 \"States without incentives\") label(2 \"States with active incentive progrmas\"))"
   ]
  },
  {
   "cell_type": "code",
   "execution_count": 105,
   "id": "50f75c17",
   "metadata": {},
   "outputs": [],
   "source": [
    "capture restore\n",
    "capture preserve\n",
    "\n",
    "bysort state: egen any_tc = max(itc_introduced + ptc_introduced)\n",
    "collapse (sum) first_plant first_plant_pre_sample, by(year any_tc)\n",
    "bysort any_tc (year): gen plants = sum(first_plant+first_plant_pre_sample)"
   ]
  },
  {
   "cell_type": "code",
   "execution_count": 106,
   "id": "916a83ef",
   "metadata": {},
   "outputs": [
    {
     "name": "stdout",
     "output_type": "stream",
     "text": [
      "\n",
      "(15 missing values generated)\n",
      "\n",
      "(15 real changes made)\n"
     ]
    }
   ],
   "source": [
    "gen p_true = plants/15 if any_tc == 1\n",
    "replace p_true = plants/35 if any_tc == 0 "
   ]
  },
  {
   "cell_type": "code",
   "execution_count": 99,
   "id": "fd0fb721",
   "metadata": {},
   "outputs": [
    {
     "data": {
      "application/pdf": "[encoded data removed]",
      "image/svg+xml": [
       "<?xml version=\"1.0\" encoding=\"UTF-8\" standalone=\"no\"?>\n",
       "<!-- This is a Stata 15.1 generated SVG file (http://www.stata.com) -->\n",
       "\n",
       "<svg version=\"1.1\" width=\"600px\" height=\"436px\" viewBox=\"0 0 3960 2880\" xmlns=\"http://www.w3.org/2000/svg\" xmlns:xlink=\"http://www.w3.org/1999/xlink\">\n",
       "\t<desc>Stata Graph - Graph</desc>\n",
       "\t<rect x=\"0\" y=\"0\" width=\"3960\" height=\"2880\" style=\"fill:#EAF2F3;stroke:none\"/>\n",
       "\t<rect x=\"0.00\" y=\"0.00\" width=\"3959.88\" height=\"2880.00\" style=\"fill:#EAF2F3\"/>\n",
       "\t<rect x=\"2.88\" y=\"2.88\" width=\"3954.12\" height=\"2874.24\" style=\"fill:none;stroke:#EAF2F3;stroke-width:5.76\"/>\n",
       "\t<rect x=\"390.80\" y=\"275.35\" width=\"3468.22\" height=\"1958.28\" style=\"fill:#FFFFFF\"/>\n",
       "\t<rect x=\"393.68\" y=\"278.23\" width=\"3462.46\" height=\"1952.52\" style=\"fill:none;stroke:#FFFFFF;stroke-width:5.76\"/>\n",
       "\t<line x1=\"390.80\" y1=\"2170.27\" x2=\"3859.02\" y2=\"2170.27\" style=\"stroke:#EAF2F3;stroke-width:8.64\"/>\n",
       "\t<line x1=\"390.80\" y1=\"1803.96\" x2=\"3859.02\" y2=\"1803.96\" style=\"stroke:#EAF2F3;stroke-width:8.64\"/>\n",
       "\t<line x1=\"390.80\" y1=\"1437.65\" x2=\"3859.02\" y2=\"1437.65\" style=\"stroke:#EAF2F3;stroke-width:8.64\"/>\n",
       "\t<line x1=\"390.80\" y1=\"1071.34\" x2=\"3859.02\" y2=\"1071.34\" style=\"stroke:#EAF2F3;stroke-width:8.64\"/>\n",
       "\t<line x1=\"390.80\" y1=\"705.03\" x2=\"3859.02\" y2=\"705.03\" style=\"stroke:#EAF2F3;stroke-width:8.64\"/>\n",
       "\t<line x1=\"390.80\" y1=\"338.71\" x2=\"3859.02\" y2=\"338.71\" style=\"stroke:#EAF2F3;stroke-width:8.64\"/>\n",
       "\t<path d=\" M454.04 2065.70 L676.79 2065.70 L899.66 1908.78 L1122.41 1804.08 L1345.16 1751.74 L1567.91 1594.69 L1790.66 1333.08 L2013.54 1333.08 L2236.29 1176.03 L2459.04 1123.81 L2681.79 1019.11 L2904.54 652.80 L3127.29 548.11 L3350.16 495.76 L3572.91 495.76\" stroke-linecap=\"round\" stroke-linejoin=\"round\" style=\"fill:none;stroke:#1A476F;stroke-width:8.64\"/>\n",
       "\t<path d=\" M454.04 2048.25 L676.79 2048.25 L899.66 2048.25 L1122.41 1804.08 L1345.16 1681.94 L1567.91 1437.77 L1790.66 1071.46 L2013.54 949.32 L2236.29 949.32 L2459.04 949.32 L2681.79 827.17 L2904.54 705.15 L3127.29 705.15 L3350.16 705.15 L3572.91 705.15\" stroke-linecap=\"round\" stroke-linejoin=\"round\" style=\"fill:none;stroke:#90353B;stroke-width:8.64\"/>\n",
       "\t<line x1=\"390.80\" y1=\"2233.63\" x2=\"390.80\" y2=\"275.35\" style=\"stroke:#000000;stroke-width:5.76\"/>\n",
       "\t<line x1=\"390.80\" y1=\"2170.27\" x2=\"350.83\" y2=\"2170.27\" style=\"stroke:#000000;stroke-width:5.76\"/>\n",
       "\t<text x=\"300.72\" y=\"2170.27\" style=\"font-family:'Helvetica';font-size:99.99px;fill:#000000\" transform=\"rotate(-90 300.72,2170.27)\" text-anchor=\"middle\">0</text>\n",
       "\t<line x1=\"390.80\" y1=\"1803.96\" x2=\"350.83\" y2=\"1803.96\" style=\"stroke:#000000;stroke-width:5.76\"/>\n",
       "\t<text x=\"300.72\" y=\"1803.96\" style=\"font-family:'Helvetica';font-size:99.99px;fill:#000000\" transform=\"rotate(-90 300.72,1803.96)\" text-anchor=\"middle\">.2</text>\n",
       "\t<line x1=\"390.80\" y1=\"1437.65\" x2=\"350.83\" y2=\"1437.65\" style=\"stroke:#000000;stroke-width:5.76\"/>\n",
       "\t<text x=\"300.72\" y=\"1437.65\" style=\"font-family:'Helvetica';font-size:99.99px;fill:#000000\" transform=\"rotate(-90 300.72,1437.65)\" text-anchor=\"middle\">.4</text>\n",
       "\t<line x1=\"390.80\" y1=\"1071.34\" x2=\"350.83\" y2=\"1071.34\" style=\"stroke:#000000;stroke-width:5.76\"/>\n",
       "\t<text x=\"300.72\" y=\"1071.34\" style=\"font-family:'Helvetica';font-size:99.99px;fill:#000000\" transform=\"rotate(-90 300.72,1071.34)\" text-anchor=\"middle\">.6</text>\n",
       "\t<line x1=\"390.80\" y1=\"705.03\" x2=\"350.83\" y2=\"705.03\" style=\"stroke:#000000;stroke-width:5.76\"/>\n",
       "\t<text x=\"300.72\" y=\"705.03\" style=\"font-family:'Helvetica';font-size:99.99px;fill:#000000\" transform=\"rotate(-90 300.72,705.03)\" text-anchor=\"middle\">.8</text>\n",
       "\t<line x1=\"390.80\" y1=\"338.71\" x2=\"350.83\" y2=\"338.71\" style=\"stroke:#000000;stroke-width:5.76\"/>\n",
       "\t<text x=\"300.72\" y=\"338.71\" style=\"font-family:'Helvetica';font-size:99.99px;fill:#000000\" transform=\"rotate(-90 300.72,338.71)\" text-anchor=\"middle\">1</text>\n",
       "\t<text x=\"190.71\" y=\"1254.49\" style=\"font-family:'Helvetica';font-size:99.99px;fill:#000000\" transform=\"rotate(-90 190.71,1254.49)\" text-anchor=\"middle\">p_true</text>\n",
       "\t<line x1=\"390.80\" y1=\"2233.63\" x2=\"3859.02\" y2=\"2233.63\" style=\"stroke:#000000;stroke-width:5.76\"/>\n",
       "\t<line x1=\"454.16\" y1=\"2233.63\" x2=\"454.16\" y2=\"2273.73\" style=\"stroke:#000000;stroke-width:5.76\"/>\n",
       "\t<text x=\"454.16\" y=\"2363.59\" style=\"font-family:'Helvetica';font-size:99.99px;fill:#000000\" text-anchor=\"middle\">2005</text>\n",
       "\t<line x1=\"1568.04\" y1=\"2233.63\" x2=\"1568.04\" y2=\"2273.73\" style=\"stroke:#000000;stroke-width:5.76\"/>\n",
       "\t<text x=\"1568.04\" y=\"2363.59\" style=\"font-family:'Helvetica';font-size:99.99px;fill:#000000\" text-anchor=\"middle\">2010</text>\n",
       "\t<line x1=\"2681.91\" y1=\"2233.63\" x2=\"2681.91\" y2=\"2273.73\" style=\"stroke:#000000;stroke-width:5.76\"/>\n",
       "\t<text x=\"2681.91\" y=\"2363.59\" style=\"font-family:'Helvetica';font-size:99.99px;fill:#000000\" text-anchor=\"middle\">2015</text>\n",
       "\t<line x1=\"3795.66\" y1=\"2233.63\" x2=\"3795.66\" y2=\"2273.73\" style=\"stroke:#000000;stroke-width:5.76\"/>\n",
       "\t<text x=\"3795.66\" y=\"2363.59\" style=\"font-family:'Helvetica';font-size:99.99px;fill:#000000\" text-anchor=\"middle\">2020</text>\n",
       "\t<text x=\"2124.91\" y=\"2473.60\" style=\"font-family:'Helvetica';font-size:99.99px;fill:#000000\" text-anchor=\"middle\">year</text>\n",
       "\t<rect x=\"514.80\" y=\"2558.24\" width=\"3220.22\" height=\"186.37\" style=\"fill:#FFFFFF\"/>\n",
       "\t<rect x=\"517.68\" y=\"2561.12\" width=\"3214.46\" height=\"180.61\" style=\"fill:none;stroke:#000000;stroke-width:5.76\"/>\n",
       "\t<line x1=\"557.99\" y1=\"2651.43\" x2=\"932.33\" y2=\"2651.43\" style=\"stroke:#1A476F;stroke-width:8.64\"/>\n",
       "\t<line x1=\"2266.36\" y1=\"2651.43\" x2=\"2640.70\" y2=\"2651.43\" style=\"stroke:#90353B;stroke-width:8.64\"/>\n",
       "\t<text x=\"992.35\" y=\"2686.46\" style=\"font-family:'Helvetica';font-size:99.99px;fill:#000000\">States without incentives</text>\n",
       "\t<text x=\"2700.72\" y=\"2686.46\" style=\"font-family:'Helvetica';font-size:99.99px;fill:#000000\">States with incentives</text>\n",
       "\t<text x=\"2124.91\" y=\"215.98\" style=\"font-family:'Helvetica';font-size:139.96px;fill:#1E2D53\" text-anchor=\"middle\">% of states with any project &gt; 1 MW</text>\n",
       "</svg>\n"
      ],
      "text/html": [
       "                <iframe frameborder=\"0\" scrolling=\"no\" height=\"436\" width=\"600\"                srcdoc=\"<html><body>&lt;?xml version=&quot;1.0&quot; encoding=&quot;UTF-8&quot; standalone=&quot;no&quot;?&gt;\n",
       "&lt;!-- This is a Stata 15.1 generated SVG file (http://www.stata.com) --&gt;\n",
       "\n",
       "&lt;svg version=&quot;1.1&quot; width=&quot;600px&quot; height=&quot;436px&quot; viewBox=&quot;0 0 3960 2880&quot; xmlns=&quot;http://www.w3.org/2000/svg&quot; xmlns:xlink=&quot;http://www.w3.org/1999/xlink&quot;&gt;\n",
       "\t&lt;desc&gt;Stata Graph - Graph&lt;/desc&gt;\n",
       "\t&lt;rect x=&quot;0&quot; y=&quot;0&quot; width=&quot;3960&quot; height=&quot;2880&quot; style=&quot;fill:#EAF2F3;stroke:none&quot;/&gt;\n",
       "\t&lt;rect x=&quot;0.00&quot; y=&quot;0.00&quot; width=&quot;3959.88&quot; height=&quot;2880.00&quot; style=&quot;fill:#EAF2F3&quot;/&gt;\n",
       "\t&lt;rect x=&quot;2.88&quot; y=&quot;2.88&quot; width=&quot;3954.12&quot; height=&quot;2874.24&quot; style=&quot;fill:none;stroke:#EAF2F3;stroke-width:5.76&quot;/&gt;\n",
       "\t&lt;rect x=&quot;390.80&quot; y=&quot;275.35&quot; width=&quot;3468.22&quot; height=&quot;1958.28&quot; style=&quot;fill:#FFFFFF&quot;/&gt;\n",
       "\t&lt;rect x=&quot;393.68&quot; y=&quot;278.23&quot; width=&quot;3462.46&quot; height=&quot;1952.52&quot; style=&quot;fill:none;stroke:#FFFFFF;stroke-width:5.76&quot;/&gt;\n",
       "\t&lt;line x1=&quot;390.80&quot; y1=&quot;2170.27&quot; x2=&quot;3859.02&quot; y2=&quot;2170.27&quot; style=&quot;stroke:#EAF2F3;stroke-width:8.64&quot;/&gt;\n",
       "\t&lt;line x1=&quot;390.80&quot; y1=&quot;1803.96&quot; x2=&quot;3859.02&quot; y2=&quot;1803.96&quot; style=&quot;stroke:#EAF2F3;stroke-width:8.64&quot;/&gt;\n",
       "\t&lt;line x1=&quot;390.80&quot; y1=&quot;1437.65&quot; x2=&quot;3859.02&quot; y2=&quot;1437.65&quot; style=&quot;stroke:#EAF2F3;stroke-width:8.64&quot;/&gt;\n",
       "\t&lt;line x1=&quot;390.80&quot; y1=&quot;1071.34&quot; x2=&quot;3859.02&quot; y2=&quot;1071.34&quot; style=&quot;stroke:#EAF2F3;stroke-width:8.64&quot;/&gt;\n",
       "\t&lt;line x1=&quot;390.80&quot; y1=&quot;705.03&quot; x2=&quot;3859.02&quot; y2=&quot;705.03&quot; style=&quot;stroke:#EAF2F3;stroke-width:8.64&quot;/&gt;\n",
       "\t&lt;line x1=&quot;390.80&quot; y1=&quot;338.71&quot; x2=&quot;3859.02&quot; y2=&quot;338.71&quot; style=&quot;stroke:#EAF2F3;stroke-width:8.64&quot;/&gt;\n",
       "\t&lt;path d=&quot; M454.04 2065.70 L676.79 2065.70 L899.66 1908.78 L1122.41 1804.08 L1345.16 1751.74 L1567.91 1594.69 L1790.66 1333.08 L2013.54 1333.08 L2236.29 1176.03 L2459.04 1123.81 L2681.79 1019.11 L2904.54 652.80 L3127.29 548.11 L3350.16 495.76 L3572.91 495.76&quot; stroke-linecap=&quot;round&quot; stroke-linejoin=&quot;round&quot; style=&quot;fill:none;stroke:#1A476F;stroke-width:8.64&quot;/&gt;\n",
       "\t&lt;path d=&quot; M454.04 2048.25 L676.79 2048.25 L899.66 2048.25 L1122.41 1804.08 L1345.16 1681.94 L1567.91 1437.77 L1790.66 1071.46 L2013.54 949.32 L2236.29 949.32 L2459.04 949.32 L2681.79 827.17 L2904.54 705.15 L3127.29 705.15 L3350.16 705.15 L3572.91 705.15&quot; stroke-linecap=&quot;round&quot; stroke-linejoin=&quot;round&quot; style=&quot;fill:none;stroke:#90353B;stroke-width:8.64&quot;/&gt;\n",
       "\t&lt;line x1=&quot;390.80&quot; y1=&quot;2233.63&quot; x2=&quot;390.80&quot; y2=&quot;275.35&quot; style=&quot;stroke:#000000;stroke-width:5.76&quot;/&gt;\n",
       "\t&lt;line x1=&quot;390.80&quot; y1=&quot;2170.27&quot; x2=&quot;350.83&quot; y2=&quot;2170.27&quot; style=&quot;stroke:#000000;stroke-width:5.76&quot;/&gt;\n",
       "\t&lt;text x=&quot;300.72&quot; y=&quot;2170.27&quot; style=&quot;font-family:&#x27;Helvetica&#x27;;font-size:99.99px;fill:#000000&quot; transform=&quot;rotate(-90 300.72,2170.27)&quot; text-anchor=&quot;middle&quot;&gt;0&lt;/text&gt;\n",
       "\t&lt;line x1=&quot;390.80&quot; y1=&quot;1803.96&quot; x2=&quot;350.83&quot; y2=&quot;1803.96&quot; style=&quot;stroke:#000000;stroke-width:5.76&quot;/&gt;\n",
       "\t&lt;text x=&quot;300.72&quot; y=&quot;1803.96&quot; style=&quot;font-family:&#x27;Helvetica&#x27;;font-size:99.99px;fill:#000000&quot; transform=&quot;rotate(-90 300.72,1803.96)&quot; text-anchor=&quot;middle&quot;&gt;.2&lt;/text&gt;\n",
       "\t&lt;line x1=&quot;390.80&quot; y1=&quot;1437.65&quot; x2=&quot;350.83&quot; y2=&quot;1437.65&quot; style=&quot;stroke:#000000;stroke-width:5.76&quot;/&gt;\n",
       "\t&lt;text x=&quot;300.72&quot; y=&quot;1437.65&quot; style=&quot;font-family:&#x27;Helvetica&#x27;;font-size:99.99px;fill:#000000&quot; transform=&quot;rotate(-90 300.72,1437.65)&quot; text-anchor=&quot;middle&quot;&gt;.4&lt;/text&gt;\n",
       "\t&lt;line x1=&quot;390.80&quot; y1=&quot;1071.34&quot; x2=&quot;350.83&quot; y2=&quot;1071.34&quot; style=&quot;stroke:#000000;stroke-width:5.76&quot;/&gt;\n",
       "\t&lt;text x=&quot;300.72&quot; y=&quot;1071.34&quot; style=&quot;font-family:&#x27;Helvetica&#x27;;font-size:99.99px;fill:#000000&quot; transform=&quot;rotate(-90 300.72,1071.34)&quot; text-anchor=&quot;middle&quot;&gt;.6&lt;/text&gt;\n",
       "\t&lt;line x1=&quot;390.80&quot; y1=&quot;705.03&quot; x2=&quot;350.83&quot; y2=&quot;705.03&quot; style=&quot;stroke:#000000;stroke-width:5.76&quot;/&gt;\n",
       "\t&lt;text x=&quot;300.72&quot; y=&quot;705.03&quot; style=&quot;font-family:&#x27;Helvetica&#x27;;font-size:99.99px;fill:#000000&quot; transform=&quot;rotate(-90 300.72,705.03)&quot; text-anchor=&quot;middle&quot;&gt;.8&lt;/text&gt;\n",
       "\t&lt;line x1=&quot;390.80&quot; y1=&quot;338.71&quot; x2=&quot;350.83&quot; y2=&quot;338.71&quot; style=&quot;stroke:#000000;stroke-width:5.76&quot;/&gt;\n",
       "\t&lt;text x=&quot;300.72&quot; y=&quot;338.71&quot; style=&quot;font-family:&#x27;Helvetica&#x27;;font-size:99.99px;fill:#000000&quot; transform=&quot;rotate(-90 300.72,338.71)&quot; text-anchor=&quot;middle&quot;&gt;1&lt;/text&gt;\n",
       "\t&lt;text x=&quot;190.71&quot; y=&quot;1254.49&quot; style=&quot;font-family:&#x27;Helvetica&#x27;;font-size:99.99px;fill:#000000&quot; transform=&quot;rotate(-90 190.71,1254.49)&quot; text-anchor=&quot;middle&quot;&gt;p_true&lt;/text&gt;\n",
       "\t&lt;line x1=&quot;390.80&quot; y1=&quot;2233.63&quot; x2=&quot;3859.02&quot; y2=&quot;2233.63&quot; style=&quot;stroke:#000000;stroke-width:5.76&quot;/&gt;\n",
       "\t&lt;line x1=&quot;454.16&quot; y1=&quot;2233.63&quot; x2=&quot;454.16&quot; y2=&quot;2273.73&quot; style=&quot;stroke:#000000;stroke-width:5.76&quot;/&gt;\n",
       "\t&lt;text x=&quot;454.16&quot; y=&quot;2363.59&quot; style=&quot;font-family:&#x27;Helvetica&#x27;;font-size:99.99px;fill:#000000&quot; text-anchor=&quot;middle&quot;&gt;2005&lt;/text&gt;\n",
       "\t&lt;line x1=&quot;1568.04&quot; y1=&quot;2233.63&quot; x2=&quot;1568.04&quot; y2=&quot;2273.73&quot; style=&quot;stroke:#000000;stroke-width:5.76&quot;/&gt;\n",
       "\t&lt;text x=&quot;1568.04&quot; y=&quot;2363.59&quot; style=&quot;font-family:&#x27;Helvetica&#x27;;font-size:99.99px;fill:#000000&quot; text-anchor=&quot;middle&quot;&gt;2010&lt;/text&gt;\n",
       "\t&lt;line x1=&quot;2681.91&quot; y1=&quot;2233.63&quot; x2=&quot;2681.91&quot; y2=&quot;2273.73&quot; style=&quot;stroke:#000000;stroke-width:5.76&quot;/&gt;\n",
       "\t&lt;text x=&quot;2681.91&quot; y=&quot;2363.59&quot; style=&quot;font-family:&#x27;Helvetica&#x27;;font-size:99.99px;fill:#000000&quot; text-anchor=&quot;middle&quot;&gt;2015&lt;/text&gt;\n",
       "\t&lt;line x1=&quot;3795.66&quot; y1=&quot;2233.63&quot; x2=&quot;3795.66&quot; y2=&quot;2273.73&quot; style=&quot;stroke:#000000;stroke-width:5.76&quot;/&gt;\n",
       "\t&lt;text x=&quot;3795.66&quot; y=&quot;2363.59&quot; style=&quot;font-family:&#x27;Helvetica&#x27;;font-size:99.99px;fill:#000000&quot; text-anchor=&quot;middle&quot;&gt;2020&lt;/text&gt;\n",
       "\t&lt;text x=&quot;2124.91&quot; y=&quot;2473.60&quot; style=&quot;font-family:&#x27;Helvetica&#x27;;font-size:99.99px;fill:#000000&quot; text-anchor=&quot;middle&quot;&gt;year&lt;/text&gt;\n",
       "\t&lt;rect x=&quot;514.80&quot; y=&quot;2558.24&quot; width=&quot;3220.22&quot; height=&quot;186.37&quot; style=&quot;fill:#FFFFFF&quot;/&gt;\n",
       "\t&lt;rect x=&quot;517.68&quot; y=&quot;2561.12&quot; width=&quot;3214.46&quot; height=&quot;180.61&quot; style=&quot;fill:none;stroke:#000000;stroke-width:5.76&quot;/&gt;\n",
       "\t&lt;line x1=&quot;557.99&quot; y1=&quot;2651.43&quot; x2=&quot;932.33&quot; y2=&quot;2651.43&quot; style=&quot;stroke:#1A476F;stroke-width:8.64&quot;/&gt;\n",
       "\t&lt;line x1=&quot;2266.36&quot; y1=&quot;2651.43&quot; x2=&quot;2640.70&quot; y2=&quot;2651.43&quot; style=&quot;stroke:#90353B;stroke-width:8.64&quot;/&gt;\n",
       "\t&lt;text x=&quot;992.35&quot; y=&quot;2686.46&quot; style=&quot;font-family:&#x27;Helvetica&#x27;;font-size:99.99px;fill:#000000&quot;&gt;States without incentives&lt;/text&gt;\n",
       "\t&lt;text x=&quot;2700.72&quot; y=&quot;2686.46&quot; style=&quot;font-family:&#x27;Helvetica&#x27;;font-size:99.99px;fill:#000000&quot;&gt;States with incentives&lt;/text&gt;\n",
       "\t&lt;text x=&quot;2124.91&quot; y=&quot;215.98&quot; style=&quot;font-family:&#x27;Helvetica&#x27;;font-size:139.96px;fill:#1E2D53&quot; text-anchor=&quot;middle&quot;&gt;% of states with any project &amp;gt; 1 MW&lt;/text&gt;\n",
       "&lt;/svg&gt;\n",
       "</body></html>\"></iframe>\n"
      ],
      "text/plain": [
       "This front-end cannot display the desired image type."
      ]
     },
     "metadata": {
      "image/svg+xml": {
       "height": 436,
       "width": 600
      },
      "text/html": {
       "height": 436,
       "width": 600
      }
     },
     "output_type": "display_data"
    }
   ],
   "source": [
    "twoway line p_true year if any_tc == 0 || line p_true year if any_tc == 1, title(\"% of states with any project > 1 MW\") legend(label(1 \"States without incentives\") label(2 \"States with incentives\"))"
   ]
  },
  {
   "cell_type": "code",
   "execution_count": null,
   "id": "75708806",
   "metadata": {},
   "outputs": [],
   "source": []
  }
 ],
 "metadata": {
  "kernelspec": {
   "display_name": "Stata",
   "language": "stata",
   "name": "stata"
  },
  "language_info": {
   "codemirror_mode": "stata",
   "file_extension": ".do",
   "mimetype": "text/x-stata",
   "name": "stata",
   "version": "15.1"
  }
 },
 "nbformat": 4,
 "nbformat_minor": 5
}
